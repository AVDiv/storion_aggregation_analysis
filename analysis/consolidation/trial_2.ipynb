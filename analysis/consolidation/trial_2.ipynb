{
 "cells": [
  {
   "cell_type": "markdown",
   "metadata": {},
   "source": [
    "# Trial 2 \n",
    "something different, maybe. Hope this works! :')"
   ]
  },
  {
   "cell_type": "markdown",
   "metadata": {},
   "source": [
    "Importing the data and clean it up a bit."
   ]
  },
  {
   "cell_type": "code",
   "execution_count": 1,
   "metadata": {},
   "outputs": [],
   "source": [
    "import numpy as np\n",
    "import pandas as pd\n",
    "from deltalake import DeltaTable\n",
    "from tqdm import tqdm"
   ]
  },
  {
   "cell_type": "code",
   "execution_count": 2,
   "metadata": {},
   "outputs": [],
   "source": [
    "tbl = DeltaTable('../data/articles')"
   ]
  },
  {
   "cell_type": "code",
   "execution_count": 3,
   "metadata": {},
   "outputs": [],
   "source": [
    "df = tbl.to_pandas()"
   ]
  },
  {
   "cell_type": "code",
   "execution_count": 4,
   "metadata": {},
   "outputs": [
    {
     "data": {
      "text/html": [
       "<div>\n",
       "<style scoped>\n",
       "    .dataframe tbody tr th:only-of-type {\n",
       "        vertical-align: middle;\n",
       "    }\n",
       "\n",
       "    .dataframe tbody tr th {\n",
       "        vertical-align: top;\n",
       "    }\n",
       "\n",
       "    .dataframe thead th {\n",
       "        text-align: right;\n",
       "    }\n",
       "</style>\n",
       "<table border=\"1\" class=\"dataframe\">\n",
       "  <thead>\n",
       "    <tr style=\"text-align: right;\">\n",
       "      <th></th>\n",
       "      <th>id</th>\n",
       "      <th>title</th>\n",
       "      <th>author</th>\n",
       "      <th>publication_date</th>\n",
       "      <th>source</th>\n",
       "      <th>url</th>\n",
       "      <th>summary</th>\n",
       "      <th>content</th>\n",
       "      <th>tags</th>\n",
       "      <th>categories</th>\n",
       "      <th>images</th>\n",
       "    </tr>\n",
       "  </thead>\n",
       "  <tbody>\n",
       "    <tr>\n",
       "      <th>0</th>\n",
       "      <td>672960439902a3465058b1f0</td>\n",
       "      <td>Datadog challenger Dash0 aims to dash observab...</td>\n",
       "      <td>Anna Heim ,Devin Coldewey ,Marina Temkin ,Maxw...</td>\n",
       "      <td>2024-11-04T00:00:00.000000</td>\n",
       "      <td>ArticleSource(id=ObjectId('6696759a347e0ad7140...</td>\n",
       "      <td>https://techcrunch.com/2024/11/04/datadog-chal...</td>\n",
       "      <td></td>\n",
       "      <td>The end of zero-interest rates has driven comp...</td>\n",
       "      <td>Fundraising ,Startups ,observability ,cloud co...</td>\n",
       "      <td>NULL</td>\n",
       "      <td>https://techcrunch.com/wp-content/uploads/2024...</td>\n",
       "    </tr>\n",
       "    <tr>\n",
       "      <th>1</th>\n",
       "      <td>67295ff69902a3465058b1ef</td>\n",
       "      <td>Karen tries to claim ownership of the place sh...</td>\n",
       "      <td>NULL</td>\n",
       "      <td>NULL</td>\n",
       "      <td>ArticleSource(id=ObjectId('6696759a347e0ad7140...</td>\n",
       "      <td>https://cheezburger.com/37613061/karen-tries-t...</td>\n",
       "      <td></td>\n",
       "      <td>Scroll down for the next article</td>\n",
       "      <td>entitled parents ,housing ,Random Memes ,Geek ...</td>\n",
       "      <td>NULL</td>\n",
       "      <td>https://i.chzbgr.com/full/10424000000/hAC1368F...</td>\n",
       "    </tr>\n",
       "    <tr>\n",
       "      <th>2</th>\n",
       "      <td>67295f349902a3465058b1ee</td>\n",
       "      <td>Elon Musk's ex Grimes takes swipe at Tesla bil...</td>\n",
       "      <td>Eve Buckland ,Eve Buckland For Dailymail.Com ,...</td>\n",
       "      <td>2024-11-04T21:53:57.000000+0000</td>\n",
       "      <td>ArticleSource(id=ObjectId('6696759a347e0ad7140...</td>\n",
       "      <td>https://www.dailymail.co.uk/tvshowbiz/article-...</td>\n",
       "      <td></td>\n",
       "      <td>Elon Musk's ex Grimes took a savage swipe at t...</td>\n",
       "      <td>NULL</td>\n",
       "      <td>NULL</td>\n",
       "      <td>https://i.dailymail.co.uk/1s/2024/11/03/05/916...</td>\n",
       "    </tr>\n",
       "    <tr>\n",
       "      <th>3</th>\n",
       "      <td>67295f059902a3465058b1ed</td>\n",
       "      <td>Kansas City Chiefs find success in bringing ba...</td>\n",
       "      <td>Adam Teicher ,Jenna Laine ,Todd Archer ,Kather...</td>\n",
       "      <td>NULL</td>\n",
       "      <td>ArticleSource(id=ObjectId('6696759a347e0ad7140...</td>\n",
       "      <td>https://www.espn.com/nfl/story/_/id/42171653/k...</td>\n",
       "      <td></td>\n",
       "      <td>Get ready for an electric Week 9 Monday Night ...</td>\n",
       "      <td>NULL</td>\n",
       "      <td>NULL</td>\n",
       "      <td>https://a2.espncdn.com/combiner/i?img=%2Fphoto...</td>\n",
       "    </tr>\n",
       "    <tr>\n",
       "      <th>4</th>\n",
       "      <td>67295dd59902a3465058b1ec</td>\n",
       "      <td>CMS’s Medical Debt Relief Will Worsen Medical ...</td>\n",
       "      <td>Ge Bai ,Ge Baicontributoropinions Expressed Fo...</td>\n",
       "      <td>2024-11-04T00:00:00.000000</td>\n",
       "      <td>ArticleSource(id=ObjectId('6696759a347e0ad7140...</td>\n",
       "      <td>https://www.forbes.com/sites/gebai/2024/11/04/...</td>\n",
       "      <td></td>\n",
       "      <td>Man collects money with magnet from human crow...</td>\n",
       "      <td>NULL</td>\n",
       "      <td>NULL</td>\n",
       "      <td>https://specials-images.forbesimg.com/imageser...</td>\n",
       "    </tr>\n",
       "  </tbody>\n",
       "</table>\n",
       "</div>"
      ],
      "text/plain": [
       "                         id  \\\n",
       "0  672960439902a3465058b1f0   \n",
       "1  67295ff69902a3465058b1ef   \n",
       "2  67295f349902a3465058b1ee   \n",
       "3  67295f059902a3465058b1ed   \n",
       "4  67295dd59902a3465058b1ec   \n",
       "\n",
       "                                               title  \\\n",
       "0  Datadog challenger Dash0 aims to dash observab...   \n",
       "1  Karen tries to claim ownership of the place sh...   \n",
       "2  Elon Musk's ex Grimes takes swipe at Tesla bil...   \n",
       "3  Kansas City Chiefs find success in bringing ba...   \n",
       "4  CMS’s Medical Debt Relief Will Worsen Medical ...   \n",
       "\n",
       "                                              author  \\\n",
       "0  Anna Heim ,Devin Coldewey ,Marina Temkin ,Maxw...   \n",
       "1                                               NULL   \n",
       "2  Eve Buckland ,Eve Buckland For Dailymail.Com ,...   \n",
       "3  Adam Teicher ,Jenna Laine ,Todd Archer ,Kather...   \n",
       "4  Ge Bai ,Ge Baicontributoropinions Expressed Fo...   \n",
       "\n",
       "                  publication_date  \\\n",
       "0       2024-11-04T00:00:00.000000   \n",
       "1                             NULL   \n",
       "2  2024-11-04T21:53:57.000000+0000   \n",
       "3                             NULL   \n",
       "4       2024-11-04T00:00:00.000000   \n",
       "\n",
       "                                              source  \\\n",
       "0  ArticleSource(id=ObjectId('6696759a347e0ad7140...   \n",
       "1  ArticleSource(id=ObjectId('6696759a347e0ad7140...   \n",
       "2  ArticleSource(id=ObjectId('6696759a347e0ad7140...   \n",
       "3  ArticleSource(id=ObjectId('6696759a347e0ad7140...   \n",
       "4  ArticleSource(id=ObjectId('6696759a347e0ad7140...   \n",
       "\n",
       "                                                 url summary  \\\n",
       "0  https://techcrunch.com/2024/11/04/datadog-chal...           \n",
       "1  https://cheezburger.com/37613061/karen-tries-t...           \n",
       "2  https://www.dailymail.co.uk/tvshowbiz/article-...           \n",
       "3  https://www.espn.com/nfl/story/_/id/42171653/k...           \n",
       "4  https://www.forbes.com/sites/gebai/2024/11/04/...           \n",
       "\n",
       "                                             content  \\\n",
       "0  The end of zero-interest rates has driven comp...   \n",
       "1                   Scroll down for the next article   \n",
       "2  Elon Musk's ex Grimes took a savage swipe at t...   \n",
       "3  Get ready for an electric Week 9 Monday Night ...   \n",
       "4  Man collects money with magnet from human crow...   \n",
       "\n",
       "                                                tags categories  \\\n",
       "0  Fundraising ,Startups ,observability ,cloud co...       NULL   \n",
       "1  entitled parents ,housing ,Random Memes ,Geek ...       NULL   \n",
       "2                                               NULL       NULL   \n",
       "3                                               NULL       NULL   \n",
       "4                                               NULL       NULL   \n",
       "\n",
       "                                              images  \n",
       "0  https://techcrunch.com/wp-content/uploads/2024...  \n",
       "1  https://i.chzbgr.com/full/10424000000/hAC1368F...  \n",
       "2  https://i.dailymail.co.uk/1s/2024/11/03/05/916...  \n",
       "3  https://a2.espncdn.com/combiner/i?img=%2Fphoto...  \n",
       "4  https://specials-images.forbesimg.com/imageser...  "
      ]
     },
     "execution_count": 4,
     "metadata": {},
     "output_type": "execute_result"
    }
   ],
   "source": [
    "df.head()"
   ]
  },
  {
   "cell_type": "code",
   "execution_count": 5,
   "metadata": {},
   "outputs": [
    {
     "data": {
      "text/plain": [
       "Index(['id', 'title', 'author', 'publication_date', 'source', 'url', 'summary',\n",
       "       'content', 'tags', 'categories', 'images'],\n",
       "      dtype='object')"
      ]
     },
     "execution_count": 5,
     "metadata": {},
     "output_type": "execute_result"
    }
   ],
   "source": [
    "df.columns"
   ]
  },
  {
   "cell_type": "code",
   "execution_count": 6,
   "metadata": {},
   "outputs": [
    {
     "data": {
      "text/plain": [
       "np.int64(120)"
      ]
     },
     "execution_count": 6,
     "metadata": {},
     "output_type": "execute_result"
    }
   ],
   "source": [
    "df.drop(columns=['id']).duplicated().sum()"
   ]
  },
  {
   "cell_type": "code",
   "execution_count": 7,
   "metadata": {},
   "outputs": [],
   "source": [
    "df.set_index('id', inplace=True)"
   ]
  },
  {
   "cell_type": "code",
   "execution_count": 8,
   "metadata": {},
   "outputs": [
    {
     "data": {
      "text/html": [
       "<div>\n",
       "<style scoped>\n",
       "    .dataframe tbody tr th:only-of-type {\n",
       "        vertical-align: middle;\n",
       "    }\n",
       "\n",
       "    .dataframe tbody tr th {\n",
       "        vertical-align: top;\n",
       "    }\n",
       "\n",
       "    .dataframe thead th {\n",
       "        text-align: right;\n",
       "    }\n",
       "</style>\n",
       "<table border=\"1\" class=\"dataframe\">\n",
       "  <thead>\n",
       "    <tr style=\"text-align: right;\">\n",
       "      <th></th>\n",
       "      <th>title</th>\n",
       "      <th>author</th>\n",
       "      <th>publication_date</th>\n",
       "      <th>source</th>\n",
       "      <th>url</th>\n",
       "      <th>summary</th>\n",
       "      <th>content</th>\n",
       "      <th>tags</th>\n",
       "      <th>categories</th>\n",
       "      <th>images</th>\n",
       "    </tr>\n",
       "    <tr>\n",
       "      <th>id</th>\n",
       "      <th></th>\n",
       "      <th></th>\n",
       "      <th></th>\n",
       "      <th></th>\n",
       "      <th></th>\n",
       "      <th></th>\n",
       "      <th></th>\n",
       "      <th></th>\n",
       "      <th></th>\n",
       "      <th></th>\n",
       "    </tr>\n",
       "  </thead>\n",
       "  <tbody>\n",
       "    <tr>\n",
       "      <th>672960439902a3465058b1f0</th>\n",
       "      <td>Datadog challenger Dash0 aims to dash observab...</td>\n",
       "      <td>Anna Heim ,Devin Coldewey ,Marina Temkin ,Maxw...</td>\n",
       "      <td>2024-11-04T00:00:00.000000</td>\n",
       "      <td>ArticleSource(id=ObjectId('6696759a347e0ad7140...</td>\n",
       "      <td>https://techcrunch.com/2024/11/04/datadog-chal...</td>\n",
       "      <td></td>\n",
       "      <td>The end of zero-interest rates has driven comp...</td>\n",
       "      <td>Fundraising ,Startups ,observability ,cloud co...</td>\n",
       "      <td>NULL</td>\n",
       "      <td>https://techcrunch.com/wp-content/uploads/2024...</td>\n",
       "    </tr>\n",
       "    <tr>\n",
       "      <th>67295ff69902a3465058b1ef</th>\n",
       "      <td>Karen tries to claim ownership of the place sh...</td>\n",
       "      <td>NULL</td>\n",
       "      <td>NULL</td>\n",
       "      <td>ArticleSource(id=ObjectId('6696759a347e0ad7140...</td>\n",
       "      <td>https://cheezburger.com/37613061/karen-tries-t...</td>\n",
       "      <td></td>\n",
       "      <td>Scroll down for the next article</td>\n",
       "      <td>entitled parents ,housing ,Random Memes ,Geek ...</td>\n",
       "      <td>NULL</td>\n",
       "      <td>https://i.chzbgr.com/full/10424000000/hAC1368F...</td>\n",
       "    </tr>\n",
       "    <tr>\n",
       "      <th>67295f349902a3465058b1ee</th>\n",
       "      <td>Elon Musk's ex Grimes takes swipe at Tesla bil...</td>\n",
       "      <td>Eve Buckland ,Eve Buckland For Dailymail.Com ,...</td>\n",
       "      <td>2024-11-04T21:53:57.000000+0000</td>\n",
       "      <td>ArticleSource(id=ObjectId('6696759a347e0ad7140...</td>\n",
       "      <td>https://www.dailymail.co.uk/tvshowbiz/article-...</td>\n",
       "      <td></td>\n",
       "      <td>Elon Musk's ex Grimes took a savage swipe at t...</td>\n",
       "      <td>NULL</td>\n",
       "      <td>NULL</td>\n",
       "      <td>https://i.dailymail.co.uk/1s/2024/11/03/05/916...</td>\n",
       "    </tr>\n",
       "    <tr>\n",
       "      <th>67295f059902a3465058b1ed</th>\n",
       "      <td>Kansas City Chiefs find success in bringing ba...</td>\n",
       "      <td>Adam Teicher ,Jenna Laine ,Todd Archer ,Kather...</td>\n",
       "      <td>NULL</td>\n",
       "      <td>ArticleSource(id=ObjectId('6696759a347e0ad7140...</td>\n",
       "      <td>https://www.espn.com/nfl/story/_/id/42171653/k...</td>\n",
       "      <td></td>\n",
       "      <td>Get ready for an electric Week 9 Monday Night ...</td>\n",
       "      <td>NULL</td>\n",
       "      <td>NULL</td>\n",
       "      <td>https://a2.espncdn.com/combiner/i?img=%2Fphoto...</td>\n",
       "    </tr>\n",
       "    <tr>\n",
       "      <th>67295dd59902a3465058b1ec</th>\n",
       "      <td>CMS’s Medical Debt Relief Will Worsen Medical ...</td>\n",
       "      <td>Ge Bai ,Ge Baicontributoropinions Expressed Fo...</td>\n",
       "      <td>2024-11-04T00:00:00.000000</td>\n",
       "      <td>ArticleSource(id=ObjectId('6696759a347e0ad7140...</td>\n",
       "      <td>https://www.forbes.com/sites/gebai/2024/11/04/...</td>\n",
       "      <td></td>\n",
       "      <td>Man collects money with magnet from human crow...</td>\n",
       "      <td>NULL</td>\n",
       "      <td>NULL</td>\n",
       "      <td>https://specials-images.forbesimg.com/imageser...</td>\n",
       "    </tr>\n",
       "  </tbody>\n",
       "</table>\n",
       "</div>"
      ],
      "text/plain": [
       "                                                                      title  \\\n",
       "id                                                                            \n",
       "672960439902a3465058b1f0  Datadog challenger Dash0 aims to dash observab...   \n",
       "67295ff69902a3465058b1ef  Karen tries to claim ownership of the place sh...   \n",
       "67295f349902a3465058b1ee  Elon Musk's ex Grimes takes swipe at Tesla bil...   \n",
       "67295f059902a3465058b1ed  Kansas City Chiefs find success in bringing ba...   \n",
       "67295dd59902a3465058b1ec  CMS’s Medical Debt Relief Will Worsen Medical ...   \n",
       "\n",
       "                                                                     author  \\\n",
       "id                                                                            \n",
       "672960439902a3465058b1f0  Anna Heim ,Devin Coldewey ,Marina Temkin ,Maxw...   \n",
       "67295ff69902a3465058b1ef                                               NULL   \n",
       "67295f349902a3465058b1ee  Eve Buckland ,Eve Buckland For Dailymail.Com ,...   \n",
       "67295f059902a3465058b1ed  Adam Teicher ,Jenna Laine ,Todd Archer ,Kather...   \n",
       "67295dd59902a3465058b1ec  Ge Bai ,Ge Baicontributoropinions Expressed Fo...   \n",
       "\n",
       "                                         publication_date  \\\n",
       "id                                                          \n",
       "672960439902a3465058b1f0       2024-11-04T00:00:00.000000   \n",
       "67295ff69902a3465058b1ef                             NULL   \n",
       "67295f349902a3465058b1ee  2024-11-04T21:53:57.000000+0000   \n",
       "67295f059902a3465058b1ed                             NULL   \n",
       "67295dd59902a3465058b1ec       2024-11-04T00:00:00.000000   \n",
       "\n",
       "                                                                     source  \\\n",
       "id                                                                            \n",
       "672960439902a3465058b1f0  ArticleSource(id=ObjectId('6696759a347e0ad7140...   \n",
       "67295ff69902a3465058b1ef  ArticleSource(id=ObjectId('6696759a347e0ad7140...   \n",
       "67295f349902a3465058b1ee  ArticleSource(id=ObjectId('6696759a347e0ad7140...   \n",
       "67295f059902a3465058b1ed  ArticleSource(id=ObjectId('6696759a347e0ad7140...   \n",
       "67295dd59902a3465058b1ec  ArticleSource(id=ObjectId('6696759a347e0ad7140...   \n",
       "\n",
       "                                                                        url  \\\n",
       "id                                                                            \n",
       "672960439902a3465058b1f0  https://techcrunch.com/2024/11/04/datadog-chal...   \n",
       "67295ff69902a3465058b1ef  https://cheezburger.com/37613061/karen-tries-t...   \n",
       "67295f349902a3465058b1ee  https://www.dailymail.co.uk/tvshowbiz/article-...   \n",
       "67295f059902a3465058b1ed  https://www.espn.com/nfl/story/_/id/42171653/k...   \n",
       "67295dd59902a3465058b1ec  https://www.forbes.com/sites/gebai/2024/11/04/...   \n",
       "\n",
       "                         summary  \\\n",
       "id                                 \n",
       "672960439902a3465058b1f0           \n",
       "67295ff69902a3465058b1ef           \n",
       "67295f349902a3465058b1ee           \n",
       "67295f059902a3465058b1ed           \n",
       "67295dd59902a3465058b1ec           \n",
       "\n",
       "                                                                    content  \\\n",
       "id                                                                            \n",
       "672960439902a3465058b1f0  The end of zero-interest rates has driven comp...   \n",
       "67295ff69902a3465058b1ef                   Scroll down for the next article   \n",
       "67295f349902a3465058b1ee  Elon Musk's ex Grimes took a savage swipe at t...   \n",
       "67295f059902a3465058b1ed  Get ready for an electric Week 9 Monday Night ...   \n",
       "67295dd59902a3465058b1ec  Man collects money with magnet from human crow...   \n",
       "\n",
       "                                                                       tags  \\\n",
       "id                                                                            \n",
       "672960439902a3465058b1f0  Fundraising ,Startups ,observability ,cloud co...   \n",
       "67295ff69902a3465058b1ef  entitled parents ,housing ,Random Memes ,Geek ...   \n",
       "67295f349902a3465058b1ee                                               NULL   \n",
       "67295f059902a3465058b1ed                                               NULL   \n",
       "67295dd59902a3465058b1ec                                               NULL   \n",
       "\n",
       "                         categories  \\\n",
       "id                                    \n",
       "672960439902a3465058b1f0       NULL   \n",
       "67295ff69902a3465058b1ef       NULL   \n",
       "67295f349902a3465058b1ee       NULL   \n",
       "67295f059902a3465058b1ed       NULL   \n",
       "67295dd59902a3465058b1ec       NULL   \n",
       "\n",
       "                                                                     images  \n",
       "id                                                                           \n",
       "672960439902a3465058b1f0  https://techcrunch.com/wp-content/uploads/2024...  \n",
       "67295ff69902a3465058b1ef  https://i.chzbgr.com/full/10424000000/hAC1368F...  \n",
       "67295f349902a3465058b1ee  https://i.dailymail.co.uk/1s/2024/11/03/05/916...  \n",
       "67295f059902a3465058b1ed  https://a2.espncdn.com/combiner/i?img=%2Fphoto...  \n",
       "67295dd59902a3465058b1ec  https://specials-images.forbesimg.com/imageser...  "
      ]
     },
     "execution_count": 8,
     "metadata": {},
     "output_type": "execute_result"
    }
   ],
   "source": [
    "df.head()"
   ]
  },
  {
   "cell_type": "code",
   "execution_count": 9,
   "metadata": {},
   "outputs": [
    {
     "data": {
      "text/plain": [
       "np.int64(120)"
      ]
     },
     "execution_count": 9,
     "metadata": {},
     "output_type": "execute_result"
    }
   ],
   "source": [
    "df.duplicated().sum()"
   ]
  },
  {
   "cell_type": "code",
   "execution_count": 10,
   "metadata": {},
   "outputs": [],
   "source": [
    "df.drop_duplicates(keep='last', inplace=True)"
   ]
  },
  {
   "cell_type": "code",
   "execution_count": 11,
   "metadata": {},
   "outputs": [
    {
     "data": {
      "text/plain": [
       "title               2080\n",
       "author              2080\n",
       "publication_date    2080\n",
       "source              2080\n",
       "url                 2080\n",
       "summary             2080\n",
       "content             2080\n",
       "tags                2080\n",
       "categories          2080\n",
       "images              2080\n",
       "dtype: int64"
      ]
     },
     "execution_count": 11,
     "metadata": {},
     "output_type": "execute_result"
    }
   ],
   "source": [
    "df.count()"
   ]
  },
  {
   "cell_type": "code",
   "execution_count": 12,
   "metadata": {},
   "outputs": [
    {
     "data": {
      "text/plain": [
       "\"ArticleSource(id=ObjectId('6696759a347e0ad714039daa'), name='TechCrunch', domain='techcrunch.com', rss_url='https://techcrunch.com/feed/', categories=['Top Sources', 'Technology'])\""
      ]
     },
     "execution_count": 12,
     "metadata": {},
     "output_type": "execute_result"
    }
   ],
   "source": [
    "df['source'].iloc[0]"
   ]
  },
  {
   "cell_type": "code",
   "execution_count": 13,
   "metadata": {},
   "outputs": [
    {
     "data": {
      "text/plain": [
       "str"
      ]
     },
     "execution_count": 13,
     "metadata": {},
     "output_type": "execute_result"
    }
   ],
   "source": [
    "type(df['source'].iloc[0])"
   ]
  },
  {
   "cell_type": "code",
   "execution_count": 14,
   "metadata": {},
   "outputs": [
    {
     "data": {
      "text/plain": [
       "'TechCrunch'"
      ]
     },
     "execution_count": 14,
     "metadata": {},
     "output_type": "execute_result"
    }
   ],
   "source": [
    "df['source'].iloc[0].split(',')[1][7:-1]"
   ]
  },
  {
   "cell_type": "code",
   "execution_count": 15,
   "metadata": {},
   "outputs": [
    {
     "data": {
      "text/plain": [
       "id\n",
       "672960439902a3465058b1f0            TechCrunch\n",
       "67295ff69902a3465058b1ef             FAIL Blog\n",
       "67295f349902a3465058b1ee            Daily Mail\n",
       "67295f059902a3465058b1ed                  ESPN\n",
       "67295dd59902a3465058b1ec                Forbes\n",
       "                                   ...        \n",
       "6724ba569aa896701328e024            Refinery29\n",
       "6724ba559aa896701328e023                   Vox\n",
       "6724ba559aa896701328e022    The New York Times\n",
       "6724ba549aa896701328e021             IndieWire\n",
       "6724ba539aa896701328e020         Rolling Stone\n",
       "Name: source, Length: 2080, dtype: object"
      ]
     },
     "execution_count": 15,
     "metadata": {},
     "output_type": "execute_result"
    }
   ],
   "source": [
    "df['source'].str.split(',').str[1].str[7:-1]"
   ]
  },
  {
   "cell_type": "code",
   "execution_count": 16,
   "metadata": {},
   "outputs": [],
   "source": [
    "df['source'] = df['source'].str.split(',').str[1].str[7:-1]"
   ]
  },
  {
   "cell_type": "markdown",
   "metadata": {},
   "source": [
    "Set datetime format for publication_date"
   ]
  },
  {
   "cell_type": "code",
   "execution_count": 17,
   "metadata": {},
   "outputs": [],
   "source": [
    "df['publication_date'] = pd.to_datetime(df['publication_date'], errors='coerce')"
   ]
  },
  {
   "cell_type": "markdown",
   "metadata": {},
   "source": [
    "## Selecting sample cases\n",
    "- First let's manually select some sample news events which can be used for the consolidation task"
   ]
  },
  {
   "cell_type": "markdown",
   "metadata": {},
   "source": [
    "Let's use the same cases from the previous trial\n",
    "\n",
    "##### Selected news events\n",
    "- 67294e199902a3465058b1ba - Judge declines to block Musk’s $1 million voter giveaways\n",
    "- 6724ba5a9aa896701328e02c - Jennifer Lopez Endorses Kamala Harris for President, Blasts Trump\n",
    "- 6724c9c69aa896701328e087 - NFT Developers Plead Guilty to $400,000 'Rug Pull’, Laundering and Wire Fraud"
   ]
  },
  {
   "cell_type": "markdown",
   "metadata": {},
   "source": [
    "## Approach"
   ]
  },
  {
   "cell_type": "code",
   "execution_count": null,
   "metadata": {},
   "outputs": [],
   "source": [
    "from sklearn.feature_extraction.text import TfidfVectorizer\n",
    "from sentence_transformers import SentenceTransformer, util\n",
    "import rake"
   ]
  }
 ],
 "metadata": {
  "kernelspec": {
   "display_name": ".venv",
   "language": "python",
   "name": "python3"
  },
  "language_info": {
   "codemirror_mode": {
    "name": "ipython",
    "version": 3
   },
   "file_extension": ".py",
   "mimetype": "text/x-python",
   "name": "python",
   "nbconvert_exporter": "python",
   "pygments_lexer": "ipython3",
   "version": "3.12.7"
  }
 },
 "nbformat": 4,
 "nbformat_minor": 2
}
