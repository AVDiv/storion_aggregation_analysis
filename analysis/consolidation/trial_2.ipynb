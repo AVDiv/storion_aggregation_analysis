{
 "cells": [
  {
   "cell_type": "markdown",
   "metadata": {},
   "source": [
    "# Trial 2 \n",
    "something different, maybe. Hope this works! :')"
   ]
  },
  {
   "cell_type": "code",
   "execution_count": 1,
   "metadata": {},
   "outputs": [],
   "source": [
    "import pandas as pd\n",
    "from tqdm import tqdm\n",
    "import pickle"
   ]
  },
  {
   "cell_type": "markdown",
   "metadata": {},
   "source": [
    "## Selecting sample cases\n",
    "- First let's manually select some sample news events which can be used for the consolidation task"
   ]
  },
  {
   "cell_type": "markdown",
   "metadata": {},
   "source": [
    "Let's use the same cases from the previous trial\n",
    "\n",
    "##### Selected news events\n",
    "- 67294e199902a3465058b1ba - Judge declines to block Musk’s $1 million voter giveaways\n",
    "- 6724ba5a9aa896701328e02c - Jennifer Lopez Endorses Kamala Harris for President, Blasts Trump\n",
    "- 6724c9c69aa896701328e087 - NFT Developers Plead Guilty to $400,000 'Rug Pull’, Laundering and Wire Fraud"
   ]
  },
  {
   "cell_type": "markdown",
   "metadata": {},
   "source": [
    "## Approach"
   ]
  },
  {
   "cell_type": "code",
   "execution_count": 2,
   "metadata": {},
   "outputs": [],
   "source": [
    "with open('./df.pkl', 'rb') as f:\n",
    "    df = pickle.load(f)"
   ]
  },
  {
   "cell_type": "code",
   "execution_count": 3,
   "metadata": {},
   "outputs": [
    {
     "name": "stderr",
     "output_type": "stream",
     "text": [
      "/workspaces/storion_aggregation_analysis/.venv/lib/python3.12/site-packages/tqdm/auto.py:21: TqdmWarning: IProgress not found. Please update jupyter and ipywidgets. See https://ipywidgets.readthedocs.io/en/stable/user_install.html\n",
      "  from .autonotebook import tqdm as notebook_tqdm\n"
     ]
    }
   ],
   "source": [
    "from sklearn.feature_extraction.text import TfidfVectorizer\n",
    "from yake import KeywordExtractor\n",
    "from keybert import KeyBERT"
   ]
  },
  {
   "cell_type": "markdown",
   "metadata": {},
   "source": [
    "### YAKE (Looks good, but too many keywords)"
   ]
  },
  {
   "cell_type": "code",
   "execution_count": 6,
   "metadata": {},
   "outputs": [],
   "source": [
    "kw_extractor = KeywordExtractor()"
   ]
  },
  {
   "cell_type": "code",
   "execution_count": 7,
   "metadata": {},
   "outputs": [],
   "source": [
    "text = df.loc['67294e199902a3465058b1ba']['content']"
   ]
  },
  {
   "cell_type": "code",
   "execution_count": 8,
   "metadata": {},
   "outputs": [],
   "source": [
    "keywords = kw_extractor.extract_keywords(text)"
   ]
  },
  {
   "cell_type": "code",
   "execution_count": 9,
   "metadata": {},
   "outputs": [
    {
     "data": {
      "text/plain": [
       "[('District Attorney Larry', np.float64(0.00026680355272880687)),\n",
       " ('Attorney Larry Krasner', np.float64(0.001050160116160785)),\n",
       " ('Philadelphia judge declined', np.float64(0.0016917757685763859)),\n",
       " ('District Attorney', np.float64(0.004128681574624906)),\n",
       " ('Attorney Larry', np.float64(0.004128681574624906)),\n",
       " ('President Donald Trump', np.float64(0.009004808440186609)),\n",
       " ('Philadelphia judge', np.float64(0.010297127276705979)),\n",
       " ('America PAC', np.float64(0.011444486686614498)),\n",
       " ('Larry Krasner', np.float64(0.016079394955005277)),\n",
       " ('move forward', np.float64(0.025919412674985293)),\n",
       " ('judge declined', np.float64(0.025919412674985293)),\n",
       " ('declined an emergency', np.float64(0.025919412674985293)),\n",
       " ('Elon Musk', np.float64(0.03049181514534505)),\n",
       " ('Musk ’s America', np.float64(0.03243837952799379)),\n",
       " ('PAC', np.float64(0.03529175487436296)),\n",
       " ('President Donald', np.float64(0.03836602974554167)),\n",
       " ('petition from District', np.float64(0.04338760196430776)),\n",
       " ('Donald Trump', np.float64(0.043777331939364415)),\n",
       " ('emergency petition', np.float64(0.048927944876970816)),\n",
       " ('million giveaways', np.float64(0.050175092377371194))]"
      ]
     },
     "execution_count": 9,
     "metadata": {},
     "output_type": "execute_result"
    }
   ],
   "source": [
    "keywords"
   ]
  },
  {
   "cell_type": "code",
   "execution_count": 15,
   "metadata": {},
   "outputs": [
    {
     "data": {
      "text/plain": [
       "np.float64(0.45870610842144166)"
      ]
     },
     "execution_count": 15,
     "metadata": {},
     "output_type": "execute_result"
    }
   ],
   "source": [
    "kw_sum = 0\n",
    "kw_sum = sum([keyword[1] for keyword in keywords])\n",
    "kw_sum"
   ]
  },
  {
   "cell_type": "markdown",
   "metadata": {},
   "source": [
    "### Keybert trial (Useless)"
   ]
  },
  {
   "cell_type": "code",
   "execution_count": 10,
   "metadata": {},
   "outputs": [],
   "source": [
    "model = KeyBERT(model='all-mpnet-base-v2')"
   ]
  },
  {
   "cell_type": "code",
   "execution_count": 12,
   "metadata": {},
   "outputs": [
    {
     "data": {
      "text/plain": [
       "[('lottery', 0.4798),\n",
       " ('prizes', 0.3849),\n",
       " ('prize', 0.3766),\n",
       " ('randomly', 0.3755),\n",
       " ('pac', 0.3721)]"
      ]
     },
     "execution_count": 12,
     "metadata": {},
     "output_type": "execute_result"
    }
   ],
   "source": [
    "keywords_kb = model.extract_keywords(text)\n",
    "keywords_kb"
   ]
  },
  {
   "cell_type": "markdown",
   "metadata": {},
   "source": [
    "### Approach"
   ]
  },
  {
   "cell_type": "code",
   "execution_count": 16,
   "metadata": {},
   "outputs": [
    {
     "data": {
      "text/plain": [
       "'Elon Musk’s America PAC can move forward with its $1 million giveaways to voters after a Philadelphia judge declined an emergency petition from District Attorney Larry Krasner to block them.\\n\\nDuring a hearing earlier on Monday, a representative for the political action committee said prize winners are not randomly selected and are actually chosen to be paid spokespeople for the PAC, which supports former President Donald Trump, The Associated Press reported. Musk previously advertised the selection as random, but the fine print of the petition that applicants need to sign to enter the giveaway doesn’t mention it.\\n\\nKrasner accused the PAC of running an illegal lottery and deceptively marketing the prize selections as random, even though “multiple winners that have been selected are individuals who have shown up at Trump rallies in Pennsylvania.” While the PAC’s admission at the hearing seemed to confirm that suspicion, it also undermined the idea that the giveaway is a lottery at all.\\n\\nThe PAC lists two additional giveaways on its site to take place on Monday and Tuesday. Those prizes are slated to go to voters in Arizona and Michigan, respectively.'"
      ]
     },
     "execution_count": 16,
     "metadata": {},
     "output_type": "execute_result"
    }
   ],
   "source": [
    "text"
   ]
  }
 ],
 "metadata": {
  "kernelspec": {
   "display_name": ".venv",
   "language": "python",
   "name": "python3"
  },
  "language_info": {
   "codemirror_mode": {
    "name": "ipython",
    "version": 3
   },
   "file_extension": ".py",
   "mimetype": "text/x-python",
   "name": "python",
   "nbconvert_exporter": "python",
   "pygments_lexer": "ipython3",
   "version": "3.12.1"
  }
 },
 "nbformat": 4,
 "nbformat_minor": 2
}
