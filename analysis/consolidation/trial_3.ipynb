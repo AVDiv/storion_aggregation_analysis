{
 "cells": [
  {
   "cell_type": "markdown",
   "metadata": {},
   "source": [
    "# Trial 3\n",
    "Not sure if this will work either! :')"
   ]
  },
  {
   "cell_type": "code",
   "execution_count": 1,
   "metadata": {},
   "outputs": [],
   "source": [
    "# Importing necessary libraries\n",
    "import pandas as pd\n",
    "import pickle"
   ]
  },
  {
   "cell_type": "code",
   "execution_count": 2,
   "metadata": {},
   "outputs": [],
   "source": [
    "# Reading the data\n",
    "with open('../df.pkl', 'rb') as f:\n",
    "    df = pickle.load(f)"
   ]
  },
  {
   "cell_type": "markdown",
   "metadata": {},
   "source": [
    "## Approach"
   ]
  },
  {
   "cell_type": "code",
   "execution_count": 3,
   "metadata": {},
   "outputs": [
    {
     "name": "stderr",
     "output_type": "stream",
     "text": [
      "/workspaces/storion_aggregation_analysis/.venv/lib/python3.12/site-packages/tqdm/auto.py:21: TqdmWarning: IProgress not found. Please update jupyter and ipywidgets. See https://ipywidgets.readthedocs.io/en/stable/user_install.html\n",
      "  from .autonotebook import tqdm as notebook_tqdm\n"
     ]
    }
   ],
   "source": [
    "from sentence_transformers import SentenceTransformer\n",
    "from sklearn.metrics.pairwise import cosine_similarity\n",
    "import nltk\n",
    "from tqdm import tqdm\n",
    "from datetime import datetime, timedelta\n",
    "import numpy as np\n",
    "\n",
    "from datasketch import MinHash, MinHashLSH"
   ]
  },
  {
   "cell_type": "code",
   "execution_count": null,
   "metadata": {},
   "outputs": [
    {
     "name": "stderr",
     "output_type": "stream",
     "text": [
      "[nltk_data] Downloading package punkt to /home/codespace/nltk_data...\n",
      "[nltk_data]   Package punkt is already up-to-date!\n",
      "[nltk_data] Downloading package punkt_tab to\n",
      "[nltk_data]     /home/codespace/nltk_data...\n",
      "[nltk_data]   Package punkt_tab is already up-to-date!\n",
      "[nltk_data] Downloading package stopwords to\n",
      "[nltk_data]     /home/codespace/nltk_data...\n",
      "[nltk_data]   Package stopwords is already up-to-date!\n",
      "[nltk_data] Downloading package wordnet to\n",
      "[nltk_data]     /home/codespace/nltk_data...\n",
      "[nltk_data]   Package wordnet is already up-to-date!\n"
     ]
    },
    {
     "data": {
      "text/plain": [
       "True"
      ]
     },
     "execution_count": 4,
     "metadata": {},
     "output_type": "execute_result"
    }
   ],
   "source": [
    "# Downloading the necessary nltk data\n",
    "nltk.download('punkt')\n",
    "nltk.download('punkt_tab')\n",
    "nltk.download('stopwords')\n",
    "nltk.download('wordnet')"
   ]
  },
  {
   "cell_type": "code",
   "execution_count": 5,
   "metadata": {},
   "outputs": [],
   "source": [
    "from nltk.corpus import stopwords\n",
    "from nltk.tokenize import word_tokenize\n",
    "from nltk.stem import WordNetLemmatizer"
   ]
  },
  {
   "cell_type": "code",
   "execution_count": 6,
   "metadata": {},
   "outputs": [
    {
     "name": "stderr",
     "output_type": "stream",
     "text": [
      "Pre-processing text: 100%|██████████| 2977/2977 [00:18<00:00, 160.80it/s]\n"
     ]
    }
   ],
   "source": [
    "# Pre-process the text data\n",
    "# - Tokenize\n",
    "# - Remove stop words\n",
    "# - Lemmatize\n",
    "stop_words = set(stopwords.words('english'))\n",
    "lemmatizer = WordNetLemmatizer()\n",
    "\n",
    "def preprocess_text(text):\n",
    "    text = text.lower()\n",
    "    words = word_tokenize(text)\n",
    "    words = [word for word in words if word.isalnum()]\n",
    "    words = [word for word in words if word not in stop_words]\n",
    "    words = [lemmatizer.lemmatize(word) for word in words]\n",
    "\n",
    "    return ' '.join(words)\n",
    "\n",
    "\n",
    "pp_headlines = []\n",
    "pp_content = []\n",
    "\n",
    "for headline, content in tqdm(zip(df['title'], df['content']), total=len(df), desc='Pre-processing text'):\n",
    "    pp_headlines.append(preprocess_text(headline))\n",
    "    pp_content.append(preprocess_text(content))"
   ]
  },
  {
   "cell_type": "code",
   "execution_count": 7,
   "metadata": {},
   "outputs": [],
   "source": [
    "# class LSH:\n",
    "#     def __init__(self, num_bands=8):\n",
    "#         \"\"\"Initializes the LSH object.\n",
    "\n",
    "#         Args:\n",
    "#             num_bands (int): Number of bands to divide the hash into.\n",
    "#         \"\"\"\n",
    "#         self.num_bands = num_bands\n",
    "#         self.buckets = [defaultdict(list) for _ in range(num_bands)]\n",
    "\n",
    "#     def _get_band_hashes(self, simhash_value, band_size):\n",
    "#         \"\"\"Splits the simhash value into band hashes.\"\"\"\n",
    "#         for i in range(self.num_bands):\n",
    "#             yield (simhash_value >> (i * band_size)) & ((1 << band_size) - 1)\n",
    "\n",
    "#     def index(self, article_id, simhash_value):\n",
    "#         \"\"\"Indexes the text into LSH buckets based on its SimHash.\"\"\"\n",
    "#         hash_size = 64  # Default hash size for SimHash\n",
    "#         band_size = hash_size // self.num_bands\n",
    "\n",
    "#         for i, band_hash in enumerate(self._get_band_hashes(simhash_value, band_size)):\n",
    "#             self.buckets[i][band_hash].append((article_id, simhash_value))\n",
    "\n",
    "#     def query(self, simhash_value):\n",
    "#         \"\"\"Finds all articles that are similar to the given SimHash.\"\"\"\n",
    "#         hash_size = 64\n",
    "#         band_size = hash_size // self.num_bands\n",
    "#         candidates = set()\n",
    "\n",
    "#         for i, band_hash in enumerate(self._get_band_hashes(simhash_value, band_size)):\n",
    "#             if band_hash in self.buckets[i]:\n",
    "#                 for item in self.buckets[i][band_hash]:\n",
    "#                     candidates.add(item)\n",
    "\n",
    "#         return candidates"
   ]
  },
  {
   "cell_type": "code",
   "execution_count": 8,
   "metadata": {},
   "outputs": [],
   "source": [
    "# class SafeSimhash(Simhash):\n",
    "#     def build_by_features(self, features):\n",
    "#         \"\"\"Override to handle cases where features might cause integer overflows.\"\"\"\n",
    "#         hasher = self.hashfunc\n",
    "#         v = [0] * self.f\n",
    "#         masks = [1 << i for i in range(self.f)]\n",
    "\n",
    "#         for f, w in features.items():\n",
    "#             h = int.from_bytes(hasher(f.encode('utf-8')), byteorder='big')\n",
    "#             for i in range(self.f):\n",
    "#                 v[i] += w if h & masks[i] else -w\n",
    "\n",
    "#         self.value = 0\n",
    "#         for i in range(self.f):\n",
    "#             if v[i] > 0:\n",
    "#                 self.value |= masks[i]\n",
    "\n",
    "#         return self"
   ]
  },
  {
   "cell_type": "code",
   "execution_count": 9,
   "metadata": {},
   "outputs": [],
   "source": [
    "class ArticleGroup:\n",
    "    def __init__(self, article_minhash, initial_article):\n",
    "        self.articles = [initial_article]\n",
    "        self.dates = [initial_article['publication_date']]\n",
    "        self.lsh = MinHashLSH(threshold=0.7, num_perm=128)\n",
    "        self.lsh.insert(initial_article['index'], article_minhash)\n",
    "        \n",
    "    def get_temporal_bounds(self, k=1.5):\n",
    "        \"\"\"Calculate dynamic date boundaries using IQR\"\"\"\n",
    "        if len(self.dates) == 1:\n",
    "            return (self.dates[0] - timedelta(hours=24), \n",
    "                    self.dates[0] + timedelta(hours=24))\n",
    "            \n",
    "        timestamps = [d.timestamp() for d in self.dates]\n",
    "        q1, q3 = np.percentile(timestamps, [25, 75])\n",
    "        iqr = q3 - q1\n",
    "        lower = datetime.fromtimestamp(q1 - k*iqr)\n",
    "        upper = datetime.fromtimestamp(q3 + k*iqr)\n",
    "        return lower, upper\n",
    "\n",
    "    def is_within_temporal_bounds(self, new_date, k=1.5):\n",
    "        lower, upper = self.get_temporal_bounds(k)\n",
    "        return lower <= new_date <= upper\n",
    "\n",
    "    def add_article(self, minhash, article):\n",
    "        self.articles.append(article)\n",
    "        self.dates.append(article['publication_date'])\n",
    "        self.lsh.insert(article['index'], minhash)\n",
    "\n",
    "    \n",
    "class LSH:\n",
    "    def __init__(self):\n",
    "        self.groups = []\n",
    "        self.global_lsh = MinHashLSH(threshold=0.7, num_perm=128)\n",
    "        \n",
    "    def process_article(self, minhash, article, k=1.5):\n",
    "        # Find candidate matches using LSH\n",
    "        candidate_ids = self.global_lsh.query(minhash)\n",
    "        candidate_groups = [\n",
    "            g for g in self.groups \n",
    "            if any(a['index'] in candidate_ids for a in g.articles)\n",
    "        ]\n",
    "        \n",
    "        # Check temporal constraints\n",
    "        # valid_groups = []\n",
    "        # for group in candidate_groups:\n",
    "        #     if group.is_within_temporal_bounds(article['publication_date'], k):\n",
    "        #         valid_groups.append(group)\n",
    "        valid_groups = candidate_groups\n",
    "\n",
    "        # Create new group or merge with existing\n",
    "        if not valid_groups:\n",
    "            new_group = ArticleGroup(minhash, article)\n",
    "            self.groups.append(new_group)\n",
    "            self.global_lsh.insert(article['index'], minhash)\n",
    "            return new_group\n",
    "            \n",
    "        # Add to first valid group (could be enhanced with best match selection)\n",
    "        valid_groups[0].add_article(minhash, article)\n",
    "        return valid_groups[0]"
   ]
  },
  {
   "cell_type": "code",
   "execution_count": 10,
   "metadata": {},
   "outputs": [],
   "source": [
    "def generate_minhash(tokens, num_perm=128):\n",
    "    m = MinHash(num_perm=num_perm)\n",
    "    for token in tokens:\n",
    "        m.update(token.encode('utf-8'))\n",
    "    return m"
   ]
  },
  {
   "cell_type": "code",
   "execution_count": 11,
   "metadata": {},
   "outputs": [
    {
     "name": "stderr",
     "output_type": "stream",
     "text": [
      "Computing MinHashes:   0%|          | 11/2977 [00:00<01:28, 33.42it/s]"
     ]
    },
    {
     "name": "stderr",
     "output_type": "stream",
     "text": [
      "Computing MinHashes: 100%|██████████| 2977/2977 [01:03<00:00, 46.78it/s] \n"
     ]
    }
   ],
   "source": [
    "# Compute SimHashes\n",
    "content_lsh = LSH()\n",
    "article_group_list = {}\n",
    "for (idx, article), content_tokens in tqdm(zip(df.iterrows(), pp_content), desc='Computing MinHashes', total=len(pp_content)):\n",
    "    article['index'] = idx\n",
    "    minhash = generate_minhash(content_tokens)\n",
    "    article_group_list[article['index']] = {\n",
    "        'minhash': minhash,\n",
    "        'group': content_lsh.process_article(minhash, article)\n",
    "    }"
   ]
  },
  {
   "cell_type": "code",
   "execution_count": 12,
   "metadata": {},
   "outputs": [],
   "source": [
    "# # LSH Group querying\n",
    "# def hamming_distance(hash1, hash2):\n",
    "#     \"\"\"Computes the Hamming distance between two hashes.\"\"\"\n",
    "#     return bin(hash1 ^ hash2).count('1')\n",
    "\n",
    "# def get_similar_articles_lsh(simhash_value):\n",
    "#     similar_articles = content_lsh.query(simhash_value)\n",
    "#     return similar_articles"
   ]
  },
  {
   "cell_type": "code",
   "execution_count": 13,
   "metadata": {},
   "outputs": [
    {
     "data": {
      "text/plain": [
       "title               Pennsylvania judge allows Elon Musk's PAC to c...\n",
       "author              [Andrea Margolis, Fox News, Andrea Margolis Is...\n",
       "publication_date                                                  NaT\n",
       "source                                                       FOX News\n",
       "url                 https://www.foxnews.com/politics/pennsylvania-...\n",
       "summary                                                           NaN\n",
       "content             A Pennsylvania judge is allowing Elon Musk's A...\n",
       "tags                                                              NaN\n",
       "images              [https://a57.foxnews.com/static.foxnews.com/fo...\n",
       "event_id                                                       case_1\n",
       "Name: 75e5337b-5962-45eb-9acd-45788497bf4d, dtype: object"
      ]
     },
     "execution_count": 13,
     "metadata": {},
     "output_type": "execute_result"
    }
   ],
   "source": [
    "# Let's test with case 1\n",
    "case_1 = df.loc[df['event_id'] == 'case_1'].iloc[0]\n",
    "case_1"
   ]
  },
  {
   "cell_type": "code",
   "execution_count": 14,
   "metadata": {},
   "outputs": [],
   "source": [
    "# case_1_simhash = get_simhash_value(case_1['content'])\n",
    "# print(f\"SimHash value for case 1: {case_1_simhash}\")\n",
    "# similar_articles = get_similar_articles_lsh(case_1_simhash)\n",
    "\n",
    "# print(f\"Found {len(similar_articles)} similar articles\")\n",
    "# print(\"Similar articles:\")\n",
    "# for sim_article_idx, sim_article_hash in similar_articles:\n",
    "#     print(f\"- {hamming_distance(case_1_simhash, sim_article_hash)} {df.loc[sim_article_idx]['title']}\")"
   ]
  },
  {
   "cell_type": "code",
   "execution_count": 15,
   "metadata": {},
   "outputs": [
    {
     "data": {
      "text/plain": [
       "12"
      ]
     },
     "execution_count": 15,
     "metadata": {},
     "output_type": "execute_result"
    }
   ],
   "source": [
    "len(content_lsh.groups)"
   ]
  },
  {
   "cell_type": "code",
   "execution_count": 16,
   "metadata": {},
   "outputs": [
    {
     "data": {
      "text/plain": [
       "[title               Why has Elon Musk been pushing for a governmen...\n",
       " author                                                            NaN\n",
       " publication_date                                                  NaT\n",
       " source                                                            BBC\n",
       " url                        https://www.bbc.co.uk/sounds/play/p0kd5691\n",
       " summary                                                           NaN\n",
       " content             Why has Elon Musk been pushing for a governmen...\n",
       " tags                                                              NaN\n",
       " images              [https://a1.api.bbc.co.uk/hit.xiti?&col=1&from...\n",
       " event_id                                                         none\n",
       " index                            222d3229-5315-4a93-969b-701dceb35b40\n",
       " Name: 222d3229-5315-4a93-969b-701dceb35b40, dtype: object,\n",
       " title               WATCH:  Husky doesn't understand why grandma d...\n",
       " author                                                     [Abc News]\n",
       " publication_date                                                  NaT\n",
       " source                                                       ABC News\n",
       " url                 https://abcnews.go.com/GMA/Living/video/husky-...\n",
       " summary                                                           NaN\n",
       " content             Husky doesn't understand why grandma doesn't h...\n",
       " tags                                                              NaN\n",
       " images              [https://s.abcnews.com/assets/dtci/icomoon/svg...\n",
       " event_id                                                         none\n",
       " index                            e791aeb8-8530-4d98-8274-afdb5ff8401e\n",
       " Name: e791aeb8-8530-4d98-8274-afdb5ff8401e, dtype: object]"
      ]
     },
     "execution_count": 16,
     "metadata": {},
     "output_type": "execute_result"
    }
   ],
   "source": [
    "content_lsh.groups[8].articles"
   ]
  }
 ],
 "metadata": {
  "kernelspec": {
   "display_name": ".venv",
   "language": "python",
   "name": "python3"
  },
  "language_info": {
   "codemirror_mode": {
    "name": "ipython",
    "version": 3
   },
   "file_extension": ".py",
   "mimetype": "text/x-python",
   "name": "python",
   "nbconvert_exporter": "python",
   "pygments_lexer": "ipython3",
   "version": "3.12.1"
  }
 },
 "nbformat": 4,
 "nbformat_minor": 2
}
