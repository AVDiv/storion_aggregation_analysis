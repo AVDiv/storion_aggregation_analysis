{
 "cells": [
  {
   "cell_type": "markdown",
   "id": "Hbol",
   "metadata": {
    "marimo": {
     "config": {
      "hide_code": true
     }
    }
   },
   "source": [
    "# Trial 2\n",
    "something different, maybe. Hope this works! :')"
   ]
  },
  {
   "cell_type": "code",
   "execution_count": 1,
   "id": "MJUe",
   "metadata": {},
   "outputs": [],
   "source": [
    "import pandas as pd\n",
    "from tqdm import tqdm\n",
    "import pickle\n",
    "import numpy as np"
   ]
  },
  {
   "cell_type": "code",
   "execution_count": 2,
   "id": "vblA",
   "metadata": {},
   "outputs": [],
   "source": [
    "with open(\"../df.pkl\", \"rb\") as f:\n",
    "    df = pickle.load(f)"
   ]
  },
  {
   "cell_type": "markdown",
   "id": "bkHC",
   "metadata": {
    "marimo": {
     "config": {
      "hide_code": true
     }
    }
   },
   "source": [
    "## Tools testing"
   ]
  },
  {
   "cell_type": "code",
   "execution_count": 3,
   "id": "lEQa",
   "metadata": {},
   "outputs": [
    {
     "name": "stderr",
     "output_type": "stream",
     "text": [
      "/root/storion_aggregation_analysis/.venv/lib/python3.11/site-packages/tqdm/auto.py:21: TqdmWarning: IProgress not found. Please update jupyter and ipywidgets. See https://ipywidgets.readthedocs.io/en/stable/user_install.html\n",
      "  from .autonotebook import tqdm as notebook_tqdm\n"
     ]
    }
   ],
   "source": [
    "from sklearn.feature_extraction.text import TfidfVectorizer\n",
    "from yake import KeywordExtractor\n",
    "from keybert import KeyBERT\n",
    "from transformers import pipeline"
   ]
  },
  {
   "cell_type": "markdown",
   "id": "PKri",
   "metadata": {
    "marimo": {
     "config": {
      "hide_code": true
     }
    }
   },
   "source": [
    "### YAKE (Looks good, but too many keywords)"
   ]
  },
  {
   "cell_type": "code",
   "execution_count": 4,
   "id": "Xref",
   "metadata": {},
   "outputs": [],
   "source": [
    "kw_extractor = KeywordExtractor()"
   ]
  },
  {
   "cell_type": "code",
   "execution_count": 5,
   "id": "SFPL",
   "metadata": {},
   "outputs": [],
   "source": [
    "text = df.loc[df[\"event_id\"] == \"case_1\"].iloc[0][\"content\"]"
   ]
  },
  {
   "cell_type": "code",
   "execution_count": 6,
   "id": "BYtC",
   "metadata": {},
   "outputs": [],
   "source": [
    "keywords = kw_extractor.extract_keywords(text)"
   ]
  },
  {
   "cell_type": "code",
   "execution_count": 7,
   "id": "RGSE",
   "metadata": {},
   "outputs": [
    {
     "data": {
      "text/plain": [
       "[('allowing Elon Musk', np.float64(0.0012443619293702544)),\n",
       " ('Elon Musk America', np.float64(0.0016008832896744504)),\n",
       " ('Musk America PAC', np.float64(0.005631785765392376)),\n",
       " ('Elon Musk', np.float64(0.006004674381945689)),\n",
       " ('allowing Elon', np.float64(0.015793797497147603)),\n",
       " ('Musk America', np.float64(0.020240416352859676)),\n",
       " ('Pennsylvania judge', np.float64(0.02226199325158571)),\n",
       " ('Judge Angelo Foglietta', np.float64(0.03145404645119408)),\n",
       " ('America PAC', np.float64(0.035297120716982114)),\n",
       " ('Pleas Court Judge', np.float64(0.05132581560866452)),\n",
       " ('Court Judge Angelo', np.float64(0.05132581560866452)),\n",
       " ('Common Pleas Court', np.float64(0.05474920997337077)),\n",
       " ('contest through Nov.', np.float64(0.05721328937878896)),\n",
       " ('ruling on Monday.', np.float64(0.05721328937878896)),\n",
       " ('America PAC attorney', np.float64(0.06127688564125262)),\n",
       " ('Nov.', np.float64(0.06536876963257338)),\n",
       " ('Monday.', np.float64(0.06536876963257338)),\n",
       " ('Pennsylvania', np.float64(0.0772582259727435)),\n",
       " ('Elon', np.float64(0.0772582259727435)),\n",
       " ('Musk', np.float64(0.0772582259727435))]"
      ]
     },
     "execution_count": 7,
     "metadata": {},
     "output_type": "execute_result"
    }
   ],
   "source": [
    "keywords"
   ]
  },
  {
   "cell_type": "code",
   "execution_count": 8,
   "id": "Kclp",
   "metadata": {},
   "outputs": [
    {
     "data": {
      "text/plain": [
       "np.float64(0.8351456024090593)"
      ]
     },
     "execution_count": 8,
     "metadata": {},
     "output_type": "execute_result"
    }
   ],
   "source": [
    "kw_sum = 0\n",
    "kw_sum = sum([keyword[1] for keyword in keywords])\n",
    "kw_sum"
   ]
  },
  {
   "cell_type": "markdown",
   "id": "emfo",
   "metadata": {
    "marimo": {
     "config": {
      "hide_code": true
     }
    }
   },
   "source": [
    "### Keybert (Useless)"
   ]
  },
  {
   "cell_type": "code",
   "execution_count": 9,
   "id": "Hstk",
   "metadata": {},
   "outputs": [],
   "source": [
    "model = KeyBERT(model=\"all-mpnet-base-v2\")"
   ]
  },
  {
   "cell_type": "code",
   "execution_count": 10,
   "id": "nWHF",
   "metadata": {},
   "outputs": [
    {
     "data": {
      "text/plain": [
       "[('contest', 0.3704),\n",
       " ('pac', 0.3642),\n",
       " ('election', 0.363),\n",
       " ('trump', 0.3499),\n",
       " ('musk', 0.3343)]"
      ]
     },
     "execution_count": 10,
     "metadata": {},
     "output_type": "execute_result"
    }
   ],
   "source": [
    "keywords_kb = model.extract_keywords(text)\n",
    "keywords_kb"
   ]
  },
  {
   "cell_type": "markdown",
   "id": "iLit",
   "metadata": {},
   "source": [
    "### NER_xlm-roberta-large-finetuned-conll03-english"
   ]
  },
  {
   "cell_type": "code",
   "execution_count": 11,
   "id": "ZHCJ",
   "metadata": {},
   "outputs": [
    {
     "name": "stderr",
     "output_type": "stream",
     "text": [
      "Some weights of the model checkpoint at FacebookAI/xlm-roberta-large-finetuned-conll03-english were not used when initializing XLMRobertaForTokenClassification: ['roberta.pooler.dense.bias', 'roberta.pooler.dense.weight']\n",
      "- This IS expected if you are initializing XLMRobertaForTokenClassification from the checkpoint of a model trained on another task or with another architecture (e.g. initializing a BertForSequenceClassification model from a BertForPreTraining model).\n",
      "- This IS NOT expected if you are initializing XLMRobertaForTokenClassification from the checkpoint of a model that you expect to be exactly identical (initializing a BertForSequenceClassification model from a BertForSequenceClassification model).\n",
      "Device set to use cpu\n"
     ]
    }
   ],
   "source": [
    "fair_ner_pipe = pipeline(\"token-classification\", model=\"FacebookAI/xlm-roberta-large-finetuned-conll03-english\")"
   ]
  },
  {
   "cell_type": "code",
   "execution_count": 12,
   "id": "ROlb",
   "metadata": {},
   "outputs": [],
   "source": [
    "raw_entities = fair_ner_pipe(text)"
   ]
  },
  {
   "cell_type": "code",
   "execution_count": 13,
   "id": "qnkX",
   "metadata": {},
   "outputs": [
    {
     "data": {
      "text/plain": [
       "'A Pennsylvania judge is allowing Elon Musk\\'s America PAC to continue their $1 million a day contest through Nov. 5, according to a ruling on Monday.. . The ruling by Common Pleas Court Judge Angelo Foglietta comes after it was revealed during court proceedings that the contest\\'s winners are not randomly selected.. . \"The $1 million recipients are not chosen by chance,\" America PAC attorney Chris Gober said in court on Monday. \"We know exactly who will be announced as the $1 million recipient today and tomorrow.\". . NIKKI HALEY PENS SUPPORTIVE OP-ED IN FAVOR OF TRUMP AHEAD OF ELECTION DAY: \\'EASY CALL\\'. . CLICK HERE TO GET THE FOX NEWS APP. . The Associated Press contributed to this report.. . This is a breaking news situation. Check back with us for updates.'"
      ]
     },
     "execution_count": 13,
     "metadata": {},
     "output_type": "execute_result"
    }
   ],
   "source": [
    "text"
   ]
  },
  {
   "cell_type": "code",
   "execution_count": 14,
   "id": "TqIu",
   "metadata": {},
   "outputs": [
    {
     "data": {
      "text/plain": [
       "[{'entity': 'I-LOC',\n",
       "  'score': np.float32(0.99997306),\n",
       "  'index': 2,\n",
       "  'word': '▁Pennsylvania',\n",
       "  'start': 2,\n",
       "  'end': 14},\n",
       " {'entity': 'I-ORG',\n",
       "  'score': np.float32(0.91677386),\n",
       "  'index': 5,\n",
       "  'word': '▁',\n",
       "  'start': 24,\n",
       "  'end': 25},\n",
       " {'entity': 'I-PER',\n",
       "  'score': np.float32(0.9999901),\n",
       "  'index': 7,\n",
       "  'word': '▁El',\n",
       "  'start': 33,\n",
       "  'end': 35},\n",
       " {'entity': 'I-PER',\n",
       "  'score': np.float32(0.99999344),\n",
       "  'index': 8,\n",
       "  'word': 'on',\n",
       "  'start': 35,\n",
       "  'end': 37},\n",
       " {'entity': 'I-PER',\n",
       "  'score': np.float32(0.9999771),\n",
       "  'index': 9,\n",
       "  'word': '▁Musk',\n",
       "  'start': 38,\n",
       "  'end': 42},\n",
       " {'entity': 'I-ORG',\n",
       "  'score': np.float32(0.9999908),\n",
       "  'index': 12,\n",
       "  'word': '▁America',\n",
       "  'start': 45,\n",
       "  'end': 52},\n",
       " {'entity': 'I-ORG',\n",
       "  'score': np.float32(0.76671857),\n",
       "  'index': 13,\n",
       "  'word': '▁',\n",
       "  'start': 53,\n",
       "  'end': 54},\n",
       " {'entity': 'I-ORG',\n",
       "  'score': np.float32(0.99995124),\n",
       "  'index': 14,\n",
       "  'word': 'PAC',\n",
       "  'start': 53,\n",
       "  'end': 56},\n",
       " {'entity': 'I-ORG',\n",
       "  'score': np.float32(0.9999951),\n",
       "  'index': 43,\n",
       "  'word': '▁Common',\n",
       "  'start': 166,\n",
       "  'end': 172},\n",
       " {'entity': 'I-ORG',\n",
       "  'score': np.float32(0.9999951),\n",
       "  'index': 44,\n",
       "  'word': '▁Ple',\n",
       "  'start': 173,\n",
       "  'end': 176},\n",
       " {'entity': 'I-ORG',\n",
       "  'score': np.float32(0.9999933),\n",
       "  'index': 45,\n",
       "  'word': 'as',\n",
       "  'start': 176,\n",
       "  'end': 178},\n",
       " {'entity': 'I-ORG',\n",
       "  'score': np.float32(0.9999957),\n",
       "  'index': 46,\n",
       "  'word': '▁Court',\n",
       "  'start': 179,\n",
       "  'end': 184},\n",
       " {'entity': 'I-PER',\n",
       "  'score': np.float32(0.9999951),\n",
       "  'index': 49,\n",
       "  'word': '▁Angel',\n",
       "  'start': 191,\n",
       "  'end': 196},\n",
       " {'entity': 'I-PER',\n",
       "  'score': np.float32(0.99999046),\n",
       "  'index': 50,\n",
       "  'word': 'o',\n",
       "  'start': 196,\n",
       "  'end': 197},\n",
       " {'entity': 'I-PER',\n",
       "  'score': np.float32(0.9999883),\n",
       "  'index': 51,\n",
       "  'word': '▁Fog',\n",
       "  'start': 198,\n",
       "  'end': 201},\n",
       " {'entity': 'I-PER',\n",
       "  'score': np.float32(0.9999833),\n",
       "  'index': 52,\n",
       "  'word': 'li',\n",
       "  'start': 201,\n",
       "  'end': 203},\n",
       " {'entity': 'I-PER',\n",
       "  'score': np.float32(0.9999919),\n",
       "  'index': 53,\n",
       "  'word': 'etta',\n",
       "  'start': 203,\n",
       "  'end': 207},\n",
       " {'entity': 'I-ORG',\n",
       "  'score': np.float32(0.9999889),\n",
       "  'index': 94,\n",
       "  'word': '▁America',\n",
       "  'start': 372,\n",
       "  'end': 379},\n",
       " {'entity': 'I-ORG',\n",
       "  'score': np.float32(0.91470665),\n",
       "  'index': 95,\n",
       "  'word': '▁',\n",
       "  'start': 380,\n",
       "  'end': 381},\n",
       " {'entity': 'I-ORG',\n",
       "  'score': np.float32(0.9999294),\n",
       "  'index': 96,\n",
       "  'word': 'PAC',\n",
       "  'start': 380,\n",
       "  'end': 383},\n",
       " {'entity': 'I-PER',\n",
       "  'score': np.float32(0.99999595),\n",
       "  'index': 98,\n",
       "  'word': '▁Chris',\n",
       "  'start': 393,\n",
       "  'end': 398},\n",
       " {'entity': 'I-PER',\n",
       "  'score': np.float32(0.99999344),\n",
       "  'index': 99,\n",
       "  'word': '▁Go',\n",
       "  'start': 399,\n",
       "  'end': 401},\n",
       " {'entity': 'I-PER',\n",
       "  'score': np.float32(0.9999924),\n",
       "  'index': 100,\n",
       "  'word': 'ber',\n",
       "  'start': 401,\n",
       "  'end': 404},\n",
       " {'entity': 'I-PER',\n",
       "  'score': np.float32(0.99995553),\n",
       "  'index': 127,\n",
       "  'word': '▁NI',\n",
       "  'start': 521,\n",
       "  'end': 523},\n",
       " {'entity': 'I-PER',\n",
       "  'score': np.float32(0.9999882),\n",
       "  'index': 128,\n",
       "  'word': 'KKI',\n",
       "  'start': 523,\n",
       "  'end': 526},\n",
       " {'entity': 'I-PER',\n",
       "  'score': np.float32(0.99999535),\n",
       "  'index': 129,\n",
       "  'word': '▁HA',\n",
       "  'start': 527,\n",
       "  'end': 529},\n",
       " {'entity': 'I-PER',\n",
       "  'score': np.float32(0.9999907),\n",
       "  'index': 130,\n",
       "  'word': 'LEY',\n",
       "  'start': 529,\n",
       "  'end': 532},\n",
       " {'entity': 'I-PER',\n",
       "  'score': np.float32(0.9999846),\n",
       "  'index': 143,\n",
       "  'word': '▁TRU',\n",
       "  'start': 567,\n",
       "  'end': 570},\n",
       " {'entity': 'I-PER',\n",
       "  'score': np.float32(0.99998236),\n",
       "  'index': 144,\n",
       "  'word': 'MP',\n",
       "  'start': 570,\n",
       "  'end': 572},\n",
       " {'entity': 'I-ORG',\n",
       "  'score': np.float32(0.91968983),\n",
       "  'index': 167,\n",
       "  'word': '▁',\n",
       "  'start': 625,\n",
       "  'end': 626},\n",
       " {'entity': 'I-ORG',\n",
       "  'score': np.float32(0.9995433),\n",
       "  'index': 170,\n",
       "  'word': '▁F',\n",
       "  'start': 633,\n",
       "  'end': 634},\n",
       " {'entity': 'I-ORG',\n",
       "  'score': np.float32(0.9997609),\n",
       "  'index': 171,\n",
       "  'word': 'OX',\n",
       "  'start': 634,\n",
       "  'end': 636},\n",
       " {'entity': 'I-ORG',\n",
       "  'score': np.float32(0.9979122),\n",
       "  'index': 172,\n",
       "  'word': '▁NEWS',\n",
       "  'start': 637,\n",
       "  'end': 641},\n",
       " {'entity': 'I-ORG',\n",
       "  'score': np.float32(0.9999889),\n",
       "  'index': 178,\n",
       "  'word': '▁Associated',\n",
       "  'start': 653,\n",
       "  'end': 663},\n",
       " {'entity': 'I-ORG',\n",
       "  'score': np.float32(0.99996245),\n",
       "  'index': 179,\n",
       "  'word': '▁Press',\n",
       "  'start': 664,\n",
       "  'end': 669}]"
      ]
     },
     "execution_count": 14,
     "metadata": {},
     "output_type": "execute_result"
    }
   ],
   "source": [
    "raw_entities"
   ]
  },
  {
   "cell_type": "code",
   "execution_count": 15,
   "id": "Vxnm",
   "metadata": {},
   "outputs": [],
   "source": [
    "def combine_same_entities(_text, _raw_entities):\n",
    "    prev_segment = None\n",
    "    entities = []\n",
    "    for segment in _raw_entities:\n",
    "        segment['word'] = segment['word'].replace('▁', ' ')\n",
    "        original_entity_word = segment['word']\n",
    "        entity_word = segment['word'].rstrip()\n",
    "        segment['end'] = segment['end'] - (len(original_entity_word) - len(entity_word))\n",
    "        if segment['word'].isspace():\n",
    "            continue\n",
    "        appended_to_prev_segment = False\n",
    "        if prev_segment is not None and prev_segment['entity'] == segment['entity']:\n",
    "            if prev_segment['end'] == segment['start']:\n",
    "                entities[-1]['word'] += segment['word']\n",
    "                appended_to_prev_segment = True\n",
    "            elif _text[prev_segment['end']:segment['start']].isspace():\n",
    "                entities[-1]['word'] += _text[prev_segment['end']:segment['start']] + segment['word']\n",
    "                appended_to_prev_segment = True\n",
    "\n",
    "            if appended_to_prev_segment:\n",
    "                entities[-1]['end'] = segment['end']\n",
    "                entities[-1]['score'] = (entities[-1]['score'] + segment['score'])/2\n",
    "\n",
    "        if not appended_to_prev_segment:\n",
    "            original_entity_word = entity_word\n",
    "            entity_word = entity_word.lstrip()\n",
    "            segment['start'] = segment['start'] + (len(original_entity_word) - len(entity_word))\n",
    "            entities.append({\n",
    "                'entity': segment['entity'],\n",
    "                'word': entity_word,\n",
    "                'score': segment['score'],\n",
    "                'start': segment['start'],\n",
    "                'end': segment['end']\n",
    "            })\n",
    "        prev_segment = segment.copy()\n",
    "    return entities"
   ]
  },
  {
   "cell_type": "code",
   "execution_count": 16,
   "id": "DnEU",
   "metadata": {},
   "outputs": [
    {
     "data": {
      "text/plain": [
       "[{'entity': 'I-LOC',\n",
       "  'word': 'Pennsylvania',\n",
       "  'score': np.float32(0.99997306),\n",
       "  'start': 3,\n",
       "  'end': 14},\n",
       " {'entity': 'I-PER',\n",
       "  'word': 'Elon  Musk',\n",
       "  'score': np.float32(0.99998444),\n",
       "  'start': 34,\n",
       "  'end': 42},\n",
       " {'entity': 'I-ORG',\n",
       "  'word': 'America PAC',\n",
       "  'score': np.float32(0.99997103),\n",
       "  'start': 46,\n",
       "  'end': 56},\n",
       " {'entity': 'I-ORG',\n",
       "  'word': 'Common  Pleas  Court',\n",
       "  'score': np.float32(0.999995),\n",
       "  'start': 167,\n",
       "  'end': 184},\n",
       " {'entity': 'I-PER',\n",
       "  'word': 'Angelo  Foglietta',\n",
       "  'score': np.float32(0.9999894),\n",
       "  'start': 192,\n",
       "  'end': 207},\n",
       " {'entity': 'I-ORG',\n",
       "  'word': 'America PAC',\n",
       "  'score': np.float32(0.9999592),\n",
       "  'start': 373,\n",
       "  'end': 383},\n",
       " {'entity': 'I-PER',\n",
       "  'word': 'Chris  Gober',\n",
       "  'score': np.float32(0.99999356),\n",
       "  'start': 394,\n",
       "  'end': 404},\n",
       " {'entity': 'I-PER',\n",
       "  'word': 'NIKKI  HALEY',\n",
       "  'score': np.float32(0.9999871),\n",
       "  'start': 522,\n",
       "  'end': 532},\n",
       " {'entity': 'I-PER',\n",
       "  'word': 'TRUMP',\n",
       "  'score': np.float32(0.9999835),\n",
       "  'start': 568,\n",
       "  'end': 572},\n",
       " {'entity': 'I-ORG',\n",
       "  'word': 'FOX  NEWS',\n",
       "  'score': np.float32(0.99878216),\n",
       "  'start': 634,\n",
       "  'end': 641},\n",
       " {'entity': 'I-ORG',\n",
       "  'word': 'Associated  Press',\n",
       "  'score': np.float32(0.9999757),\n",
       "  'start': 654,\n",
       "  'end': 669}]"
      ]
     },
     "execution_count": 16,
     "metadata": {},
     "output_type": "execute_result"
    }
   ],
   "source": [
    "combine_same_entities(text, raw_entities)"
   ]
  },
  {
   "cell_type": "markdown",
   "id": "ulZA",
   "metadata": {
    "marimo": {
     "config": {
      "hide_code": true
     }
    }
   },
   "source": [
    "## Approach"
   ]
  },
  {
   "cell_type": "code",
   "execution_count": 17,
   "id": "ecfG",
   "metadata": {},
   "outputs": [],
   "source": [
    "from scripts.text_filteration import ContentFilterer"
   ]
  },
  {
   "cell_type": "code",
   "execution_count": 18,
   "id": "Pvdt",
   "metadata": {},
   "outputs": [],
   "source": [
    "content_filter = ContentFilterer()"
   ]
  },
  {
   "cell_type": "code",
   "execution_count": 19,
   "id": "ZBYS",
   "metadata": {},
   "outputs": [],
   "source": [
    "selected_df = df.iloc[:200]\n",
    "selected_df = selected_df._append(df.loc[df['event_id'] == 'case_1'])\n",
    "selected_df = selected_df._append(df.loc[df['event_id'] == 'case_2'])\n",
    "selected_df = selected_df._append(df.loc[df['event_id'] == 'case_3'])"
   ]
  },
  {
   "cell_type": "code",
   "execution_count": 20,
   "id": "aLJB",
   "metadata": {},
   "outputs": [
    {
     "data": {
      "text/html": [
       "<div>\n",
       "<style scoped>\n",
       "    .dataframe tbody tr th:only-of-type {\n",
       "        vertical-align: middle;\n",
       "    }\n",
       "\n",
       "    .dataframe tbody tr th {\n",
       "        vertical-align: top;\n",
       "    }\n",
       "\n",
       "    .dataframe thead th {\n",
       "        text-align: right;\n",
       "    }\n",
       "</style>\n",
       "<table border=\"1\" class=\"dataframe\">\n",
       "  <thead>\n",
       "    <tr style=\"text-align: right;\">\n",
       "      <th></th>\n",
       "      <th>title</th>\n",
       "      <th>author</th>\n",
       "      <th>publication_date</th>\n",
       "      <th>source</th>\n",
       "      <th>url</th>\n",
       "      <th>summary</th>\n",
       "      <th>content</th>\n",
       "      <th>tags</th>\n",
       "      <th>images</th>\n",
       "      <th>event_id</th>\n",
       "    </tr>\n",
       "    <tr>\n",
       "      <th>id</th>\n",
       "      <th></th>\n",
       "      <th></th>\n",
       "      <th></th>\n",
       "      <th></th>\n",
       "      <th></th>\n",
       "      <th></th>\n",
       "      <th></th>\n",
       "      <th></th>\n",
       "      <th></th>\n",
       "      <th></th>\n",
       "    </tr>\n",
       "  </thead>\n",
       "  <tbody>\n",
       "    <tr>\n",
       "      <th>b87065f4-5db8-4fde-8371-93fbec783f10</th>\n",
       "      <td>Judge denies Philadelphia DA's request to bloc...</td>\n",
       "      <td>[Abc News]</td>\n",
       "      <td>NaT</td>\n",
       "      <td>ABC News</td>\n",
       "      <td>https://abcnews.go.com/Politics/elon-musk-pac-...</td>\n",
       "      <td>NaN</td>\n",
       "      <td>A Philadelphia judge is allowing Elon Musk’s A...</td>\n",
       "      <td>NaN</td>\n",
       "      <td>[https://i.abcnewsfe.com/a/a150a26a-eef0-4ebb-...</td>\n",
       "      <td>case_1</td>\n",
       "    </tr>\n",
       "    <tr>\n",
       "      <th>726a7000-dde4-4299-b964-fffbbb41490f</th>\n",
       "      <td>Apple users can soon upgrade to ChatGPT Plus w...</td>\n",
       "      <td>[Maxwell Zeff, Devin Coldewey, Manish Singh, K...</td>\n",
       "      <td>NaT</td>\n",
       "      <td>TechCrunch</td>\n",
       "      <td>https://techcrunch.com/2024/11/04/apple-users-...</td>\n",
       "      <td>NaN</td>\n",
       "      <td>Apple products are getting an integration with...</td>\n",
       "      <td>[Apple, ChatGPT Plus, OpenAI, ChatGPT, AI]</td>\n",
       "      <td>[https://techcrunch.com/wp-content/uploads/202...</td>\n",
       "      <td>case_2</td>\n",
       "    </tr>\n",
       "    <tr>\n",
       "      <th>141ce42e-29ea-41e1-a670-a9da3fa26e39</th>\n",
       "      <td>Apple will let you upgrade to ChatGPT Plus rig...</td>\n",
       "      <td>[Jay Peters, A News Editor Who Writes About Te...</td>\n",
       "      <td>NaT</td>\n",
       "      <td>The Verge</td>\n",
       "      <td>https://www.theverge.com/2024/11/4/24288015/ap...</td>\n",
       "      <td>NaN</td>\n",
       "      <td>Apple’s second iOS 18.2 developer beta include...</td>\n",
       "      <td>NaN</td>\n",
       "      <td>[https://www.theverge.com/icons/native-ad-plac...</td>\n",
       "      <td>case_2</td>\n",
       "    </tr>\n",
       "    <tr>\n",
       "      <th>eafa01c6-3078-49bf-913f-71697594fe1b</th>\n",
       "      <td>Heidi Klum unveils Halloween costume as ET wit...</td>\n",
       "      <td>[Stephanie Giang-Paunon Larry Fink, Stephanie ...</td>\n",
       "      <td>NaT</td>\n",
       "      <td>FOX News</td>\n",
       "      <td>https://www.foxnews.com/entertainment/heidi-kl...</td>\n",
       "      <td>NaN</td>\n",
       "      <td>The queen of Halloween, Heidi Klum, was \"out o...</td>\n",
       "      <td>[#HeidiHalloween]</td>\n",
       "      <td>[https://a57.foxnews.com/static.foxnews.com/fo...</td>\n",
       "      <td>case_3</td>\n",
       "    </tr>\n",
       "    <tr>\n",
       "      <th>6e353ebb-749d-4520-be04-650305979a44</th>\n",
       "      <td>Heidi Klum Dresses as E.T. for Her Annual Hall...</td>\n",
       "      <td>NaN</td>\n",
       "      <td>NaT</td>\n",
       "      <td>TMZ</td>\n",
       "      <td>https://www.tmz.com/2024/11/01/heidi-klum-et-c...</td>\n",
       "      <td>NaN</td>\n",
       "      <td>Heidi Klum's Halloween bash is always a wild e...</td>\n",
       "      <td>NaN</td>\n",
       "      <td>[https://imagez.tmz.com/image/92/16by9/2024/10...</td>\n",
       "      <td>case_3</td>\n",
       "    </tr>\n",
       "  </tbody>\n",
       "</table>\n",
       "</div>"
      ],
      "text/plain": [
       "                                                                                  title  \\\n",
       "id                                                                                        \n",
       "b87065f4-5db8-4fde-8371-93fbec783f10  Judge denies Philadelphia DA's request to bloc...   \n",
       "726a7000-dde4-4299-b964-fffbbb41490f  Apple users can soon upgrade to ChatGPT Plus w...   \n",
       "141ce42e-29ea-41e1-a670-a9da3fa26e39  Apple will let you upgrade to ChatGPT Plus rig...   \n",
       "eafa01c6-3078-49bf-913f-71697594fe1b  Heidi Klum unveils Halloween costume as ET wit...   \n",
       "6e353ebb-749d-4520-be04-650305979a44  Heidi Klum Dresses as E.T. for Her Annual Hall...   \n",
       "\n",
       "                                                                                 author  \\\n",
       "id                                                                                        \n",
       "b87065f4-5db8-4fde-8371-93fbec783f10                                         [Abc News]   \n",
       "726a7000-dde4-4299-b964-fffbbb41490f  [Maxwell Zeff, Devin Coldewey, Manish Singh, K...   \n",
       "141ce42e-29ea-41e1-a670-a9da3fa26e39  [Jay Peters, A News Editor Who Writes About Te...   \n",
       "eafa01c6-3078-49bf-913f-71697594fe1b  [Stephanie Giang-Paunon Larry Fink, Stephanie ...   \n",
       "6e353ebb-749d-4520-be04-650305979a44                                                NaN   \n",
       "\n",
       "                                     publication_date      source  \\\n",
       "id                                                                  \n",
       "b87065f4-5db8-4fde-8371-93fbec783f10              NaT    ABC News   \n",
       "726a7000-dde4-4299-b964-fffbbb41490f              NaT  TechCrunch   \n",
       "141ce42e-29ea-41e1-a670-a9da3fa26e39              NaT   The Verge   \n",
       "eafa01c6-3078-49bf-913f-71697594fe1b              NaT    FOX News   \n",
       "6e353ebb-749d-4520-be04-650305979a44              NaT         TMZ   \n",
       "\n",
       "                                                                                    url  \\\n",
       "id                                                                                        \n",
       "b87065f4-5db8-4fde-8371-93fbec783f10  https://abcnews.go.com/Politics/elon-musk-pac-...   \n",
       "726a7000-dde4-4299-b964-fffbbb41490f  https://techcrunch.com/2024/11/04/apple-users-...   \n",
       "141ce42e-29ea-41e1-a670-a9da3fa26e39  https://www.theverge.com/2024/11/4/24288015/ap...   \n",
       "eafa01c6-3078-49bf-913f-71697594fe1b  https://www.foxnews.com/entertainment/heidi-kl...   \n",
       "6e353ebb-749d-4520-be04-650305979a44  https://www.tmz.com/2024/11/01/heidi-klum-et-c...   \n",
       "\n",
       "                                     summary  \\\n",
       "id                                             \n",
       "b87065f4-5db8-4fde-8371-93fbec783f10     NaN   \n",
       "726a7000-dde4-4299-b964-fffbbb41490f     NaN   \n",
       "141ce42e-29ea-41e1-a670-a9da3fa26e39     NaN   \n",
       "eafa01c6-3078-49bf-913f-71697594fe1b     NaN   \n",
       "6e353ebb-749d-4520-be04-650305979a44     NaN   \n",
       "\n",
       "                                                                                content  \\\n",
       "id                                                                                        \n",
       "b87065f4-5db8-4fde-8371-93fbec783f10  A Philadelphia judge is allowing Elon Musk’s A...   \n",
       "726a7000-dde4-4299-b964-fffbbb41490f  Apple products are getting an integration with...   \n",
       "141ce42e-29ea-41e1-a670-a9da3fa26e39  Apple’s second iOS 18.2 developer beta include...   \n",
       "eafa01c6-3078-49bf-913f-71697594fe1b  The queen of Halloween, Heidi Klum, was \"out o...   \n",
       "6e353ebb-749d-4520-be04-650305979a44  Heidi Klum's Halloween bash is always a wild e...   \n",
       "\n",
       "                                                                            tags  \\\n",
       "id                                                                                 \n",
       "b87065f4-5db8-4fde-8371-93fbec783f10                                         NaN   \n",
       "726a7000-dde4-4299-b964-fffbbb41490f  [Apple, ChatGPT Plus, OpenAI, ChatGPT, AI]   \n",
       "141ce42e-29ea-41e1-a670-a9da3fa26e39                                         NaN   \n",
       "eafa01c6-3078-49bf-913f-71697594fe1b                           [#HeidiHalloween]   \n",
       "6e353ebb-749d-4520-be04-650305979a44                                         NaN   \n",
       "\n",
       "                                                                                 images  \\\n",
       "id                                                                                        \n",
       "b87065f4-5db8-4fde-8371-93fbec783f10  [https://i.abcnewsfe.com/a/a150a26a-eef0-4ebb-...   \n",
       "726a7000-dde4-4299-b964-fffbbb41490f  [https://techcrunch.com/wp-content/uploads/202...   \n",
       "141ce42e-29ea-41e1-a670-a9da3fa26e39  [https://www.theverge.com/icons/native-ad-plac...   \n",
       "eafa01c6-3078-49bf-913f-71697594fe1b  [https://a57.foxnews.com/static.foxnews.com/fo...   \n",
       "6e353ebb-749d-4520-be04-650305979a44  [https://imagez.tmz.com/image/92/16by9/2024/10...   \n",
       "\n",
       "                                     event_id  \n",
       "id                                             \n",
       "b87065f4-5db8-4fde-8371-93fbec783f10   case_1  \n",
       "726a7000-dde4-4299-b964-fffbbb41490f   case_2  \n",
       "141ce42e-29ea-41e1-a670-a9da3fa26e39   case_2  \n",
       "eafa01c6-3078-49bf-913f-71697594fe1b   case_3  \n",
       "6e353ebb-749d-4520-be04-650305979a44   case_3  "
      ]
     },
     "execution_count": 20,
     "metadata": {},
     "output_type": "execute_result"
    }
   ],
   "source": [
    "selected_df.tail()"
   ]
  },
  {
   "cell_type": "code",
   "execution_count": 21,
   "id": "nHfw",
   "metadata": {},
   "outputs": [
    {
     "name": "stderr",
     "output_type": "stream",
     "text": [
      "Filtering contents with CCF...: 100%|██████████| 207/207 [01:49<00:00,  1.88it/s]\n"
     ]
    }
   ],
   "source": [
    "cleaned_contents = []\n",
    "\n",
    "# For cleaning all the contents\n",
    "# for idx, row in tqdm(df.iterrows(), desc=\"Filtering contents with CCF...\", total=len(df)):\n",
    "#     cleaned_content = content_filter.filter_text(row['title'], row['content'])\n",
    "#     cleaned_contents.append(cleaned_content)\n",
    "\n",
    "# For cleaning of selected sample set\n",
    "for idx, row in tqdm(selected_df.iterrows(), desc=\"Filtering contents with CCF...\", total=len(selected_df)):\n",
    "    cleaned_content = content_filter.filter_text(row['title'], row['content'])\n",
    "    cleaned_contents.append(cleaned_content)"
   ]
  },
  {
   "cell_type": "code",
   "execution_count": 22,
   "id": "xXTn",
   "metadata": {},
   "outputs": [
    {
     "name": "stderr",
     "output_type": "stream",
     "text": [
      "Some weights of the model checkpoint at FacebookAI/xlm-roberta-large-finetuned-conll03-english were not used when initializing XLMRobertaForTokenClassification: ['roberta.pooler.dense.bias', 'roberta.pooler.dense.weight']\n",
      "- This IS expected if you are initializing XLMRobertaForTokenClassification from the checkpoint of a model trained on another task or with another architecture (e.g. initializing a BertForSequenceClassification model from a BertForPreTraining model).\n",
      "- This IS NOT expected if you are initializing XLMRobertaForTokenClassification from the checkpoint of a model that you expect to be exactly identical (initializing a BertForSequenceClassification model from a BertForSequenceClassification model).\n",
      "Device set to use cpu\n"
     ]
    }
   ],
   "source": [
    "# Keyword extractor & NER Model\n",
    "yake_kw = KeywordExtractor()\n",
    "ner_pipe = pipeline(\"token-classification\", model=\"FacebookAI/xlm-roberta-large-finetuned-conll03-english\")"
   ]
  },
  {
   "cell_type": "code",
   "execution_count": 23,
   "id": "AjVT",
   "metadata": {},
   "outputs": [
    {
     "name": "stdout",
     "output_type": "stream",
     "text": [
      "In brief Leading AI models were again asked who would win the U.S. presidential election between Kamala Harris and Donald Trump  . While early inquiries suggest Trump would win, AI is now leaning towards Harris to win on Tuesday  When we asked ChatGPT in July who would win between Trump and Harris, the chatbot said it was a virtual toss-up between the two, citing RealClearPolling and The Nation  . On the eve of the election, ChatGPT, the leading generative AI platform, refrained from predicting a definitive winner in a head-to-head contest between Donald Trump and Kamala Harris  . ChatGPT was asked to reply in “leetspeak” and Markdown format, as well as who is more likely to win between Trump and Harris under today's conditions  . Using leetspeak and Markdown in prompt engineering tests ChatGPT’s flexibility. ChatGPT was told to analyze and assess reality, with a focus on statistical facts and the reasoning behind the answer  . Finally, ChatGPT was asked to reply based on what it thinks and its reasoning process and provide a reply mentioning the candidate that is most likely to win according to the AI’s assessment of reality  When Meta AI was prompted last summer to give a response to who would win between Trump and Harris, the chatbot refused to answer. Now, the AI noted that the electoral race gave Harris a 44% to 43% lead over Trump, citing a Reuters/Ipsos poll  With over 78 million ballots already cast, Meta AI said Harris is leading among early voters by eight percentage points. Using the more complex prompt, Meta AI outlined the possible paths to victory for each candidate  . “The election is expected to be extremely close, with both candidates needing to mobilize their supporters to secure victory,” the AI said.” To win the presidency, Harris needs to secure about 45 electoral votes on top of the states she's expected to win easily, while Trump needs around 51. Pennsylvania, offering 19 electoral votes, is a crucial battleground state, with Harris campaigning aggressively in the state.”  . Like the other AI models, Venice said polls favor Harris, who holds a slight lead, while others show a close race or even Trump with a slight edge  Okay, fine, but before concluding this analysis, let’s see if Venice AI will give a definitive answer using advanced prompting  . On the other hand, Venice AI said Donald Trump's economic record is a major concern, and his unconventional approach to foreign policy may not be enough to overcome the uncertainty and instability that he has created  . While Trump’s base remains strong, Venice AI said it's unclear whether he can maintain his support among moderate voters\n",
      "[('Kamala Harris', np.float64(0.004243262034698379)), ('inquiries suggest Trump', np.float64(0.00484155243070402)), ('engineering tests ChatGPT', np.float64(0.007531708035521926)), ('Donald Trump', np.float64(0.008776981311837653)), ('Trump', np.float64(0.010169555568838879)), ('Markdown format', np.float64(0.010234118690077636)), ('Harris', np.float64(0.014177630027822397)), ('early inquiries suggest', np.float64(0.015706558229872724)), ('win', np.float64(0.01662416375535011)), ('prompt engineering tests', np.float64(0.01846901809960897)), ('leetspeak and Markdown', np.float64(0.019903476125629795)), ('Donald Trump economic', np.float64(0.022826548216425258)), ('suggest Trump', np.float64(0.022884964310579986)), ('Kamala', np.float64(0.026979470884237258)), ('Markdown', np.float64(0.026979470884237258)), ('ChatGPT', np.float64(0.028414899239273317)), ('asked ChatGPT', np.float64(0.03320140026201296)), ('tests ChatGPT', np.float64(0.03530148655885582)), ('Trump and Kamala', np.float64(0.03580469042726253)), ('win between Trump', np.float64(0.03590140504432918))]\n"
     ]
    },
    {
     "data": {
      "text/plain": [
       "[{'entity': 'I-MISC',\n",
       "  'word': 'AI',\n",
       "  'score': np.float32(0.70559794),\n",
       "  'start': 18,\n",
       "  'end': 19},\n",
       " {'entity': 'I-LOC',\n",
       "  'word': 'U.S',\n",
       "  'score': np.float32(0.99997735),\n",
       "  'start': 63,\n",
       "  'end': 65},\n",
       " {'entity': 'I-PER',\n",
       "  'word': 'Kamala  Harris',\n",
       "  'score': np.float32(0.99998856),\n",
       "  'start': 98,\n",
       "  'end': 110},\n",
       " {'entity': 'I-PER',\n",
       "  'word': 'Donald  Trump',\n",
       "  'score': np.float32(0.999958),\n",
       "  'start': 116,\n",
       "  'end': 127},\n",
       " {'entity': 'I-PER',\n",
       "  'word': 'Trump',\n",
       "  'score': np.float32(0.99994826),\n",
       "  'start': 162,\n",
       "  'end': 166},\n",
       " {'entity': 'I-MISC',\n",
       "  'word': 'AI',\n",
       "  'score': np.float32(0.5521796),\n",
       "  'start': 179,\n",
       "  'end': 180},\n",
       " {'entity': 'I-PER',\n",
       "  'word': 'Harris',\n",
       "  'score': np.float32(0.99998987),\n",
       "  'start': 205,\n",
       "  'end': 210},\n",
       " {'entity': 'I-MISC',\n",
       "  'word': 'ChatGPT',\n",
       "  'score': np.float32(0.607669),\n",
       "  'start': 245,\n",
       "  'end': 251},\n",
       " {'entity': 'I-PER',\n",
       "  'word': 'Trump',\n",
       "  'score': np.float32(0.9999187),\n",
       "  'start': 283,\n",
       "  'end': 287},\n",
       " {'entity': 'I-PER',\n",
       "  'word': 'Harris',\n",
       "  'score': np.float32(0.9999808),\n",
       "  'start': 293,\n",
       "  'end': 298},\n",
       " {'entity': 'I-ORG',\n",
       "  'word': 'RealC',\n",
       "  'score': np.float32(0.70424396),\n",
       "  'start': 367,\n",
       "  'end': 371},\n",
       " {'entity': 'I-MISC',\n",
       "  'word': 'le',\n",
       "  'score': np.float32(0.39099422),\n",
       "  'start': 371,\n",
       "  'end': 373},\n",
       " {'entity': 'I-ORG',\n",
       "  'word': 'ar',\n",
       "  'score': np.float32(0.7451892),\n",
       "  'start': 373,\n",
       "  'end': 375},\n",
       " {'entity': 'I-MISC',\n",
       "  'word': 'Pol',\n",
       "  'score': np.float32(0.56388086),\n",
       "  'start': 375,\n",
       "  'end': 378},\n",
       " {'entity': 'I-ORG',\n",
       "  'word': 'ling',\n",
       "  'score': np.float32(0.9391885),\n",
       "  'start': 378,\n",
       "  'end': 382},\n",
       " {'entity': 'I-ORG',\n",
       "  'word': 'The  Nation',\n",
       "  'score': np.float32(0.99990535),\n",
       "  'start': 388,\n",
       "  'end': 397},\n",
       " {'entity': 'I-MISC',\n",
       "  'word': 'ChatGPT',\n",
       "  'score': np.float32(0.58239007),\n",
       "  'start': 430,\n",
       "  'end': 436},\n",
       " {'entity': 'I-PER',\n",
       "  'word': 'Donald  Trump',\n",
       "  'score': np.float32(0.99992275),\n",
       "  'start': 555,\n",
       "  'end': 566},\n",
       " {'entity': 'I-PER',\n",
       "  'word': 'Kamala  Harris',\n",
       "  'score': np.float32(0.99998254),\n",
       "  'start': 572,\n",
       "  'end': 584},\n",
       " {'entity': 'I-MISC',\n",
       "  'word': 'ChatGPT',\n",
       "  'score': np.float32(0.81249654),\n",
       "  'start': 589,\n",
       "  'end': 595},\n",
       " {'entity': 'I-MISC',\n",
       "  'word': 'Markdown',\n",
       "  'score': np.float32(0.9899701),\n",
       "  'start': 635,\n",
       "  'end': 642},\n",
       " {'entity': 'I-PER',\n",
       "  'word': 'Trump',\n",
       "  'score': np.float32(0.9998621),\n",
       "  'start': 697,\n",
       "  'end': 701},\n",
       " {'entity': 'I-PER',\n",
       "  'word': 'Harris',\n",
       "  'score': np.float32(0.99998057),\n",
       "  'start': 707,\n",
       "  'end': 712},\n",
       " {'entity': 'I-MISC',\n",
       "  'word': 'Markdown',\n",
       "  'score': np.float32(0.92657745),\n",
       "  'start': 762,\n",
       "  'end': 769},\n",
       " {'entity': 'I-MISC',\n",
       "  'word': 'ChatGPT',\n",
       "  'score': np.float32(0.8703166),\n",
       "  'start': 799,\n",
       "  'end': 805},\n",
       " {'entity': 'I-MISC',\n",
       "  'word': 'ChatGPT',\n",
       "  'score': np.float32(0.8722279),\n",
       "  'start': 822,\n",
       "  'end': 828},\n",
       " {'entity': 'I-MISC',\n",
       "  'word': 'ChatGPT',\n",
       "  'score': np.float32(0.86827785),\n",
       "  'start': 952,\n",
       "  'end': 958},\n",
       " {'entity': 'I-ORG',\n",
       "  'word': 'Meta  AI',\n",
       "  'score': np.float32(0.60441214),\n",
       "  'start': 1151,\n",
       "  'end': 1157},\n",
       " {'entity': 'I-PER',\n",
       "  'word': 'Trump',\n",
       "  'score': np.float32(0.9997762),\n",
       "  'start': 1228,\n",
       "  'end': 1232},\n",
       " {'entity': 'I-PER',\n",
       "  'word': 'Harris',\n",
       "  'score': np.float32(0.9999602),\n",
       "  'start': 1238,\n",
       "  'end': 1243},\n",
       " {'entity': 'I-PER',\n",
       "  'word': 'Harris',\n",
       "  'score': np.float32(0.999984),\n",
       "  'start': 1324,\n",
       "  'end': 1329},\n",
       " {'entity': 'I-PER',\n",
       "  'word': 'Trump',\n",
       "  'score': np.float32(0.9996145),\n",
       "  'start': 1354,\n",
       "  'end': 1358},\n",
       " {'entity': 'I-ORG',\n",
       "  'word': 'Reuters/Ipsos',\n",
       "  'score': np.float32(0.9989785),\n",
       "  'start': 1370,\n",
       "  'end': 1382},\n",
       " {'entity': 'I-ORG',\n",
       "  'word': 'Meta',\n",
       "  'score': np.float32(0.61539525),\n",
       "  'start': 1433,\n",
       "  'end': 1436},\n",
       " {'entity': 'I-MISC',\n",
       "  'word': 'AI',\n",
       "  'score': np.float32(0.5738746),\n",
       "  'start': 1438,\n",
       "  'end': 1439},\n",
       " {'entity': 'I-PER',\n",
       "  'word': 'Harris',\n",
       "  'score': np.float32(0.99998665),\n",
       "  'start': 1446,\n",
       "  'end': 1451},\n",
       " {'entity': 'I-ORG',\n",
       "  'word': 'Meta  AI',\n",
       "  'score': np.float32(0.5706668),\n",
       "  'start': 1542,\n",
       "  'end': 1548},\n",
       " {'entity': 'I-PER',\n",
       "  'word': 'Harris',\n",
       "  'score': np.float32(0.9999875),\n",
       "  'start': 1775,\n",
       "  'end': 1780},\n",
       " {'entity': 'I-PER',\n",
       "  'word': 'Trump',\n",
       "  'score': np.float32(0.99991274),\n",
       "  'start': 1880,\n",
       "  'end': 1884},\n",
       " {'entity': 'I-LOC',\n",
       "  'word': 'Pennsylvania',\n",
       "  'score': np.float32(0.9999875),\n",
       "  'start': 1903,\n",
       "  'end': 1914},\n",
       " {'entity': 'I-PER',\n",
       "  'word': 'Harris',\n",
       "  'score': np.float32(0.9999881),\n",
       "  'start': 1984,\n",
       "  'end': 1989},\n",
       " {'entity': 'I-MISC',\n",
       "  'word': 'AI',\n",
       "  'score': np.float32(0.69711065),\n",
       "  'start': 2049,\n",
       "  'end': 2050},\n",
       " {'entity': 'I-PER',\n",
       "  'word': 'Venice',\n",
       "  'score': np.float32(0.77803564),\n",
       "  'start': 2060,\n",
       "  'end': 2065},\n",
       " {'entity': 'I-PER',\n",
       "  'word': 'Harris',\n",
       "  'score': np.float32(0.9999851),\n",
       "  'start': 2084,\n",
       "  'end': 2089},\n",
       " {'entity': 'I-PER',\n",
       "  'word': 'Trump',\n",
       "  'score': np.float32(0.9999069),\n",
       "  'start': 2156,\n",
       "  'end': 2160}]"
      ]
     },
     "execution_count": 23,
     "metadata": {},
     "output_type": "execute_result"
    }
   ],
   "source": [
    "# Sample of keyword extraction & NER\n",
    "_sample_text = \" \".join(cleaned_contents[19])\n",
    "print(_sample_text)\n",
    "sample_keywords = yake_kw.extract_keywords(_sample_text)\n",
    "print(sample_keywords)\n",
    "sample_entities = combine_same_entities(_sample_text, ner_pipe(_sample_text))\n",
    "sample_entities"
   ]
  },
  {
   "cell_type": "code",
   "execution_count": 24,
   "id": "pHFh",
   "metadata": {},
   "outputs": [],
   "source": [
    "def filter_non_entity_keywords(_keywords, _entities):\n",
    "    entity_list = set([entity['word'] for entity in _entities])\n",
    "    _keywords = [keyword for keyword in _keywords if keyword[0] not in entity_list]\n",
    "    return _keywords"
   ]
  },
  {
   "cell_type": "code",
   "execution_count": 36,
   "id": "NCOB",
   "metadata": {},
   "outputs": [],
   "source": [
    "from difflib import SequenceMatcher\n",
    "from collections import defaultdict\n",
    "\n",
    "# Function to calculate similarity between two strings\n",
    "def calculate_similarity(a, b):\n",
    "    return SequenceMatcher(None, a, b).ratio()\n",
    "\n",
    "# Function to create a similarity matrix for all words\n",
    "def create_similarity_matrix(word_list):\n",
    "    size = len(word_list)\n",
    "    matrix = [[0] * size for _ in range(size)]\n",
    "\n",
    "    for i, word1 in enumerate(word_list):\n",
    "        for j, word2 in enumerate(word_list):\n",
    "            if i != j:  # Avoid self-comparison\n",
    "                matrix[i][j] = calculate_similarity(word1, word2)\n",
    "    return matrix\n",
    "\n",
    "# Function to group words based on similarity matrix\n",
    "def group_similar_words(word_list, top_values_threshold=None):\n",
    "    similarity_matrix = np.array(create_similarity_matrix(word_list))\n",
    "    # Dynamic thresholding \n",
    "    top_n_values = len(similarity_matrix[similarity_matrix>top_values_threshold]) if top_values_threshold is not None else similarity_matrix.shape[0]//1\n",
    "    top_n_values = 1 if top_n_values==0 else top_n_values\n",
    "    top_n_values *= -1\n",
    "    top_n_similarities = np.partition(similarity_matrix.flatten(), top_n_values)[top_n_values:]\n",
    "    threshold = np.mean(top_n_similarities)\n",
    "    print(f\"Threshold set to {threshold}\")\n",
    "    groups = []\n",
    "    visited = set()\n",
    "\n",
    "    for i, word in enumerate(word_list):\n",
    "        if word not in visited:\n",
    "            group = set()\n",
    "            for j, similarity in enumerate(similarity_matrix[i]):\n",
    "                if similarity >= threshold:\n",
    "                    group.add(word_list[j])\n",
    "            group.add(word)  # Include the current word\n",
    "            groups.append(list(group))\n",
    "            visited.update(group)  # Mark all words in this group as visited\n",
    "\n",
    "    return groups"
   ]
  },
  {
   "cell_type": "code",
   "execution_count": 40,
   "id": "aqbW",
   "metadata": {},
   "outputs": [
    {
     "name": "stdout",
     "output_type": "stream",
     "text": [
      "Threshold set to 0.4680822105655832\n"
     ]
    },
    {
     "data": {
      "text/plain": [
       "[['Kamala Harris', 'Harris', 'Kamala'],\n",
       " ['win between Trump',\n",
       "  'suggest Trump',\n",
       "  'early inquiries suggest',\n",
       "  'inquiries suggest Trump'],\n",
       " ['asked ChatGPT',\n",
       "  'engineering tests ChatGPT',\n",
       "  'prompt engineering tests',\n",
       "  'tests ChatGPT'],\n",
       " ['win between Trump',\n",
       "  'Donald Trump',\n",
       "  'Donald Trump economic',\n",
       "  'suggest Trump',\n",
       "  'Trump'],\n",
       " ['Markdown', 'Markdown format'],\n",
       " ['win'],\n",
       " ['Markdown', 'leetspeak and Markdown'],\n",
       " ['asked ChatGPT', 'ChatGPT', 'tests ChatGPT'],\n",
       " ['Trump and Kamala', 'Trump', 'Kamala']]"
      ]
     },
     "execution_count": 40,
     "metadata": {},
     "output_type": "execute_result"
    }
   ],
   "source": [
    "sample_kw_groups = group_similar_words([keyword[0] for keyword in sample_keywords], top_values_threshold=0.3)\n",
    "sample_kw_groups"
   ]
  },
  {
   "cell_type": "code",
   "execution_count": 43,
   "id": "e37492e4",
   "metadata": {},
   "outputs": [
    {
     "data": {
      "text/plain": [
       "'Kamala  Harris'"
      ]
     },
     "execution_count": 43,
     "metadata": {},
     "output_type": "execute_result"
    }
   ],
   "source": []
  },
  {
   "cell_type": "code",
   "execution_count": 48,
   "id": "e79b5603",
   "metadata": {},
   "outputs": [
    {
     "data": {
      "text/plain": [
       "0.9629629629629629"
      ]
     },
     "execution_count": 48,
     "metadata": {},
     "output_type": "execute_result"
    }
   ],
   "source": [
    "SequenceMatcher(None, sample_kw_groups[0][0], sample_entities[2]['word']).ratio()"
   ]
  },
  {
   "cell_type": "code",
   "execution_count": 49,
   "id": "bcff1256",
   "metadata": {},
   "outputs": [
    {
     "name": "stdout",
     "output_type": "stream",
     "text": [
      "Kamala Harris\n",
      "Kamala  Harris\n"
     ]
    }
   ],
   "source": [
    "print(sample_kw_groups[0][0])\n",
    "print(sample_entities[2]['word'])"
   ]
  },
  {
   "cell_type": "code",
   "execution_count": null,
   "id": "6388102b",
   "metadata": {},
   "outputs": [],
   "source": [
    "def link_entity_relevant_keyword_groups(_keywords, _entities):\n",
    "  "
   ]
  },
  {
   "cell_type": "markdown",
   "id": "97bc494f",
   "metadata": {},
   "source": []
  },
  {
   "cell_type": "code",
   "execution_count": 27,
   "id": "TRpd",
   "metadata": {},
   "outputs": [],
   "source": [
    "import marimo as mo"
   ]
  }
 ],
 "metadata": {
  "kernelspec": {
   "display_name": ".venv",
   "language": "python",
   "name": "python3"
  },
  "language_info": {
   "codemirror_mode": {
    "name": "ipython",
    "version": 3
   },
   "file_extension": ".py",
   "mimetype": "text/x-python",
   "name": "python",
   "nbconvert_exporter": "python",
   "pygments_lexer": "ipython3",
   "version": "3.11.2"
  }
 },
 "nbformat": 4,
 "nbformat_minor": 5
}
