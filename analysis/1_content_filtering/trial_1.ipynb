{
 "cells": [
  {
   "cell_type": "markdown",
   "metadata": {},
   "source": [
    "# Trial 1\n",
    "\n",
    "Hope this works in the first trial."
   ]
  },
  {
   "cell_type": "code",
   "execution_count": 21,
   "metadata": {},
   "outputs": [],
   "source": [
    "# Import the necessary libraries\n",
    "import numpy as np\n",
    "import pandas as pd\n",
    "import pickle\n",
    "import re"
   ]
  },
  {
   "cell_type": "code",
   "execution_count": 3,
   "metadata": {},
   "outputs": [],
   "source": [
    "# Load the data\n",
    "with open('../df.pkl', 'rb') as f:\n",
    "    df = pickle.load(f)"
   ]
  },
  {
   "cell_type": "markdown",
   "metadata": {},
   "source": [
    "## Approach"
   ]
  },
  {
   "cell_type": "markdown",
   "metadata": {},
   "source": [
    "Select some text samples for testing"
   ]
  },
  {
   "cell_type": "code",
   "execution_count": 30,
   "metadata": {},
   "outputs": [],
   "source": [
    "np.random.seed(0)\n",
    "sample_ids = np.random.choice(df.index, 5)\n",
    "sample_records = df.loc[sample_ids]"
   ]
  },
  {
   "cell_type": "code",
   "execution_count": 35,
   "metadata": {},
   "outputs": [
    {
     "data": {
      "text/plain": [
       "['https://www.cnet.com/home/internet/best-internet-providers-in-las-cruces-nm/#ftag=CAD590a51e',\n",
       " 'https://www.nature.com/articles/d41586-024-04169-5',\n",
       " 'https://www.refinery29.com/en-us/2024/10/11802884/love-is-blind-season-7-reunion-recap?utm_source=feed&utm_medium=rss',\n",
       " 'https://variety.com/2024/digital/global/tetris-alexey-pajitnov-henk-rogers-lucca-1236199009/',\n",
       " 'https://www.dailymail.co.uk/news/article-14036243/top-pollster-nate-silver-prediction-2024-presidential-election.html?ns_mchannel=rss&ns_campaign=1490&ito=1490']"
      ]
     },
     "execution_count": 35,
     "metadata": {},
     "output_type": "execute_result"
    }
   ],
   "source": [
    "# URLs\n",
    "sample_records['url'].to_list()"
   ]
  },
  {
   "cell_type": "markdown",
   "metadata": {},
   "source": [
    "Let's split the text into contextually meaningful blocks, which talks about a single thing, Probably something like a paragraph"
   ]
  },
  {
   "cell_type": "code",
   "execution_count": 38,
   "metadata": {},
   "outputs": [
    {
     "data": {
      "text/plain": [
       "\"What is the best internet provider in Las Cruces, New Mexico?. . Xfinity is CNET's top pick for the best internet service provider in Las Cruces, thanks to its wide availability throughout the city. It’s also the only cable connection available. But if you want the cheapest and fastest internet plans in Las Cruces, Xfinity is the provider for you. Plan prices go up after a year or two, so be prepared for a bill increase though. However, despite the increase, some plans still offer a decent deal even at the regular rate. This cable giant has also made strides in its customer satisfaction ratings.. . If Xfinity doesn't serve your address, you can pick between fixed wireless or satellite internet. While more susceptible to network disruption than wired connections, and slower than Xfinity, they're decent alternatives. T-Mobile Home Internet is our favorite wireless provider in the area, and you can get great discounts for bundling with an eligible cellphone plan.. . Need speed? Xfinity offers the fastest internet plan in the city, with download speeds of 1,200 megabits per second for $80 monthly. The cost per Mbps of its top-end plan is a very cheap 7 cents per Mbps. And if you want to save money, Xfinity also has a $20 monthly plan for 150Mbps.. . Best internet in Las Cruces, New Mexico. . Las Cruces internet providers compared Provider Internet technology Monthly price range Speed range Monthly equipment costs Data cap Contract CNET review score CenturyLink. . Read full review DSL $55 10-100Mbps $15 (optional) None None 6.7 Starlink. . Read full review Satellite $120 30-150Mbps $349 one-time purchase Unlimited None 6.5 T-Mobile Home Internet. . Read full review Fixed wireless $50-$70 ($40-$50 for eligible Go5G Plus and Magenta Max mobile customers) 72-245Mbps None None None 7.4 Verizon 5G Home Internet. . Read full review Fixed wireless $50-$70 ($35-$45 for eligible Verizon Wireless customers) 100-300Mbps None None None 7.2 Xfinity. . Read full review Cable $20-$80 150-1,200Mbps $15 on some plans (optional) 1.2TB 1-year on some 7 Show more (0 item) Shop providers at my address. . Source: CNET analysis of provider data.. . Other available internet providers in Las Cruces. . Verizon 5G Home Internet : According to the latest FCC data, this fixed wireless provider is available to about 44% of Las Cruces households. If you want to avoid a hike in prices from Xfinity after your promo period ends, this ISP is a great alternative. Verizon offers two plans for the area: a 100Mbps plan for $50 a month and a 300Mbps plan for $70. While 300Mbps might not be the fastest plan, you'll still be getting faster speeds than T-Mobile at 245Mbps. With Verizon, you can expect straightforward service terms: no contracts or data caps and the equipment is included at no extra cost.. . : According to the latest FCC data, this fixed wireless provider is available to about 44% of Las Cruces households. If you want to avoid a hike in prices from Xfinity after your promo period ends, this ISP is a great alternative. Verizon offers two plans for the area: a 100Mbps plan for $50 a month and a 300Mbps plan for $70. While 300Mbps might not be the fastest plan, you'll still be getting faster speeds than T-Mobile at 245Mbps. With Verizon, you can expect straightforward service terms: no contracts or data caps and the equipment is included at no extra cost. Satellite internet: While Starlink is taking the lead for the best satellite connection in the city, Hughesnet and Viasat also offer solid home broadband options. Hughesnet is the cheapest option of the three, with standard service starting at $50 a month for download speeds of 50Mbps. Viasat offers a singular plan for up to 150Mbps with no term agreements.. . Cheap internet options in Las Cruces. . Most internet options in Las Cruces start at around $43 a month, but a few ISPs offer cheaper options. The cheapest internet offering in the city is Xfinity's $20-a-month plan for download speeds of 150Mbps. If you're looking for more speed, Xfinity also has a 300Mbps plan for just $15 more. Verizon and T-Mobile also offer eligible mobile customers discounts and may knock $10 to $20 off your monthly bill.. . What's the cheapest internet plan in Las Cruces?. . Provider Starting price Max download speed Monthly equipment fee Xfinity Connect. . Read full review $20 150Mbps $15 (optional) Xfinity Connect More. . Read full review $35 300Mbps None Verizon 5G Home Internet. . Read full review $50 ($35 with eligible mobile plans) 100Mbps None T-Mobile Home Internet. . Read full review $50 ($40 with eligible mobile plans) 245Mbps None Xfinity Fast. . Read full review $55 500Mbps None Show more (0 item) Shop providers at my address. . Source: CNET analysis of provider data.. . renal / Getty Images. . How to find internet deals and promotions in Las Cruces. . The best internet deals and top promotions in Las Cruces depend on what discounts are available during a given time. Most deals are short-lived, but we look frequently for the latest offers.. . Take our quiz Get Started Progress Step 1 of 4 How many members of your household use the internet? 1-2 people. . 3-5 people. . 6-9 people. . 10+ people Next. . Las Cruces internet providers, such as T-Mobile Home Internet, Xfinity and Verizon 5G Home Internet, may offer lower introductory pricing or streaming add-ons for a limited time. Others, like Starlink, run the same standard pricing year-round.. . For a more extensive list of promos, check out our guide on the best internet deals.. . How fast is Las Cruces broadband?. . In the latest Ookla speed test data, Las Cruces had a fixed median download speed of 273Mbps. That's not bad, especially considering the state of New Mexico rang in with a speed of 185Mbps. Nearby cities like Albuquerque and Sante Fe also couldn't match Las Cruces, coming in with 264Mbps and 251Mbps, respectively. Rio Rancho took home the trophy for top median speeds with 291Mbps.. . Fastest internet plans in Las Cruces. . Provider Starting price Max download speed Max upload speed Data cap Connection type Xfinity Gigabit Extra. . Read full review $80 1,200Mbps 35Mbps 1.2TB Cable Xfinity Gigabit. . Read full review $65 1,000Mbps 20Mbps 1.2TB Cable Show more (0 item) Shop providers at my address. . Source: CNET analysis of provider data.. . What’s a good internet speed?. . Most internet connection plans can now handle basic productivity and communication tasks. If you're looking for an internet plan that can accommodate videoconferencing, streaming video or gaming, you'll have a better experience with a more robust connection. Here's an overview of the recommended minimum download speeds for various applications, according to the FCC. Note that these are only guidelines and that internet speed, service and performance vary by connection type, provider and address.. . For more information, refer to our guide on how much internet speed you really need.. . 0 to 5Mbps allows you to tackle the basics: browsing the internet, sending and receiving email and streaming low-quality video.. . 5 to 40Mbps gives you higher-quality video streaming and videoconferencing.. . 40 to 100Mbps should give one user sufficient bandwidth to satisfy the demands of modern telecommuting, video streaming and online gaming.. . 100 to 500Mbps allows one to two users to simultaneously engage in high-bandwidth activities like videoconferencing, streaming and online gaming.. . 500 to 1,000Mbps allows three or more users to engage in high-bandwidth activities at the same time.. . How CNET chose the best internet providers in Las Cruces. . Internet service providers are numerous and regional. Unlike the latest smartphone, laptop, router or kitchen tool, it’s impractical to personally test every ISP in a given city. What’s our approach? We start by researching the pricing, availability and speed information drawing on our own historical ISP data, the provider sites and mapping information from the Federal Communications Commission at FCC.gov.. . It doesn’t end there: We go to the FCC’s website to check our data and ensure we consider every ISP that provides service in an area. We also input local addresses on provider websites to find specific options for residents. We look at sources, including the American Customer Satisfaction Index and J.D. Power, to evaluate how happy customers are with an ISP’s service. ISP plans and prices are subject to frequent changes; all information provided is accurate as of the time of publication.. . Once we have this localized information, we ask three main questions:. . Does the provider offer access to reasonably fast internet speeds? Do customers get decent value for what they’re paying? Are customers happy with their service?. . While the answer to those questions is often layered and complex, the providers who come closest to “yes” on all three are the ones we recommend. When selecting the cheapest internet service, we look for the plans with the lowest monthly fee, although we also factor in things like price increases, equipment fees and contracts. Choosing the fastest internet service is relatively straightforward. We look at advertised upload and download speeds and consider real-world speed data from sources like Ookla and FCC reports. (Ookla is owned by the same parent company as CNET, Ziff Davis.). . To explore our process in more depth, visit our how we test ISPs page.. . What's the final word on internet providers in Las Cruces?. . Your home broadband options will be limited if you reside in Las Cruces. Most households in the city are serviceable for a cable connection from Xfinity. Like most cable providers, expect a price hike from Xfinity once the promo period ends. A fixed wireless connection from T-Mobile might be a decent alternative to avoid that increase. Starlink is available virtually everywhere, but you might have to settle for slower speeds and a steeper monthly cost (to say nothing of the $349 upfront cost for starting service).. . Internet providers in Las Cruces FAQs. . What is the best internet service provider in Las Cruces? Xfinity is the best internet service provider in Las Cruces, offering the city's fastest speeds, broadest coverage and lowest introductory prices. According to the latest data from the FCC, Xfinity is available to over 99% of households in Las Cruces, which means that your address is likely eligible for service.. . Is fiber internet available in Las Cruces? Yes, according to the latest FCC data, fiber internet is available to approximately 4% of Las Cruces households. Fiber coverage is limited throughout the city, but few households might be serviceable for Quantum Fiber or Xfinity's fiber internet connection.. . What is the cheapest internet provider in Las Cruces? Xfinity is the cheapest internet provider in Las Cruces, offering a $20-a-month plan for 150Mbps. For just $15 more, you can bump up that speed to 300Mbps.\""
      ]
     },
     "execution_count": 38,
     "metadata": {},
     "output_type": "execute_result"
    }
   ],
   "source": [
    "text = sample_records.iloc[0]['content']\n",
    "text"
   ]
  },
  {
   "cell_type": "code",
   "execution_count": 40,
   "metadata": {},
   "outputs": [
    {
     "data": {
      "text/plain": [
       "'Nature’s 2023 survey of postdoctoral researchers identified a notable gap between industry and academia. Although industry postdocs remain in the minority — only 7% of the 3,838 respondents from around the world reported working in an industrial setting — they reported greater satisfaction and tended to be better compensated. Nearly one-quarter of postdocs in industry reported annual earnings of between US$80,000 and $110,000, compared with just 5% of their academic counterparts.. . Whereas global companies such as Google, Honda and Coca-Cola all have postdocs on the payroll, it is pharmaceutical and life-science companies that have been especially eager to embrace this group as part of their workforce. AstraZeneca, for example, employs more than 120 postdocs in 3-year positions across its research and design centres in the United States, the United Kingdom and Sweden. Industry postdocs can learn fresh skills and explore new scientific targets — with some corporate restrictions — and the companies get eager workers who can make important advances in basic science.. . Nature spoke to three postdocs who work at large pharmaceutical and life-science companies: Genentech, Merck and AstraZeneca. Although the transition from academia to industry isn’t always easy, and the next step isn’t always apparent, all agree that these positions provided invaluable experience.. . ANNIE WOOLVEN: Big company, big opportunities. . Systems biologist at AstraZeneca, Cambridge, UK.. . Annie Woolven says a postdoc at AstraZeneca has opened the door to new opportunities.Credit: AstraZeneca. . During graduate school at the University of Birmingham, UK, I used analytical chemistry to study metabolomics and metabolism. Among other things, I looked at metabolites in human tears.. . That work was interesting, but I never really felt that academia was right for me. Teaching, grant writing, managing other people — there was a lot that wasn’t related to science. I hadn’t necessarily planned to do a postdoc position, but I came across this project at AstraZeneca in Cambridge, UK, that really spoke to me. Because it involved moving from metabolomics to systems biology, I knew that I would gain many new skills. And it would let me see if industry was a good place to do my science.. . Planning a postdoc before moving to industry? Think again. . As a postdoc in the clinical pharmacology and safety sciences division, I’m not involved with pipeline work. AstraZeneca expects us to publish at least two articles in high-quality publications during our time here, so everything has to be releasable to the public. I’m on track to meet those expectations. I have one draft in the works, and I’ll start another paper after I finish some data analysis.. . There are advantages to working in a large company. I can learn from people in different parts of the firm; we have Friday talks where in-house researchers from all around the business discuss their projects. But it’s not just about research. People come here to talk about law, policy and entrepreneurship. I’m personally becoming interested in science communication. I know the communications team would answer my questions and help me to explore that career option. If there’s another part of the company that I think is more interesting, I could just get a coffee with someone. I don’t think that could happen in academia.. . I led the start up of a focus group of people who work in multi-omics in AstraZeneca. At first it was just postdocs, but it now includes people with other positions in the company. We also invite academics to talk about their multi-omics work. At any stage of your career, building those sorts of network can be helpful.. . I’m well-funded and taken care of. I have support when I need it throughout the company, and I’m able to focus on just my research. I have a standard working week. After working practically 24/7 on my PhD thesis, it’s a welcome change of pace.. . My three-year contract ends in April 2025. I’m not sure where I’ll be next, but I want to stay in industry. For me, a postdoctoral position outside academia was definitely the right choice.. . JOE PARRY: Building a fresh toolkit. . Organic chemist at Merck, Rahway, New Jersey.. . Joe Parry has become interested in process chemistry during his postdoc at Merck.Credit: Merck Sharp & Dohme. . Near the end of my time in graduate school at Cornell University in Ithaca, New York, I started craving a change in environment. Up until that point, I had only really known life in academia, where I studied organometallic chemistry. I thought that trying something different would be a great opportunity to stretch myself, personally and professionally. It was the first time in my life that I didn’t have the next several years completely mapped out, which was scary.. . I saw that Merck was offering a postdoc position in Rahway, New Jersey, that was loosely related to some of the skills that I had developed at graduate school. I could tell that there was potential for me to gain skill sets. I had never used an ultra-performance liquid chromatography mass spectrometry machine until I started at Merck. Now it’s a standard tool for my research. The chance to explore different ways to tackle problems was exciting to me. When I reflect on my day-to-day life now, it looks completely different from two years ago.. . Postdocs are organizing to obtain better pay and working conditions — that can only be a good thing. . During my two years at Merck, I’ve become interested in process chemistry, which involves finding practical and efficient ways to produce newly discovered compounds. Using high-throughput experimentation, I can develop innovative approaches to tough problems in chemistry. I hope to continue exploring process chemistry in my next position, hopefully in industry.. . I value the community and collaborative environment at Merck. Postdocs here are embedded in research teams, and there’s no project that’s off limits. Postdocs are often given exploratory projects with the hope that the methods they develop will eventually be helpful for developing profitable pharmaceuticals and other compounds.. . There’s a misconception that postdocs in industry aren’t able to publish papers, because they’re too busy working on company secrets. In fact, we’re encouraged to publish. Merck recognizes that publishing our work helps to facilitate exchanges with outside researchers and is important for our career development. I have a couple of manuscripts in the works, but it’s too early to discuss the details.'"
      ]
     },
     "execution_count": 40,
     "metadata": {},
     "output_type": "execute_result"
    }
   ],
   "source": [
    "text = sample_records.iloc[1]['content']\n",
    "text"
   ]
  },
  {
   "cell_type": "markdown",
   "metadata": {},
   "source": [
    "Seems like there are weird period patterns in between such text block, let's use that, and \\n as a delimiter to split the text into blocks."
   ]
  },
  {
   "cell_type": "code",
   "execution_count": 52,
   "metadata": {},
   "outputs": [],
   "source": [
    "pattern = r'(?<!\\.)\\.{2}(?!\\.)|\\. \\.|\\.{2,} \\.|\\n+'"
   ]
  },
  {
   "cell_type": "code",
   "execution_count": 53,
   "metadata": {},
   "outputs": [
    {
     "data": {
      "text/plain": [
       "['What is the best internet provider in Las Cruces, New Mexico?',\n",
       " \" Xfinity is CNET's top pick for the best internet service provider in Las Cruces, thanks to its wide availability throughout the city. It’s also the only cable connection available. But if you want the cheapest and fastest internet plans in Las Cruces, Xfinity is the provider for you. Plan prices go up after a year or two, so be prepared for a bill increase though. However, despite the increase, some plans still offer a decent deal even at the regular rate. This cable giant has also made strides in its customer satisfaction ratings\",\n",
       " \" . If Xfinity doesn't serve your address, you can pick between fixed wireless or satellite internet. While more susceptible to network disruption than wired connections, and slower than Xfinity, they're decent alternatives. T-Mobile Home Internet is our favorite wireless provider in the area, and you can get great discounts for bundling with an eligible cellphone plan\",\n",
       " ' . Need speed? Xfinity offers the fastest internet plan in the city, with download speeds of 1,200 megabits per second for $80 monthly. The cost per Mbps of its top-end plan is a very cheap 7 cents per Mbps. And if you want to save money, Xfinity also has a $20 monthly plan for 150Mbps',\n",
       " ' . Best internet in Las Cruces, New Mexico',\n",
       " ' Las Cruces internet providers compared Provider Internet technology Monthly price range Speed range Monthly equipment costs Data cap Contract CNET review score CenturyLink',\n",
       " ' Read full review DSL $55 10-100Mbps $15 (optional) None None 6.7 Starlink',\n",
       " ' Read full review Satellite $120 30-150Mbps $349 one-time purchase Unlimited None 6.5 T-Mobile Home Internet',\n",
       " ' Read full review Fixed wireless $50-$70 ($40-$50 for eligible Go5G Plus and Magenta Max mobile customers) 72-245Mbps None None None 7.4 Verizon 5G Home Internet',\n",
       " ' Read full review Fixed wireless $50-$70 ($35-$45 for eligible Verizon Wireless customers) 100-300Mbps None None None 7.2 Xfinity',\n",
       " ' Read full review Cable $20-$80 150-1,200Mbps $15 on some plans (optional) 1.2TB 1-year on some 7 Show more (0 item) Shop providers at my address',\n",
       " ' Source: CNET analysis of provider data',\n",
       " ' . Other available internet providers in Las Cruces',\n",
       " \" Verizon 5G Home Internet : According to the latest FCC data, this fixed wireless provider is available to about 44% of Las Cruces households. If you want to avoid a hike in prices from Xfinity after your promo period ends, this ISP is a great alternative. Verizon offers two plans for the area: a 100Mbps plan for $50 a month and a 300Mbps plan for $70. While 300Mbps might not be the fastest plan, you'll still be getting faster speeds than T-Mobile at 245Mbps. With Verizon, you can expect straightforward service terms: no contracts or data caps and the equipment is included at no extra cost\",\n",
       " \" . : According to the latest FCC data, this fixed wireless provider is available to about 44% of Las Cruces households. If you want to avoid a hike in prices from Xfinity after your promo period ends, this ISP is a great alternative. Verizon offers two plans for the area: a 100Mbps plan for $50 a month and a 300Mbps plan for $70. While 300Mbps might not be the fastest plan, you'll still be getting faster speeds than T-Mobile at 245Mbps. With Verizon, you can expect straightforward service terms: no contracts or data caps and the equipment is included at no extra cost. Satellite internet: While Starlink is taking the lead for the best satellite connection in the city, Hughesnet and Viasat also offer solid home broadband options. Hughesnet is the cheapest option of the three, with standard service starting at $50 a month for download speeds of 50Mbps. Viasat offers a singular plan for up to 150Mbps with no term agreements\",\n",
       " ' . Cheap internet options in Las Cruces',\n",
       " \" Most internet options in Las Cruces start at around $43 a month, but a few ISPs offer cheaper options. The cheapest internet offering in the city is Xfinity's $20-a-month plan for download speeds of 150Mbps. If you're looking for more speed, Xfinity also has a 300Mbps plan for just $15 more. Verizon and T-Mobile also offer eligible mobile customers discounts and may knock $10 to $20 off your monthly bill\",\n",
       " \" . What's the cheapest internet plan in Las Cruces?\",\n",
       " ' Provider Starting price Max download speed Monthly equipment fee Xfinity Connect',\n",
       " ' Read full review $20 150Mbps $15 (optional) Xfinity Connect More',\n",
       " ' Read full review $35 300Mbps None Verizon 5G Home Internet',\n",
       " ' Read full review $50 ($35 with eligible mobile plans) 100Mbps None T-Mobile Home Internet',\n",
       " ' Read full review $50 ($40 with eligible mobile plans) 245Mbps None Xfinity Fast',\n",
       " ' Read full review $55 500Mbps None Show more (0 item) Shop providers at my address',\n",
       " ' Source: CNET analysis of provider data',\n",
       " ' . renal / Getty Images',\n",
       " ' How to find internet deals and promotions in Las Cruces',\n",
       " ' The best internet deals and top promotions in Las Cruces depend on what discounts are available during a given time. Most deals are short-lived, but we look frequently for the latest offers',\n",
       " ' . Take our quiz Get Started Progress Step 1 of 4 How many members of your household use the internet? 1-2 people',\n",
       " ' 3-5 people',\n",
       " ' 6-9 people',\n",
       " ' 10+ people Next',\n",
       " ' Las Cruces internet providers, such as T-Mobile Home Internet, Xfinity and Verizon 5G Home Internet, may offer lower introductory pricing or streaming add-ons for a limited time. Others, like Starlink, run the same standard pricing year-round',\n",
       " ' . For a more extensive list of promos, check out our guide on the best internet deals',\n",
       " ' . How fast is Las Cruces broadband?',\n",
       " \" In the latest Ookla speed test data, Las Cruces had a fixed median download speed of 273Mbps. That's not bad, especially considering the state of New Mexico rang in with a speed of 185Mbps. Nearby cities like Albuquerque and Sante Fe also couldn't match Las Cruces, coming in with 264Mbps and 251Mbps, respectively. Rio Rancho took home the trophy for top median speeds with 291Mbps\",\n",
       " ' . Fastest internet plans in Las Cruces',\n",
       " ' Provider Starting price Max download speed Max upload speed Data cap Connection type Xfinity Gigabit Extra',\n",
       " ' Read full review $80 1,200Mbps 35Mbps 1.2TB Cable Xfinity Gigabit',\n",
       " ' Read full review $65 1,000Mbps 20Mbps 1.2TB Cable Show more (0 item) Shop providers at my address',\n",
       " ' Source: CNET analysis of provider data',\n",
       " ' . What’s a good internet speed?',\n",
       " \" Most internet connection plans can now handle basic productivity and communication tasks. If you're looking for an internet plan that can accommodate videoconferencing, streaming video or gaming, you'll have a better experience with a more robust connection. Here's an overview of the recommended minimum download speeds for various applications, according to the FCC. Note that these are only guidelines and that internet speed, service and performance vary by connection type, provider and address\",\n",
       " ' . For more information, refer to our guide on how much internet speed you really need',\n",
       " ' . 0 to 5Mbps allows you to tackle the basics: browsing the internet, sending and receiving email and streaming low-quality video',\n",
       " ' . 5 to 40Mbps gives you higher-quality video streaming and videoconferencing',\n",
       " ' . 40 to 100Mbps should give one user sufficient bandwidth to satisfy the demands of modern telecommuting, video streaming and online gaming',\n",
       " ' . 100 to 500Mbps allows one to two users to simultaneously engage in high-bandwidth activities like videoconferencing, streaming and online gaming',\n",
       " ' . 500 to 1,000Mbps allows three or more users to engage in high-bandwidth activities at the same time',\n",
       " ' . How CNET chose the best internet providers in Las Cruces',\n",
       " ' Internet service providers are numerous and regional. Unlike the latest smartphone, laptop, router or kitchen tool, it’s impractical to personally test every ISP in a given city. What’s our approach? We start by researching the pricing, availability and speed information drawing on our own historical ISP data, the provider sites and mapping information from the Federal Communications Commission at FCC.gov',\n",
       " ' . It doesn’t end there: We go to the FCC’s website to check our data and ensure we consider every ISP that provides service in an area. We also input local addresses on provider websites to find specific options for residents. We look at sources, including the American Customer Satisfaction Index and J.D. Power, to evaluate how happy customers are with an ISP’s service. ISP plans and prices are subject to frequent changes; all information provided is accurate as of the time of publication',\n",
       " ' . Once we have this localized information, we ask three main questions:',\n",
       " ' Does the provider offer access to reasonably fast internet speeds? Do customers get decent value for what they’re paying? Are customers happy with their service?',\n",
       " ' While the answer to those questions is often layered and complex, the providers who come closest to “yes” on all three are the ones we recommend. When selecting the cheapest internet service, we look for the plans with the lowest monthly fee, although we also factor in things like price increases, equipment fees and contracts. Choosing the fastest internet service is relatively straightforward. We look at advertised upload and download speeds and consider real-world speed data from sources like Ookla and FCC reports. (Ookla is owned by the same parent company as CNET, Ziff Davis.)',\n",
       " ' To explore our process in more depth, visit our how we test ISPs page',\n",
       " \" . What's the final word on internet providers in Las Cruces?\",\n",
       " ' Your home broadband options will be limited if you reside in Las Cruces. Most households in the city are serviceable for a cable connection from Xfinity. Like most cable providers, expect a price hike from Xfinity once the promo period ends. A fixed wireless connection from T-Mobile might be a decent alternative to avoid that increase. Starlink is available virtually everywhere, but you might have to settle for slower speeds and a steeper monthly cost (to say nothing of the $349 upfront cost for starting service)',\n",
       " ' . Internet providers in Las Cruces FAQs',\n",
       " \" What is the best internet service provider in Las Cruces? Xfinity is the best internet service provider in Las Cruces, offering the city's fastest speeds, broadest coverage and lowest introductory prices. According to the latest data from the FCC, Xfinity is available to over 99% of households in Las Cruces, which means that your address is likely eligible for service\",\n",
       " \" . Is fiber internet available in Las Cruces? Yes, according to the latest FCC data, fiber internet is available to approximately 4% of Las Cruces households. Fiber coverage is limited throughout the city, but few households might be serviceable for Quantum Fiber or Xfinity's fiber internet connection\",\n",
       " ' . What is the cheapest internet provider in Las Cruces? Xfinity is the cheapest internet provider in Las Cruces, offering a $20-a-month plan for 150Mbps. For just $15 more, you can bump up that speed to 300Mbps.']"
      ]
     },
     "execution_count": 53,
     "metadata": {},
     "output_type": "execute_result"
    }
   ],
   "source": [
    "text = sample_records.iloc[0]['content']\n",
    "re.split(pattern, text)"
   ]
  },
  {
   "cell_type": "code",
   "execution_count": 57,
   "metadata": {},
   "outputs": [
    {
     "data": {
      "text/plain": [
       "['Nature’s 2023 survey of postdoctoral researchers identified a notable gap between industry and academia. Although industry postdocs remain in the minority — only 7% of the 3,838 respondents from around the world reported working in an industrial setting — they reported greater satisfaction and tended to be better compensated. Nearly one-quarter of postdocs in industry reported annual earnings of between US$80,000 and $110,000, compared with just 5% of their academic counterparts',\n",
       " ' . Whereas global companies such as Google, Honda and Coca-Cola all have postdocs on the payroll, it is pharmaceutical and life-science companies that have been especially eager to embrace this group as part of their workforce. AstraZeneca, for example, employs more than 120 postdocs in 3-year positions across its research and design centres in the United States, the United Kingdom and Sweden. Industry postdocs can learn fresh skills and explore new scientific targets — with some corporate restrictions — and the companies get eager workers who can make important advances in basic science',\n",
       " ' . Nature spoke to three postdocs who work at large pharmaceutical and life-science companies: Genentech, Merck and AstraZeneca. Although the transition from academia to industry isn’t always easy, and the next step isn’t always apparent, all agree that these positions provided invaluable experience',\n",
       " ' . ANNIE WOOLVEN: Big company, big opportunities',\n",
       " ' Systems biologist at AstraZeneca, Cambridge, UK',\n",
       " ' . Annie Woolven says a postdoc at AstraZeneca has opened the door to new opportunities.Credit: AstraZeneca',\n",
       " ' During graduate school at the University of Birmingham, UK, I used analytical chemistry to study metabolomics and metabolism. Among other things, I looked at metabolites in human tears',\n",
       " ' . That work was interesting, but I never really felt that academia was right for me. Teaching, grant writing, managing other people — there was a lot that wasn’t related to science. I hadn’t necessarily planned to do a postdoc position, but I came across this project at AstraZeneca in Cambridge, UK, that really spoke to me. Because it involved moving from metabolomics to systems biology, I knew that I would gain many new skills. And it would let me see if industry was a good place to do my science',\n",
       " ' . Planning a postdoc before moving to industry? Think again',\n",
       " ' As a postdoc in the clinical pharmacology and safety sciences division, I’m not involved with pipeline work. AstraZeneca expects us to publish at least two articles in high-quality publications during our time here, so everything has to be releasable to the public. I’m on track to meet those expectations. I have one draft in the works, and I’ll start another paper after I finish some data analysis',\n",
       " ' . There are advantages to working in a large company. I can learn from people in different parts of the firm; we have Friday talks where in-house researchers from all around the business discuss their projects. But it’s not just about research. People come here to talk about law, policy and entrepreneurship. I’m personally becoming interested in science communication. I know the communications team would answer my questions and help me to explore that career option. If there’s another part of the company that I think is more interesting, I could just get a coffee with someone. I don’t think that could happen in academia',\n",
       " ' . I led the start up of a focus group of people who work in multi-omics in AstraZeneca. At first it was just postdocs, but it now includes people with other positions in the company. We also invite academics to talk about their multi-omics work. At any stage of your career, building those sorts of network can be helpful',\n",
       " ' . I’m well-funded and taken care of. I have support when I need it throughout the company, and I’m able to focus on just my research. I have a standard working week. After working practically 24/7 on my PhD thesis, it’s a welcome change of pace',\n",
       " ' . My three-year contract ends in April 2025. I’m not sure where I’ll be next, but I want to stay in industry. For me, a postdoctoral position outside academia was definitely the right choice',\n",
       " ' . JOE PARRY: Building a fresh toolkit',\n",
       " ' Organic chemist at Merck, Rahway, New Jersey',\n",
       " ' . Joe Parry has become interested in process chemistry during his postdoc at Merck.Credit: Merck Sharp & Dohme',\n",
       " ' Near the end of my time in graduate school at Cornell University in Ithaca, New York, I started craving a change in environment. Up until that point, I had only really known life in academia, where I studied organometallic chemistry. I thought that trying something different would be a great opportunity to stretch myself, personally and professionally. It was the first time in my life that I didn’t have the next several years completely mapped out, which was scary',\n",
       " ' . I saw that Merck was offering a postdoc position in Rahway, New Jersey, that was loosely related to some of the skills that I had developed at graduate school. I could tell that there was potential for me to gain skill sets. I had never used an ultra-performance liquid chromatography mass spectrometry machine until I started at Merck. Now it’s a standard tool for my research. The chance to explore different ways to tackle problems was exciting to me. When I reflect on my day-to-day life now, it looks completely different from two years ago',\n",
       " ' . Postdocs are organizing to obtain better pay and working conditions — that can only be a good thing',\n",
       " ' During my two years at Merck, I’ve become interested in process chemistry, which involves finding practical and efficient ways to produce newly discovered compounds. Using high-throughput experimentation, I can develop innovative approaches to tough problems in chemistry. I hope to continue exploring process chemistry in my next position, hopefully in industry',\n",
       " ' . I value the community and collaborative environment at Merck. Postdocs here are embedded in research teams, and there’s no project that’s off limits. Postdocs are often given exploratory projects with the hope that the methods they develop will eventually be helpful for developing profitable pharmaceuticals and other compounds',\n",
       " ' . There’s a misconception that postdocs in industry aren’t able to publish papers, because they’re too busy working on company secrets. In fact, we’re encouraged to publish. Merck recognizes that publishing our work helps to facilitate exchanges with outside researchers and is important for our career development. I have a couple of manuscripts in the works, but it’s too early to discuss the details.']"
      ]
     },
     "execution_count": 57,
     "metadata": {},
     "output_type": "execute_result"
    }
   ],
   "source": [
    "text = sample_records.iloc[1]['content']\n",
    "re.split(pattern, text)"
   ]
  },
  {
   "cell_type": "code",
   "execution_count": 56,
   "metadata": {},
   "outputs": [
    {
     "data": {
      "text/plain": [
       "['Furthermore, there was a moment where the Lacheys brought up their pod conversations where Richardson admitted to cheating in past relationships. However, the reunion failed to address other problematic aspects of Richardson’s behavior. Particularly, the racially charged moment when he called Davis a “mutt” (and her going along with it) while she described her mixed heritage. This oversight could’ve been a teachable moment and used as an opportunity to condemn the use of such derogatory language, especially in 2024. But I personally believe this proves perhaps the hosts didn’t have the range to handle such a sensitive topic.']"
      ]
     },
     "execution_count": 56,
     "metadata": {},
     "output_type": "execute_result"
    }
   ],
   "source": [
    "text = sample_records.iloc[2]['content']\n",
    "re.split(pattern, text)"
   ]
  },
  {
   "cell_type": "code",
   "execution_count": 55,
   "metadata": {},
   "outputs": [
    {
     "data": {
      "text/plain": [
       "['As “Tetris” celebrates 40 years of falling blocks at the Lucca Comic and Games convention in Italy, Variety sat down with its creator Alexey Pajitnov and the Tetris company’s co-founder Henk Rogers to discuss the beginnings of the most successful computer game in the world',\n",
       " ' . Despite the difference in their appearance, Pajitnov, pale with a white beard, and Rogers, tan with a colorful trilby, make a formidable team who overcame great odds to bring their puzzle game – in which players pair and eliminate a series of multicolored falling blocks – to the world in 1984',\n",
       " ' . Such were the adventures, there’s even an Apple+ film “Tetris,” starring Taron Egerton and directed by Jon Baird. Pajitnov smiles at the memory: “Noah Pink [the screenwriter] was very attentive to our notes, but it was still a long and difficult fight with them, because they desperately need all this Hollywoodish bullshit.”',\n",
       " ' Rogers understands the compromises necessary: “Their job was to take a year and a half of our life and squeeze it into two hours. Unfortunately, we didn’t have any control on the shooting, because of COVID.”',\n",
       " ' Popular on Variety',\n",
       " ' “When we watched the movie, we were surprisingly pleased,” Pajitnov says. “We had low expectations. I’m pleased with the bad guys. They’re fictional though.”',\n",
       " ' The very real-life British tycoon Robert Maxwell as Rogers’ main competitor also features along with Soviet premier Mikhail Gorbachev, as the licensing battles took place against the backdrop of the changing situation in the USSR. “I like the actor who plays me [Nikita Efremov],” Pajitnov adds. “He reminds me of myself young. It was a strange, out of body experience.”',\n",
       " ' “I was there during the transition,” Rogers says. “We had a group of 100 graphic developers in Moscow working. I remember giving a speech. I said, this is not the end of the Soviet Union. This is the beginning of Russia. Everybody had hoped that it was going to be freedom. Then it slowly eroded back into what it is now.”',\n",
       " ' The reason for “Tetris’” success is simple according to Rogers: “We broke through the female barrier. Before ‘Tetris,’ games were for guys, 95% guys, right? And ‘Tetris’ changed all that.”',\n",
       " ' Rogers continues: “It’s an order out of chaos game and that is more the female side of us. Men are male and female. We are x and y. Women are x and x. We can do both construction and destruction. Women are construction and construction. That’s why the world is becoming a better place because of women.”',\n",
       " ' Looking at the current gaming market, both men have their criticisms. For Rogers, an ex-publisher of games, it’s economics. “People don’t want to spend the amount of money to buy a cup of coffee for a game. It’s $3 and a cup of coffee gives you 20 minutes of satisfaction, a game will give you hours.”',\n",
       " ' Talking about in-app purchases, Rogers continues the coffee comparison: “They give you this much coffee, and they ask for more money to put a little flavor into your coffee, or sugar. It’s such an annoying way of consuming something.”',\n",
       " ' “I’m still in love with my puzzle part,” Pajitnov says, but he finds current programs too full of bugs. “They’ll release a game, online or mobile games, and get the public to debug it. Then the game fails because people get annoyed.” He concludes with a resigned laugh: “It’s the dialectic.”',\n",
       " ' Rogers on the other hand is spending his energy now on combating climate change. “It’s called Blue Planet Alliance. We are basically putting Hawaii on a path to go 100% renewable energy. Fifteen other states copied us. It’s moving across the states. We’re bringing island countries to Hawaii to show them what we did and put them on track. Eventually, we’ll get all the countries in the world to have a mandate for 100% renewable energy by 2045, the 100th anniversary of the United Nations.”',\n",
       " ' Rogers talks about his next endeavor with the confidence of a man who has solved puzzles before.']"
      ]
     },
     "execution_count": 55,
     "metadata": {},
     "output_type": "execute_result"
    }
   ],
   "source": [
    "text = sample_records.iloc[3]['content']\n",
    "re.split(pattern, text)"
   ]
  },
  {
   "cell_type": "code",
   "execution_count": 54,
   "metadata": {},
   "outputs": [
    {
     "data": {
      "text/plain": [
       "['Nate Silver has unveiled his latest prediction ahead of the presidential election - suggesting that the outcome will practically be a coin flip',\n",
       " ' . The polling guru gave former President Donald Trump a 51.5 percent chance to win the electoral college, while Vice President Kamala Harris walked away with a 48.1 percent chance of victory',\n",
       " ' . Silver, who left Five Thirty Eight in 2023 and took his forecasting model with him, made his latest prognostication on his Substack blog called the Silver Bulletin',\n",
       " ' . He has Trump as the slight favorite, despite Harris being ahead in his aggregation of public polls by just under a percentage point',\n",
       " \" . 'NYT swing state polls good for Harris but not great. Morning Consult swing state polls good for Trump but not great,' Silver wrote on X Sunday morning. 'It’s a pure toss-up.'\",\n",
       " \" Nate Silver believes the race between Donald Trump and Kamala Harris is 'a pure toss-up' based on the final polls before Election Day\",\n",
       " ' Silver was first referring to the final poll done by The New York Times that showed Trump running behind Harris in four critical swing states: Georgia, Nevada, North Carolina and Wisconsin',\n",
       " ' . That poll also showed Trump with a lead in Arizona, while the two were tied in Michigan and Pennsylvania',\n",
       " ' . The Morning Consult poll results, as Silver mentioned, were slightly kinder to Trump',\n",
       " ' . He led Harris by two points in Georgia and in North Carolina. Morning Consult also found that three states were in a dead heat: Arizona, Pennsylvania and Wisconsin',\n",
       " \" . Silver also said the bombshell poll from famed pollster Ann Selzer showing Harris beating Trump by three points in Iowa 'probably won’t matter' in determining the electoral college winner\",\n",
       " \" . But Silver wasn't too quick to dismiss the results as totally meaningless, saying Harris supporters were right to have a strong reaction\",\n",
       " \" . 'I think Harris voters are reasonable in rejoicing over the Selzer survey,' Silver wrote\",\n",
       " \" . Nate Silver, pictured, said Trump's momentum 'petered out' in November, bringing the race back to a coinflip\",\n",
       " \" 'At the very least, it clinches the case that there will be plenty of numbers from high-quality pollsters in the final batch of polls that support a Harris victory - along with roughly as many that imply a Trump win,' he continued\",\n",
       " ' . \\'If Trump had \"momentum\" in October, it has now petered out in November. And we will very likely go into Tuesday night with the race being truly a toss-up, not leaning or tilting toward Trump.\\'',\n",
       " \" Selzer has built a reputation as 'Iowa's Polling Queen' and the 'best pollster in politics' over decades of conducting the Des Moines Register polls\",\n",
       " \" . The ex-president tore into the survey calling Selzer a 'Trump hater' and insisting that Iowa's farmers 'love' him\",\n",
       " \" . 'All polls, except for one heavily skewed toward the Democrats by a Trump hater who called it totally wrong the last time, have me up, BY A LOT,' he scathed on Truth Social\",\n",
       " ' . Selzer took the time to explain herself on cable television this weekend',\n",
       " \" . Ann Selzer has built a reputation as 'Iowa's Polling Queen' and the 'best pollster in politics' over decades of conducting the Des Moines Register polls\",\n",
       " ' Your browser does not support iframes',\n",
       " \" . 'We don't have as much data as we might like about why this is happening,' she told MSNBC's 'The Weekend.'\",\n",
       " \" 'But our consensus from the reporters who work this beat is that the abortion ban went into effect this past summer... I think it has gotten people interested in voting.'\",\n",
       " \" Iowa hasn't voted for a Democrat in the presidential election since Barack Obama in 2012 and was written off by the Harris campaign as an easy GOP win\",\n",
       " ' . Like the polls, the betting markets have also tightened in recent days, largely thanks to that favorable Iowa poll for Harris',\n",
       " ' . As recently as Halloween, around 60 percent of bettors on platforms such as Kalshi, Polymarket and Predictit, were convinced that Trump was going to win',\n",
       " \" . Trump's odds now are no better than 54 percent across all three websites. In fact, Harris is the 56 to 48 percent favorite on Predictit\",\n",
       " ' . The final DailyMail.com/J.L. Partners national poll before Election Day showed Trump overtaking Harris by three percentage points nationally',\n",
       " \" . The poll of 1,000 likely voters, which has a margin of error of plus or minus 3.1 percent, shows that Trump is trending up, with the support of 49 percent to Harris' 46 percent.\"]"
      ]
     },
     "execution_count": 54,
     "metadata": {},
     "output_type": "execute_result"
    }
   ],
   "source": [
    "text = sample_records.iloc[4]['content']\n",
    "re.split(pattern, text)"
   ]
  },
  {
   "cell_type": "markdown",
   "metadata": {},
   "source": [
    "Now, we can try the chaining process"
   ]
  },
  {
   "cell_type": "code",
   "execution_count": 58,
   "metadata": {},
   "outputs": [
    {
     "ename": "ModuleNotFoundError",
     "evalue": "No module named 'sentence_transformers'",
     "output_type": "error",
     "traceback": [
      "\u001b[0;31m---------------------------------------------------------------------------\u001b[0m",
      "\u001b[0;31mModuleNotFoundError\u001b[0m                       Traceback (most recent call last)",
      "Cell \u001b[0;32mIn[58], line 2\u001b[0m\n\u001b[1;32m      1\u001b[0m \u001b[38;5;66;03m# Import the necessary libraries\u001b[39;00m\n\u001b[0;32m----> 2\u001b[0m \u001b[38;5;28;01mfrom\u001b[39;00m\u001b[38;5;250m \u001b[39m\u001b[38;5;21;01msentence_transformers\u001b[39;00m\u001b[38;5;250m \u001b[39m\u001b[38;5;28;01mimport\u001b[39;00m SentenceTransformer\n\u001b[1;32m      3\u001b[0m \u001b[38;5;28;01mimport\u001b[39;00m\u001b[38;5;250m \u001b[39m\u001b[38;5;21;01mfaiss\u001b[39;00m\n\u001b[1;32m      4\u001b[0m \u001b[38;5;28;01mimport\u001b[39;00m\u001b[38;5;250m \u001b[39m\u001b[38;5;21;01mnumpy\u001b[39;00m\u001b[38;5;250m \u001b[39m\u001b[38;5;28;01mas\u001b[39;00m\u001b[38;5;250m \u001b[39m\u001b[38;5;21;01mnp\u001b[39;00m\n",
      "\u001b[0;31mModuleNotFoundError\u001b[0m: No module named 'sentence_transformers'"
     ]
    }
   ],
   "source": [
    "# Import the necessary libraries\n",
    "from sentence_transformers import SentenceTransformer\n",
    "import faiss\n",
    "from sklearn.metrics.pairwise import cosine_similarity\n",
    "import numpy as np"
   ]
  },
  {
   "cell_type": "code",
   "execution_count": null,
   "metadata": {},
   "outputs": [],
   "source": [
    "class EmbeddingModel:\n",
    "  \"\"\"\n",
    "\n",
    "  Returns:\n",
    "      _type_: _description_\n",
    "  \"\"\"\n",
    "  model: SentenceTransformer\n",
    "  \n",
    "  def __init__(self, model_name='all-MiniLM-L6-v2'):\n",
    "    \"\"\"Initialize the SentenceTransformer model.\"\"\"\n",
    "    self.model = SentenceTransformer(model_name)\n",
    "  \n",
    "  def generate_embedding(self, text):\n",
    "    \"\"\"Generate normalized embeddings for a list of strings.\"\"\"\n",
    "    embedding = self.model.encode(text)\n",
    "    return embedding\n",
    "\n",
    "  def generate_embeddings_for_corpus(self, corpus):\n",
    "    \"\"\"Generate normalized embeddings for a list of strings.\"\"\"\n",
    "    embeddings = self.model.encode(corpus)\n",
    "    normalized_embeddings = np.array([emb / np.linalg.norm(emb) for emb in embeddings], dtype=\"float32\")\n",
    "    return normalized_embeddings"
   ]
  },
  {
   "cell_type": "code",
   "execution_count": null,
   "metadata": {},
   "outputs": [],
   "source": [
    "class FaissDB:\n",
    "    \"\"\"A class to manage an independent FAISS-based vector database.\"\"\"\n",
    "    \n",
    "    def __init__(self, dimension):\n",
    "        \"\"\"Initialize a FAISS index for a given vector dimension.\"\"\"\n",
    "        self.dimension = dimension\n",
    "        self.index = faiss.IndexFlatL2(dimension)  # L2 distance-based index\n",
    "        self.embedding_documents = []  # Store metadata for embeddings\n",
    "\n",
    "    def add_embeddings(self, docs, embeddings):\n",
    "        \"\"\"\n",
    "        Add embeddings and associated metadata to the FAISS index.\n",
    "\n",
    "        Args:\n",
    "            docs (list): List of data corresponding to the embeddings.\n",
    "            embeddings (np.array): Array of embeddings.\n",
    "        \"\"\"\n",
    "        self.index.add(embeddings)\n",
    "        for idx, emb in enumerate(embeddings):\n",
    "            self.embedding_documents.append({\n",
    "                \"id\": idx,\n",
    "                \"doc\": docs[idx],\n",
    "                \"embedding\": emb,\n",
    "            })\n",
    "\n",
    "    def search(self, query_embedding, k=2):\n",
    "        \"\"\"\n",
    "        Search for the closest embeddings in the FAISS index.\n",
    "\n",
    "        Args:\n",
    "            query_embedding (np.array): Query embedding to search.\n",
    "            k (int): Number of nearest neighbors to return.\n",
    "        Returns:\n",
    "            tuple: Distances and document of closest matches.\n",
    "        \"\"\"\n",
    "        distances, indices = self.index.search(query_embedding, k)\n",
    "        return distances, [self.embedding_documents[index] for index in indices]\n",
    "\n",
    "    def delete(self):\n",
    "        \"\"\"Delete the FAISS index and associated metadata.\"\"\"\n",
    "        del self.index\n",
    "        self.embedding_documents = []\n",
    "        print(\"FAISS database deleted.\")"
   ]
  },
  {
   "cell_type": "code",
   "execution_count": null,
   "metadata": {},
   "outputs": [],
   "source": [
    "def calculate_pairwise_similarity(embeddings):\n",
    "    \"\"\"\n",
    "    Calculate pairwise cosine similarity between embeddings.\n",
    "\n",
    "    Args:\n",
    "        embeddings (np.array): Array of embeddings.\n",
    "    Returns:\n",
    "        np.array: Pairwise similarity.\n",
    "    \"\"\"\n",
    "    similarity_scores = cosine_similarity(embeddings, embeddings)\n",
    "    return similarity_scores\n",
    "\n",
    "def calculate_embedding_similarity(source_embedding, target_embeddings):\n",
    "    \"\"\"\n",
    "    Calculate Cosine similarity between the source embedding and target embeddings.\n",
    "\n",
    "    Args:\n",
    "        source_embedding (np.array): Array of source embedding.\n",
    "        target_embeddings (np.array): Arrays of target embeddings. \n",
    "    Returns:\n",
    "        np.array: Similarity of source embedding and target embeddings.\n",
    "    \"\"\"\n",
    "    similarity_scores = cosine_similarity(source_embedding, target_embeddings)\n",
    "    return similarity_scores"
   ]
  },
  {
   "cell_type": "code",
   "execution_count": 1,
   "metadata": {},
   "outputs": [
    {
     "ename": "NameError",
     "evalue": "name 'EmbeddingModel' is not defined",
     "output_type": "error",
     "traceback": [
      "\u001b[0;31m---------------------------------------------------------------------------\u001b[0m",
      "\u001b[0;31mNameError\u001b[0m                                 Traceback (most recent call last)",
      "Cell \u001b[0;32mIn[1], line 2\u001b[0m\n\u001b[1;32m      1\u001b[0m \u001b[38;5;66;03m# The chaining process\u001b[39;00m\n\u001b[0;32m----> 2\u001b[0m \u001b[38;5;28;43;01mclass\u001b[39;49;00m\u001b[38;5;250;43m \u001b[39;49m\u001b[38;5;21;43;01mCCF\u001b[39;49;00m\u001b[43m:\u001b[49m\n\u001b[1;32m      3\u001b[0m \u001b[38;5;250;43m  \u001b[39;49m\u001b[38;5;124;43;03m\"\"\"Chaining Content Filteration\"\"\"\u001b[39;49;00m\n\u001b[1;32m      4\u001b[0m \u001b[43m  \u001b[49m\u001b[43membed_model\u001b[49m\u001b[43m:\u001b[49m\u001b[43m \u001b[49m\u001b[43mEmbeddingModel\u001b[49m\n",
      "Cell \u001b[0;32mIn[1], line 4\u001b[0m, in \u001b[0;36mCCF\u001b[0;34m()\u001b[0m\n\u001b[1;32m      2\u001b[0m \u001b[38;5;28;01mclass\u001b[39;00m\u001b[38;5;250m \u001b[39m\u001b[38;5;21;01mCCF\u001b[39;00m:\n\u001b[1;32m      3\u001b[0m \u001b[38;5;250m  \u001b[39m\u001b[38;5;124;03m\"\"\"Chaining Content Filteration\"\"\"\u001b[39;00m\n\u001b[0;32m----> 4\u001b[0m   embed_model: \u001b[43mEmbeddingModel\u001b[49m\n\u001b[1;32m      5\u001b[0m   faiss_db: FaissDB\n\u001b[1;32m      7\u001b[0m   \u001b[38;5;28;01mdef\u001b[39;00m\u001b[38;5;250m \u001b[39m\u001b[38;5;21m__init__\u001b[39m(\u001b[38;5;28mself\u001b[39m):\n",
      "\u001b[0;31mNameError\u001b[0m: name 'EmbeddingModel' is not defined"
     ]
    }
   ],
   "source": [
    "# The chaining process\n",
    "class CCF:\n",
    "  \"\"\"Chaining Content Filteration\"\"\"\n",
    "  embed_model: EmbeddingModel\n",
    "  faiss_db: FaissDB\n",
    "\n",
    "  def __init__(self):\n",
    "    \"\"\"Initialize the CCF model.\"\"\"\n",
    "    self.embed_model = EmbeddingModel()\n",
    "    self.faiss_db = FaissDB(self.embed_model.model.get_sentence_embedding_dimension())\n",
    "  \n",
    "  def filter_text(self, reference_text: str, victim_corpus: list[str], similarity_threshold = 0.5, search_batch_size = 5):\n",
    "    \"\"\"\n",
    "    Filter the content using the CCF model.\n",
    "    \n",
    "    Args:\n",
    "        reference_text (str): Reference text.\n",
    "        victim_corpus (list): List of victim corpus.\n",
    "        similarity_threshold (float): Similarity threshold.\n",
    "        search_batch_size (int): Search batch size.\n",
    "    \n",
    "    \"\"\"\n",
    "    # Initialize the vector embeddings\n",
    "    corpus = [reference_text] + victim_corpus\n",
    "    embeddings = self.embed_model.generate_embeddings_for_corpus(corpus)\n",
    "    reference_text_embedding = embeddings.pop(0)\n",
    "    self.faiss_db.add_embeddings(victim_corpus, embeddings)\n",
    "    filtered_corpus = []\n",
    "    # Search for the start point of the victim corpus\n",
    "    start_doc = self.faiss_db.search(embeddings[0], k=1)[1][0]\n",
    "    start_doc_similarity = calculate_embedding_similarity(reference_text_embedding, start_doc['embedding'].reshape(1, -1))\n",
    "    if start_doc_similarity < similarity_threshold:\n",
    "      return None\n",
    "    filtered_corpus.append(start_doc['doc'])\n",
    "    ## Approach 1: Iterate through each embedding\n",
    "    ## Approach 2: Full vectorDB search\n",
    "    ## Approach 3: Partial vectorDB search\n",
    "    ### Backward chaining\n",
    "    if start_doc['id'] <= 0:\n",
    "      self.faiss_db.delete() # Clear the DB first\n",
    "      index_boundary = start_doc['id']\n",
    "      self.faiss_db.add_embeddings(victim_corpus[:index_boundary], embeddings[:index_boundary]) # Add the documents behind the start document\n",
    "      max_batches = (len(victim_corpus[:index_boundary]) // search_batch_size)+1\n",
    "      current_doc = start_doc.copy()\n",
    "      while True:\n",
    "        # Search the best link in sequential order\n",
    "        current_doc_embedding = current_doc['embedding']\n",
    "        document_list = {}\n",
    "        for assumed_target_link in range(current_doc['id'] - 1, -1, -1):\n",
    "          is_assumend_target_link_fit = None\n",
    "          if not document_list.get(assumed_target_link):\n",
    "            is_result_doc_found = False\n",
    "            for batch_no in range(max_batches):\n",
    "              batch_jump_size = batch_no*search_batch_size\n",
    "              batch_results = self.faiss_db.search(current_doc_embedding, k=search_batch_size*(batch_no+1))[batch_jump_size:]\n",
    "              for dist, result_doc in zip(batch_results[0], batch_results[1]):\n",
    "                document_list[result_doc['id']] = result_doc\n",
    "                if result_doc['id'] == assumed_target_link:\n",
    "                  is_result_doc_found = True\n",
    "                  break\n",
    "              if is_result_doc_found:\n",
    "                break\n",
    "          result_doc = document_list[assumed_target_link]\n",
    "          similarity_score = calculate_embedding_similarity(current_doc_embedding, result_doc['embedding'].shape(1, -1))\n",
    "          is_assumend_target_link_fit = similarity_score > similarity_threshold\n",
    "          if is_assumend_target_link_fit:\n",
    "            filtered_corpus.insert(0, document_list[assumed_target_link]['doc'])\n",
    "            current_doc = result_doc\n",
    "            break\n",
    "        if assumed_target_link <= 0:\n",
    "          break\n",
    "    ### Forward chaining\n",
    "    if start_doc['id'] >= len(victim_corpus)-1:\n",
    "      self.faiss_db.delete() # Clear the DB first\n",
    "      index_boundary = start_doc['id']+1\n",
    "      self.faiss_db.add_embeddings(victim_corpus[index_boundary:], embeddings[index_boundary:]) # Add the documents behind the start document\n",
    "      forward_corpus_size = len(victim_corpus[index_boundary:])\n",
    "      max_batches = (forward_corpus_size // search_batch_size)+1\n",
    "      current_doc = start_doc.copy()\n",
    "      current_doc['id'] = -1\n",
    "      while True:\n",
    "        # Search the best link in sequential order\n",
    "        current_doc_embedding = current_doc['embedding']\n",
    "        document_list = {}\n",
    "        for assumed_target_link in range(0, forward_corpus_size):\n",
    "          is_assumend_target_link_fit = None\n",
    "          if not document_list.get(assumed_target_link):\n",
    "            is_result_doc_found = False\n",
    "            for batch_no in range(max_batches):\n",
    "              batch_jump_size = batch_no*search_batch_size\n",
    "              batch_results = self.faiss_db.search(current_doc_embedding, k=search_batch_size*(batch_no+1))[batch_jump_size:]\n",
    "              for dist, result_doc in zip(batch_results[0], batch_results[1]):\n",
    "                document_list[result_doc['id']] = result_doc\n",
    "                if result_doc['id'] == assumed_target_link:\n",
    "                  is_result_doc_found = True\n",
    "                  break\n",
    "              if is_result_doc_found:\n",
    "                break\n",
    "          result_doc = document_list[assumed_target_link]\n",
    "          similarity_score = calculate_embedding_similarity(current_doc_embedding, result_doc['embedding'].shape(1, -1))\n",
    "          is_assumend_target_link_fit = similarity_score > similarity_threshold\n",
    "          if is_assumend_target_link_fit:\n",
    "            filtered_corpus.append(document_list[assumed_target_link]['doc'])\n",
    "            current_doc = result_doc\n",
    "            break\n",
    "        if assumed_target_link >= forward_corpus_size-1:\n",
    "          break\n",
    "    return filtered_corpus"
   ]
  }
 ],
 "metadata": {
  "kernelspec": {
   "display_name": ".venv",
   "language": "python",
   "name": "python3"
  },
  "language_info": {
   "codemirror_mode": {
    "name": "ipython",
    "version": 3
   },
   "file_extension": ".py",
   "mimetype": "text/x-python",
   "name": "python",
   "nbconvert_exporter": "python",
   "pygments_lexer": "ipython3",
   "version": "3.12.7"
  }
 },
 "nbformat": 4,
 "nbformat_minor": 2
}
