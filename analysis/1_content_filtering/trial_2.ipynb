{
 "cells": [
  {
   "cell_type": "markdown",
   "id": "Hbol",
   "metadata": {
    "marimo": {
     "config": {
      "hide_code": true
     }
    }
   },
   "source": [
    "# Trial 2\n",
    "\n",
    "This is an enhanced version of trial 1"
   ]
  },
  {
   "cell_type": "code",
   "execution_count": 1,
   "id": "MJUe",
   "metadata": {},
   "outputs": [],
   "source": [
    "# Import the necessary libraries\n",
    "import numpy as np\n",
    "import pandas as pd\n",
    "import pickle\n",
    "import re"
   ]
  },
  {
   "cell_type": "code",
   "execution_count": 2,
   "id": "vblA",
   "metadata": {},
   "outputs": [],
   "source": [
    "# Load the data\n",
    "with open('../df.pkl', 'rb') as f:\n",
    "    df = pickle.load(f)"
   ]
  },
  {
   "cell_type": "markdown",
   "id": "bkHC",
   "metadata": {
    "marimo": {
     "config": {
      "hide_code": true
     }
    }
   },
   "source": [
    "## Approach"
   ]
  },
  {
   "cell_type": "markdown",
   "id": "lEQa",
   "metadata": {
    "marimo": {
     "config": {
      "hide_code": true
     }
    }
   },
   "source": [
    "Select some text samples for testing"
   ]
  },
  {
   "cell_type": "code",
   "execution_count": 3,
   "id": "PKri",
   "metadata": {},
   "outputs": [],
   "source": [
    "np.random.seed(0)\n",
    "sample_ids = np.random.choice(df.index, 5)\n",
    "sample_records = df.loc[sample_ids]"
   ]
  },
  {
   "cell_type": "code",
   "execution_count": 4,
   "id": "Xref",
   "metadata": {},
   "outputs": [
    {
     "data": {
      "text/plain": [
       "['https://www.cnet.com/home/internet/best-internet-providers-in-las-cruces-nm/#ftag=CAD590a51e',\n",
       " 'https://www.nature.com/articles/d41586-024-04169-5',\n",
       " 'https://www.refinery29.com/en-us/2024/10/11802884/love-is-blind-season-7-reunion-recap?utm_source=feed&utm_medium=rss',\n",
       " 'https://variety.com/2024/digital/global/tetris-alexey-pajitnov-henk-rogers-lucca-1236199009/',\n",
       " 'https://www.dailymail.co.uk/news/article-14036243/top-pollster-nate-silver-prediction-2024-presidential-election.html?ns_mchannel=rss&ns_campaign=1490&ito=1490']"
      ]
     },
     "execution_count": 4,
     "metadata": {},
     "output_type": "execute_result"
    }
   ],
   "source": [
    "# URLs\n",
    "sample_records['url'].to_list()"
   ]
  },
  {
   "cell_type": "markdown",
   "id": "SFPL",
   "metadata": {
    "marimo": {
     "config": {
      "hide_code": true
     }
    }
   },
   "source": [
    "Let's split the text into contextually meaningful blocks, which talks about a single thing, Probably something like a paragraph"
   ]
  },
  {
   "cell_type": "code",
   "execution_count": 5,
   "id": "BYtC",
   "metadata": {},
   "outputs": [
    {
     "data": {
      "text/plain": [
       "\"What is the best internet provider in Las Cruces, New Mexico?. . Xfinity is CNET's top pick for the best internet service provider in Las Cruces, thanks to its wide availability throughout the city. It’s also the only cable connection available. But if you want the cheapest and fastest internet plans in Las Cruces, Xfinity is the provider for you. Plan prices go up after a year or two, so be prepared for a bill increase though. However, despite the increase, some plans still offer a decent deal even at the regular rate. This cable giant has also made strides in its customer satisfaction ratings.. . If Xfinity doesn't serve your address, you can pick between fixed wireless or satellite internet. While more susceptible to network disruption than wired connections, and slower than Xfinity, they're decent alternatives. T-Mobile Home Internet is our favorite wireless provider in the area, and you can get great discounts for bundling with an eligible cellphone plan.. . Need speed? Xfinity offers the fastest internet plan in the city, with download speeds of 1,200 megabits per second for $80 monthly. The cost per Mbps of its top-end plan is a very cheap 7 cents per Mbps. And if you want to save money, Xfinity also has a $20 monthly plan for 150Mbps.. . Best internet in Las Cruces, New Mexico. . Las Cruces internet providers compared Provider Internet technology Monthly price range Speed range Monthly equipment costs Data cap Contract CNET review score CenturyLink. . Read full review DSL $55 10-100Mbps $15 (optional) None None 6.7 Starlink. . Read full review Satellite $120 30-150Mbps $349 one-time purchase Unlimited None 6.5 T-Mobile Home Internet. . Read full review Fixed wireless $50-$70 ($40-$50 for eligible Go5G Plus and Magenta Max mobile customers) 72-245Mbps None None None 7.4 Verizon 5G Home Internet. . Read full review Fixed wireless $50-$70 ($35-$45 for eligible Verizon Wireless customers) 100-300Mbps None None None 7.2 Xfinity. . Read full review Cable $20-$80 150-1,200Mbps $15 on some plans (optional) 1.2TB 1-year on some 7 Show more (0 item) Shop providers at my address. . Source: CNET analysis of provider data.. . Other available internet providers in Las Cruces. . Verizon 5G Home Internet : According to the latest FCC data, this fixed wireless provider is available to about 44% of Las Cruces households. If you want to avoid a hike in prices from Xfinity after your promo period ends, this ISP is a great alternative. Verizon offers two plans for the area: a 100Mbps plan for $50 a month and a 300Mbps plan for $70. While 300Mbps might not be the fastest plan, you'll still be getting faster speeds than T-Mobile at 245Mbps. With Verizon, you can expect straightforward service terms: no contracts or data caps and the equipment is included at no extra cost.. . : According to the latest FCC data, this fixed wireless provider is available to about 44% of Las Cruces households. If you want to avoid a hike in prices from Xfinity after your promo period ends, this ISP is a great alternative. Verizon offers two plans for the area: a 100Mbps plan for $50 a month and a 300Mbps plan for $70. While 300Mbps might not be the fastest plan, you'll still be getting faster speeds than T-Mobile at 245Mbps. With Verizon, you can expect straightforward service terms: no contracts or data caps and the equipment is included at no extra cost. Satellite internet: While Starlink is taking the lead for the best satellite connection in the city, Hughesnet and Viasat also offer solid home broadband options. Hughesnet is the cheapest option of the three, with standard service starting at $50 a month for download speeds of 50Mbps. Viasat offers a singular plan for up to 150Mbps with no term agreements.. . Cheap internet options in Las Cruces. . Most internet options in Las Cruces start at around $43 a month, but a few ISPs offer cheaper options. The cheapest internet offering in the city is Xfinity's $20-a-month plan for download speeds of 150Mbps. If you're looking for more speed, Xfinity also has a 300Mbps plan for just $15 more. Verizon and T-Mobile also offer eligible mobile customers discounts and may knock $10 to $20 off your monthly bill.. . What's the cheapest internet plan in Las Cruces?. . Provider Starting price Max download speed Monthly equipment fee Xfinity Connect. . Read full review $20 150Mbps $15 (optional) Xfinity Connect More. . Read full review $35 300Mbps None Verizon 5G Home Internet. . Read full review $50 ($35 with eligible mobile plans) 100Mbps None T-Mobile Home Internet. . Read full review $50 ($40 with eligible mobile plans) 245Mbps None Xfinity Fast. . Read full review $55 500Mbps None Show more (0 item) Shop providers at my address. . Source: CNET analysis of provider data.. . renal / Getty Images. . How to find internet deals and promotions in Las Cruces. . The best internet deals and top promotions in Las Cruces depend on what discounts are available during a given time. Most deals are short-lived, but we look frequently for the latest offers.. . Take our quiz Get Started Progress Step 1 of 4 How many members of your household use the internet? 1-2 people. . 3-5 people. . 6-9 people. . 10+ people Next. . Las Cruces internet providers, such as T-Mobile Home Internet, Xfinity and Verizon 5G Home Internet, may offer lower introductory pricing or streaming add-ons for a limited time. Others, like Starlink, run the same standard pricing year-round.. . For a more extensive list of promos, check out our guide on the best internet deals.. . How fast is Las Cruces broadband?. . In the latest Ookla speed test data, Las Cruces had a fixed median download speed of 273Mbps. That's not bad, especially considering the state of New Mexico rang in with a speed of 185Mbps. Nearby cities like Albuquerque and Sante Fe also couldn't match Las Cruces, coming in with 264Mbps and 251Mbps, respectively. Rio Rancho took home the trophy for top median speeds with 291Mbps.. . Fastest internet plans in Las Cruces. . Provider Starting price Max download speed Max upload speed Data cap Connection type Xfinity Gigabit Extra. . Read full review $80 1,200Mbps 35Mbps 1.2TB Cable Xfinity Gigabit. . Read full review $65 1,000Mbps 20Mbps 1.2TB Cable Show more (0 item) Shop providers at my address. . Source: CNET analysis of provider data.. . What’s a good internet speed?. . Most internet connection plans can now handle basic productivity and communication tasks. If you're looking for an internet plan that can accommodate videoconferencing, streaming video or gaming, you'll have a better experience with a more robust connection. Here's an overview of the recommended minimum download speeds for various applications, according to the FCC. Note that these are only guidelines and that internet speed, service and performance vary by connection type, provider and address.. . For more information, refer to our guide on how much internet speed you really need.. . 0 to 5Mbps allows you to tackle the basics: browsing the internet, sending and receiving email and streaming low-quality video.. . 5 to 40Mbps gives you higher-quality video streaming and videoconferencing.. . 40 to 100Mbps should give one user sufficient bandwidth to satisfy the demands of modern telecommuting, video streaming and online gaming.. . 100 to 500Mbps allows one to two users to simultaneously engage in high-bandwidth activities like videoconferencing, streaming and online gaming.. . 500 to 1,000Mbps allows three or more users to engage in high-bandwidth activities at the same time.. . How CNET chose the best internet providers in Las Cruces. . Internet service providers are numerous and regional. Unlike the latest smartphone, laptop, router or kitchen tool, it’s impractical to personally test every ISP in a given city. What’s our approach? We start by researching the pricing, availability and speed information drawing on our own historical ISP data, the provider sites and mapping information from the Federal Communications Commission at FCC.gov.. . It doesn’t end there: We go to the FCC’s website to check our data and ensure we consider every ISP that provides service in an area. We also input local addresses on provider websites to find specific options for residents. We look at sources, including the American Customer Satisfaction Index and J.D. Power, to evaluate how happy customers are with an ISP’s service. ISP plans and prices are subject to frequent changes; all information provided is accurate as of the time of publication.. . Once we have this localized information, we ask three main questions:. . Does the provider offer access to reasonably fast internet speeds? Do customers get decent value for what they’re paying? Are customers happy with their service?. . While the answer to those questions is often layered and complex, the providers who come closest to “yes” on all three are the ones we recommend. When selecting the cheapest internet service, we look for the plans with the lowest monthly fee, although we also factor in things like price increases, equipment fees and contracts. Choosing the fastest internet service is relatively straightforward. We look at advertised upload and download speeds and consider real-world speed data from sources like Ookla and FCC reports. (Ookla is owned by the same parent company as CNET, Ziff Davis.). . To explore our process in more depth, visit our how we test ISPs page.. . What's the final word on internet providers in Las Cruces?. . Your home broadband options will be limited if you reside in Las Cruces. Most households in the city are serviceable for a cable connection from Xfinity. Like most cable providers, expect a price hike from Xfinity once the promo period ends. A fixed wireless connection from T-Mobile might be a decent alternative to avoid that increase. Starlink is available virtually everywhere, but you might have to settle for slower speeds and a steeper monthly cost (to say nothing of the $349 upfront cost for starting service).. . Internet providers in Las Cruces FAQs. . What is the best internet service provider in Las Cruces? Xfinity is the best internet service provider in Las Cruces, offering the city's fastest speeds, broadest coverage and lowest introductory prices. According to the latest data from the FCC, Xfinity is available to over 99% of households in Las Cruces, which means that your address is likely eligible for service.. . Is fiber internet available in Las Cruces? Yes, according to the latest FCC data, fiber internet is available to approximately 4% of Las Cruces households. Fiber coverage is limited throughout the city, but few households might be serviceable for Quantum Fiber or Xfinity's fiber internet connection.. . What is the cheapest internet provider in Las Cruces? Xfinity is the cheapest internet provider in Las Cruces, offering a $20-a-month plan for 150Mbps. For just $15 more, you can bump up that speed to 300Mbps.\""
      ]
     },
     "execution_count": 5,
     "metadata": {},
     "output_type": "execute_result"
    }
   ],
   "source": [
    "_text = sample_records.iloc[0]['content']\n",
    "_text"
   ]
  },
  {
   "cell_type": "code",
   "execution_count": 6,
   "id": "RGSE",
   "metadata": {},
   "outputs": [
    {
     "data": {
      "text/plain": [
       "'Nature’s 2023 survey of postdoctoral researchers identified a notable gap between industry and academia. Although industry postdocs remain in the minority — only 7% of the 3,838 respondents from around the world reported working in an industrial setting — they reported greater satisfaction and tended to be better compensated. Nearly one-quarter of postdocs in industry reported annual earnings of between US$80,000 and $110,000, compared with just 5% of their academic counterparts.. . Whereas global companies such as Google, Honda and Coca-Cola all have postdocs on the payroll, it is pharmaceutical and life-science companies that have been especially eager to embrace this group as part of their workforce. AstraZeneca, for example, employs more than 120 postdocs in 3-year positions across its research and design centres in the United States, the United Kingdom and Sweden. Industry postdocs can learn fresh skills and explore new scientific targets — with some corporate restrictions — and the companies get eager workers who can make important advances in basic science.. . Nature spoke to three postdocs who work at large pharmaceutical and life-science companies: Genentech, Merck and AstraZeneca. Although the transition from academia to industry isn’t always easy, and the next step isn’t always apparent, all agree that these positions provided invaluable experience.. . ANNIE WOOLVEN: Big company, big opportunities. . Systems biologist at AstraZeneca, Cambridge, UK.. . Annie Woolven says a postdoc at AstraZeneca has opened the door to new opportunities.Credit: AstraZeneca. . During graduate school at the University of Birmingham, UK, I used analytical chemistry to study metabolomics and metabolism. Among other things, I looked at metabolites in human tears.. . That work was interesting, but I never really felt that academia was right for me. Teaching, grant writing, managing other people — there was a lot that wasn’t related to science. I hadn’t necessarily planned to do a postdoc position, but I came across this project at AstraZeneca in Cambridge, UK, that really spoke to me. Because it involved moving from metabolomics to systems biology, I knew that I would gain many new skills. And it would let me see if industry was a good place to do my science.. . Planning a postdoc before moving to industry? Think again. . As a postdoc in the clinical pharmacology and safety sciences division, I’m not involved with pipeline work. AstraZeneca expects us to publish at least two articles in high-quality publications during our time here, so everything has to be releasable to the public. I’m on track to meet those expectations. I have one draft in the works, and I’ll start another paper after I finish some data analysis.. . There are advantages to working in a large company. I can learn from people in different parts of the firm; we have Friday talks where in-house researchers from all around the business discuss their projects. But it’s not just about research. People come here to talk about law, policy and entrepreneurship. I’m personally becoming interested in science communication. I know the communications team would answer my questions and help me to explore that career option. If there’s another part of the company that I think is more interesting, I could just get a coffee with someone. I don’t think that could happen in academia.. . I led the start up of a focus group of people who work in multi-omics in AstraZeneca. At first it was just postdocs, but it now includes people with other positions in the company. We also invite academics to talk about their multi-omics work. At any stage of your career, building those sorts of network can be helpful.. . I’m well-funded and taken care of. I have support when I need it throughout the company, and I’m able to focus on just my research. I have a standard working week. After working practically 24/7 on my PhD thesis, it’s a welcome change of pace.. . My three-year contract ends in April 2025. I’m not sure where I’ll be next, but I want to stay in industry. For me, a postdoctoral position outside academia was definitely the right choice.. . JOE PARRY: Building a fresh toolkit. . Organic chemist at Merck, Rahway, New Jersey.. . Joe Parry has become interested in process chemistry during his postdoc at Merck.Credit: Merck Sharp & Dohme. . Near the end of my time in graduate school at Cornell University in Ithaca, New York, I started craving a change in environment. Up until that point, I had only really known life in academia, where I studied organometallic chemistry. I thought that trying something different would be a great opportunity to stretch myself, personally and professionally. It was the first time in my life that I didn’t have the next several years completely mapped out, which was scary.. . I saw that Merck was offering a postdoc position in Rahway, New Jersey, that was loosely related to some of the skills that I had developed at graduate school. I could tell that there was potential for me to gain skill sets. I had never used an ultra-performance liquid chromatography mass spectrometry machine until I started at Merck. Now it’s a standard tool for my research. The chance to explore different ways to tackle problems was exciting to me. When I reflect on my day-to-day life now, it looks completely different from two years ago.. . Postdocs are organizing to obtain better pay and working conditions — that can only be a good thing. . During my two years at Merck, I’ve become interested in process chemistry, which involves finding practical and efficient ways to produce newly discovered compounds. Using high-throughput experimentation, I can develop innovative approaches to tough problems in chemistry. I hope to continue exploring process chemistry in my next position, hopefully in industry.. . I value the community and collaborative environment at Merck. Postdocs here are embedded in research teams, and there’s no project that’s off limits. Postdocs are often given exploratory projects with the hope that the methods they develop will eventually be helpful for developing profitable pharmaceuticals and other compounds.. . There’s a misconception that postdocs in industry aren’t able to publish papers, because they’re too busy working on company secrets. In fact, we’re encouraged to publish. Merck recognizes that publishing our work helps to facilitate exchanges with outside researchers and is important for our career development. I have a couple of manuscripts in the works, but it’s too early to discuss the details.'"
      ]
     },
     "execution_count": 6,
     "metadata": {},
     "output_type": "execute_result"
    }
   ],
   "source": [
    "_text = sample_records.iloc[1]['content']\n",
    "_text"
   ]
  },
  {
   "cell_type": "markdown",
   "id": "Kclp",
   "metadata": {
    "marimo": {
     "config": {
      "hide_code": true
     }
    }
   },
   "source": [
    "Seems like there are weird period patterns in between such text block, let's use that, and \\n as a delimiter to split the text into blocks."
   ]
  },
  {
   "cell_type": "code",
   "execution_count": 7,
   "id": "emfo",
   "metadata": {},
   "outputs": [],
   "source": [
    "pattern = r'(?<!\\.)\\.{2}(?!\\.)|\\. \\.|\\.{2,} \\.|\\n+'"
   ]
  },
  {
   "cell_type": "code",
   "execution_count": 8,
   "id": "Hstk",
   "metadata": {},
   "outputs": [
    {
     "data": {
      "text/plain": [
       "['What is the best internet provider in Las Cruces, New Mexico?',\n",
       " \" Xfinity is CNET's top pick for the best internet service provider in Las Cruces, thanks to its wide availability throughout the city. It’s also the only cable connection available. But if you want the cheapest and fastest internet plans in Las Cruces, Xfinity is the provider for you. Plan prices go up after a year or two, so be prepared for a bill increase though. However, despite the increase, some plans still offer a decent deal even at the regular rate. This cable giant has also made strides in its customer satisfaction ratings\",\n",
       " \" . If Xfinity doesn't serve your address, you can pick between fixed wireless or satellite internet. While more susceptible to network disruption than wired connections, and slower than Xfinity, they're decent alternatives. T-Mobile Home Internet is our favorite wireless provider in the area, and you can get great discounts for bundling with an eligible cellphone plan\",\n",
       " ' . Need speed? Xfinity offers the fastest internet plan in the city, with download speeds of 1,200 megabits per second for $80 monthly. The cost per Mbps of its top-end plan is a very cheap 7 cents per Mbps. And if you want to save money, Xfinity also has a $20 monthly plan for 150Mbps',\n",
       " ' . Best internet in Las Cruces, New Mexico',\n",
       " ' Las Cruces internet providers compared Provider Internet technology Monthly price range Speed range Monthly equipment costs Data cap Contract CNET review score CenturyLink',\n",
       " ' Read full review DSL $55 10-100Mbps $15 (optional) None None 6.7 Starlink',\n",
       " ' Read full review Satellite $120 30-150Mbps $349 one-time purchase Unlimited None 6.5 T-Mobile Home Internet',\n",
       " ' Read full review Fixed wireless $50-$70 ($40-$50 for eligible Go5G Plus and Magenta Max mobile customers) 72-245Mbps None None None 7.4 Verizon 5G Home Internet',\n",
       " ' Read full review Fixed wireless $50-$70 ($35-$45 for eligible Verizon Wireless customers) 100-300Mbps None None None 7.2 Xfinity',\n",
       " ' Read full review Cable $20-$80 150-1,200Mbps $15 on some plans (optional) 1.2TB 1-year on some 7 Show more (0 item) Shop providers at my address',\n",
       " ' Source: CNET analysis of provider data',\n",
       " ' . Other available internet providers in Las Cruces',\n",
       " \" Verizon 5G Home Internet : According to the latest FCC data, this fixed wireless provider is available to about 44% of Las Cruces households. If you want to avoid a hike in prices from Xfinity after your promo period ends, this ISP is a great alternative. Verizon offers two plans for the area: a 100Mbps plan for $50 a month and a 300Mbps plan for $70. While 300Mbps might not be the fastest plan, you'll still be getting faster speeds than T-Mobile at 245Mbps. With Verizon, you can expect straightforward service terms: no contracts or data caps and the equipment is included at no extra cost\",\n",
       " \" . : According to the latest FCC data, this fixed wireless provider is available to about 44% of Las Cruces households. If you want to avoid a hike in prices from Xfinity after your promo period ends, this ISP is a great alternative. Verizon offers two plans for the area: a 100Mbps plan for $50 a month and a 300Mbps plan for $70. While 300Mbps might not be the fastest plan, you'll still be getting faster speeds than T-Mobile at 245Mbps. With Verizon, you can expect straightforward service terms: no contracts or data caps and the equipment is included at no extra cost. Satellite internet: While Starlink is taking the lead for the best satellite connection in the city, Hughesnet and Viasat also offer solid home broadband options. Hughesnet is the cheapest option of the three, with standard service starting at $50 a month for download speeds of 50Mbps. Viasat offers a singular plan for up to 150Mbps with no term agreements\",\n",
       " ' . Cheap internet options in Las Cruces',\n",
       " \" Most internet options in Las Cruces start at around $43 a month, but a few ISPs offer cheaper options. The cheapest internet offering in the city is Xfinity's $20-a-month plan for download speeds of 150Mbps. If you're looking for more speed, Xfinity also has a 300Mbps plan for just $15 more. Verizon and T-Mobile also offer eligible mobile customers discounts and may knock $10 to $20 off your monthly bill\",\n",
       " \" . What's the cheapest internet plan in Las Cruces?\",\n",
       " ' Provider Starting price Max download speed Monthly equipment fee Xfinity Connect',\n",
       " ' Read full review $20 150Mbps $15 (optional) Xfinity Connect More',\n",
       " ' Read full review $35 300Mbps None Verizon 5G Home Internet',\n",
       " ' Read full review $50 ($35 with eligible mobile plans) 100Mbps None T-Mobile Home Internet',\n",
       " ' Read full review $50 ($40 with eligible mobile plans) 245Mbps None Xfinity Fast',\n",
       " ' Read full review $55 500Mbps None Show more (0 item) Shop providers at my address',\n",
       " ' Source: CNET analysis of provider data',\n",
       " ' . renal / Getty Images',\n",
       " ' How to find internet deals and promotions in Las Cruces',\n",
       " ' The best internet deals and top promotions in Las Cruces depend on what discounts are available during a given time. Most deals are short-lived, but we look frequently for the latest offers',\n",
       " ' . Take our quiz Get Started Progress Step 1 of 4 How many members of your household use the internet? 1-2 people',\n",
       " ' 3-5 people',\n",
       " ' 6-9 people',\n",
       " ' 10+ people Next',\n",
       " ' Las Cruces internet providers, such as T-Mobile Home Internet, Xfinity and Verizon 5G Home Internet, may offer lower introductory pricing or streaming add-ons for a limited time. Others, like Starlink, run the same standard pricing year-round',\n",
       " ' . For a more extensive list of promos, check out our guide on the best internet deals',\n",
       " ' . How fast is Las Cruces broadband?',\n",
       " \" In the latest Ookla speed test data, Las Cruces had a fixed median download speed of 273Mbps. That's not bad, especially considering the state of New Mexico rang in with a speed of 185Mbps. Nearby cities like Albuquerque and Sante Fe also couldn't match Las Cruces, coming in with 264Mbps and 251Mbps, respectively. Rio Rancho took home the trophy for top median speeds with 291Mbps\",\n",
       " ' . Fastest internet plans in Las Cruces',\n",
       " ' Provider Starting price Max download speed Max upload speed Data cap Connection type Xfinity Gigabit Extra',\n",
       " ' Read full review $80 1,200Mbps 35Mbps 1.2TB Cable Xfinity Gigabit',\n",
       " ' Read full review $65 1,000Mbps 20Mbps 1.2TB Cable Show more (0 item) Shop providers at my address',\n",
       " ' Source: CNET analysis of provider data',\n",
       " ' . What’s a good internet speed?',\n",
       " \" Most internet connection plans can now handle basic productivity and communication tasks. If you're looking for an internet plan that can accommodate videoconferencing, streaming video or gaming, you'll have a better experience with a more robust connection. Here's an overview of the recommended minimum download speeds for various applications, according to the FCC. Note that these are only guidelines and that internet speed, service and performance vary by connection type, provider and address\",\n",
       " ' . For more information, refer to our guide on how much internet speed you really need',\n",
       " ' . 0 to 5Mbps allows you to tackle the basics: browsing the internet, sending and receiving email and streaming low-quality video',\n",
       " ' . 5 to 40Mbps gives you higher-quality video streaming and videoconferencing',\n",
       " ' . 40 to 100Mbps should give one user sufficient bandwidth to satisfy the demands of modern telecommuting, video streaming and online gaming',\n",
       " ' . 100 to 500Mbps allows one to two users to simultaneously engage in high-bandwidth activities like videoconferencing, streaming and online gaming',\n",
       " ' . 500 to 1,000Mbps allows three or more users to engage in high-bandwidth activities at the same time',\n",
       " ' . How CNET chose the best internet providers in Las Cruces',\n",
       " ' Internet service providers are numerous and regional. Unlike the latest smartphone, laptop, router or kitchen tool, it’s impractical to personally test every ISP in a given city. What’s our approach? We start by researching the pricing, availability and speed information drawing on our own historical ISP data, the provider sites and mapping information from the Federal Communications Commission at FCC.gov',\n",
       " ' . It doesn’t end there: We go to the FCC’s website to check our data and ensure we consider every ISP that provides service in an area. We also input local addresses on provider websites to find specific options for residents. We look at sources, including the American Customer Satisfaction Index and J.D. Power, to evaluate how happy customers are with an ISP’s service. ISP plans and prices are subject to frequent changes; all information provided is accurate as of the time of publication',\n",
       " ' . Once we have this localized information, we ask three main questions:',\n",
       " ' Does the provider offer access to reasonably fast internet speeds? Do customers get decent value for what they’re paying? Are customers happy with their service?',\n",
       " ' While the answer to those questions is often layered and complex, the providers who come closest to “yes” on all three are the ones we recommend. When selecting the cheapest internet service, we look for the plans with the lowest monthly fee, although we also factor in things like price increases, equipment fees and contracts. Choosing the fastest internet service is relatively straightforward. We look at advertised upload and download speeds and consider real-world speed data from sources like Ookla and FCC reports. (Ookla is owned by the same parent company as CNET, Ziff Davis.)',\n",
       " ' To explore our process in more depth, visit our how we test ISPs page',\n",
       " \" . What's the final word on internet providers in Las Cruces?\",\n",
       " ' Your home broadband options will be limited if you reside in Las Cruces. Most households in the city are serviceable for a cable connection from Xfinity. Like most cable providers, expect a price hike from Xfinity once the promo period ends. A fixed wireless connection from T-Mobile might be a decent alternative to avoid that increase. Starlink is available virtually everywhere, but you might have to settle for slower speeds and a steeper monthly cost (to say nothing of the $349 upfront cost for starting service)',\n",
       " ' . Internet providers in Las Cruces FAQs',\n",
       " \" What is the best internet service provider in Las Cruces? Xfinity is the best internet service provider in Las Cruces, offering the city's fastest speeds, broadest coverage and lowest introductory prices. According to the latest data from the FCC, Xfinity is available to over 99% of households in Las Cruces, which means that your address is likely eligible for service\",\n",
       " \" . Is fiber internet available in Las Cruces? Yes, according to the latest FCC data, fiber internet is available to approximately 4% of Las Cruces households. Fiber coverage is limited throughout the city, but few households might be serviceable for Quantum Fiber or Xfinity's fiber internet connection\",\n",
       " ' . What is the cheapest internet provider in Las Cruces? Xfinity is the cheapest internet provider in Las Cruces, offering a $20-a-month plan for 150Mbps. For just $15 more, you can bump up that speed to 300Mbps.']"
      ]
     },
     "execution_count": 8,
     "metadata": {},
     "output_type": "execute_result"
    }
   ],
   "source": [
    "_text = sample_records.iloc[0]['content']\n",
    "re.split(pattern, _text)"
   ]
  },
  {
   "cell_type": "code",
   "execution_count": 9,
   "id": "nWHF",
   "metadata": {},
   "outputs": [
    {
     "data": {
      "text/plain": [
       "['Nature’s 2023 survey of postdoctoral researchers identified a notable gap between industry and academia. Although industry postdocs remain in the minority — only 7% of the 3,838 respondents from around the world reported working in an industrial setting — they reported greater satisfaction and tended to be better compensated. Nearly one-quarter of postdocs in industry reported annual earnings of between US$80,000 and $110,000, compared with just 5% of their academic counterparts',\n",
       " ' . Whereas global companies such as Google, Honda and Coca-Cola all have postdocs on the payroll, it is pharmaceutical and life-science companies that have been especially eager to embrace this group as part of their workforce. AstraZeneca, for example, employs more than 120 postdocs in 3-year positions across its research and design centres in the United States, the United Kingdom and Sweden. Industry postdocs can learn fresh skills and explore new scientific targets — with some corporate restrictions — and the companies get eager workers who can make important advances in basic science',\n",
       " ' . Nature spoke to three postdocs who work at large pharmaceutical and life-science companies: Genentech, Merck and AstraZeneca. Although the transition from academia to industry isn’t always easy, and the next step isn’t always apparent, all agree that these positions provided invaluable experience',\n",
       " ' . ANNIE WOOLVEN: Big company, big opportunities',\n",
       " ' Systems biologist at AstraZeneca, Cambridge, UK',\n",
       " ' . Annie Woolven says a postdoc at AstraZeneca has opened the door to new opportunities.Credit: AstraZeneca',\n",
       " ' During graduate school at the University of Birmingham, UK, I used analytical chemistry to study metabolomics and metabolism. Among other things, I looked at metabolites in human tears',\n",
       " ' . That work was interesting, but I never really felt that academia was right for me. Teaching, grant writing, managing other people — there was a lot that wasn’t related to science. I hadn’t necessarily planned to do a postdoc position, but I came across this project at AstraZeneca in Cambridge, UK, that really spoke to me. Because it involved moving from metabolomics to systems biology, I knew that I would gain many new skills. And it would let me see if industry was a good place to do my science',\n",
       " ' . Planning a postdoc before moving to industry? Think again',\n",
       " ' As a postdoc in the clinical pharmacology and safety sciences division, I’m not involved with pipeline work. AstraZeneca expects us to publish at least two articles in high-quality publications during our time here, so everything has to be releasable to the public. I’m on track to meet those expectations. I have one draft in the works, and I’ll start another paper after I finish some data analysis',\n",
       " ' . There are advantages to working in a large company. I can learn from people in different parts of the firm; we have Friday talks where in-house researchers from all around the business discuss their projects. But it’s not just about research. People come here to talk about law, policy and entrepreneurship. I’m personally becoming interested in science communication. I know the communications team would answer my questions and help me to explore that career option. If there’s another part of the company that I think is more interesting, I could just get a coffee with someone. I don’t think that could happen in academia',\n",
       " ' . I led the start up of a focus group of people who work in multi-omics in AstraZeneca. At first it was just postdocs, but it now includes people with other positions in the company. We also invite academics to talk about their multi-omics work. At any stage of your career, building those sorts of network can be helpful',\n",
       " ' . I’m well-funded and taken care of. I have support when I need it throughout the company, and I’m able to focus on just my research. I have a standard working week. After working practically 24/7 on my PhD thesis, it’s a welcome change of pace',\n",
       " ' . My three-year contract ends in April 2025. I’m not sure where I’ll be next, but I want to stay in industry. For me, a postdoctoral position outside academia was definitely the right choice',\n",
       " ' . JOE PARRY: Building a fresh toolkit',\n",
       " ' Organic chemist at Merck, Rahway, New Jersey',\n",
       " ' . Joe Parry has become interested in process chemistry during his postdoc at Merck.Credit: Merck Sharp & Dohme',\n",
       " ' Near the end of my time in graduate school at Cornell University in Ithaca, New York, I started craving a change in environment. Up until that point, I had only really known life in academia, where I studied organometallic chemistry. I thought that trying something different would be a great opportunity to stretch myself, personally and professionally. It was the first time in my life that I didn’t have the next several years completely mapped out, which was scary',\n",
       " ' . I saw that Merck was offering a postdoc position in Rahway, New Jersey, that was loosely related to some of the skills that I had developed at graduate school. I could tell that there was potential for me to gain skill sets. I had never used an ultra-performance liquid chromatography mass spectrometry machine until I started at Merck. Now it’s a standard tool for my research. The chance to explore different ways to tackle problems was exciting to me. When I reflect on my day-to-day life now, it looks completely different from two years ago',\n",
       " ' . Postdocs are organizing to obtain better pay and working conditions — that can only be a good thing',\n",
       " ' During my two years at Merck, I’ve become interested in process chemistry, which involves finding practical and efficient ways to produce newly discovered compounds. Using high-throughput experimentation, I can develop innovative approaches to tough problems in chemistry. I hope to continue exploring process chemistry in my next position, hopefully in industry',\n",
       " ' . I value the community and collaborative environment at Merck. Postdocs here are embedded in research teams, and there’s no project that’s off limits. Postdocs are often given exploratory projects with the hope that the methods they develop will eventually be helpful for developing profitable pharmaceuticals and other compounds',\n",
       " ' . There’s a misconception that postdocs in industry aren’t able to publish papers, because they’re too busy working on company secrets. In fact, we’re encouraged to publish. Merck recognizes that publishing our work helps to facilitate exchanges with outside researchers and is important for our career development. I have a couple of manuscripts in the works, but it’s too early to discuss the details.']"
      ]
     },
     "execution_count": 9,
     "metadata": {},
     "output_type": "execute_result"
    }
   ],
   "source": [
    "_text = sample_records.iloc[1]['content']\n",
    "re.split(pattern, _text)"
   ]
  },
  {
   "cell_type": "code",
   "execution_count": 10,
   "id": "iLit",
   "metadata": {},
   "outputs": [
    {
     "data": {
      "text/plain": [
       "['Furthermore, there was a moment where the Lacheys brought up their pod conversations where Richardson admitted to cheating in past relationships. However, the reunion failed to address other problematic aspects of Richardson’s behavior. Particularly, the racially charged moment when he called Davis a “mutt” (and her going along with it) while she described her mixed heritage. This oversight could’ve been a teachable moment and used as an opportunity to condemn the use of such derogatory language, especially in 2024. But I personally believe this proves perhaps the hosts didn’t have the range to handle such a sensitive topic.']"
      ]
     },
     "execution_count": 10,
     "metadata": {},
     "output_type": "execute_result"
    }
   ],
   "source": [
    "_text = sample_records.iloc[2]['content']\n",
    "re.split(pattern, _text)"
   ]
  },
  {
   "cell_type": "code",
   "execution_count": 11,
   "id": "ZHCJ",
   "metadata": {},
   "outputs": [
    {
     "data": {
      "text/plain": [
       "['As “Tetris” celebrates 40 years of falling blocks at the Lucca Comic and Games convention in Italy, Variety sat down with its creator Alexey Pajitnov and the Tetris company’s co-founder Henk Rogers to discuss the beginnings of the most successful computer game in the world',\n",
       " ' . Despite the difference in their appearance, Pajitnov, pale with a white beard, and Rogers, tan with a colorful trilby, make a formidable team who overcame great odds to bring their puzzle game – in which players pair and eliminate a series of multicolored falling blocks – to the world in 1984',\n",
       " ' . Such were the adventures, there’s even an Apple+ film “Tetris,” starring Taron Egerton and directed by Jon Baird. Pajitnov smiles at the memory: “Noah Pink [the screenwriter] was very attentive to our notes, but it was still a long and difficult fight with them, because they desperately need all this Hollywoodish bullshit.”',\n",
       " ' Rogers understands the compromises necessary: “Their job was to take a year and a half of our life and squeeze it into two hours. Unfortunately, we didn’t have any control on the shooting, because of COVID.”',\n",
       " ' Popular on Variety',\n",
       " ' “When we watched the movie, we were surprisingly pleased,” Pajitnov says. “We had low expectations. I’m pleased with the bad guys. They’re fictional though.”',\n",
       " ' The very real-life British tycoon Robert Maxwell as Rogers’ main competitor also features along with Soviet premier Mikhail Gorbachev, as the licensing battles took place against the backdrop of the changing situation in the USSR. “I like the actor who plays me [Nikita Efremov],” Pajitnov adds. “He reminds me of myself young. It was a strange, out of body experience.”',\n",
       " ' “I was there during the transition,” Rogers says. “We had a group of 100 graphic developers in Moscow working. I remember giving a speech. I said, this is not the end of the Soviet Union. This is the beginning of Russia. Everybody had hoped that it was going to be freedom. Then it slowly eroded back into what it is now.”',\n",
       " ' The reason for “Tetris’” success is simple according to Rogers: “We broke through the female barrier. Before ‘Tetris,’ games were for guys, 95% guys, right? And ‘Tetris’ changed all that.”',\n",
       " ' Rogers continues: “It’s an order out of chaos game and that is more the female side of us. Men are male and female. We are x and y. Women are x and x. We can do both construction and destruction. Women are construction and construction. That’s why the world is becoming a better place because of women.”',\n",
       " ' Looking at the current gaming market, both men have their criticisms. For Rogers, an ex-publisher of games, it’s economics. “People don’t want to spend the amount of money to buy a cup of coffee for a game. It’s $3 and a cup of coffee gives you 20 minutes of satisfaction, a game will give you hours.”',\n",
       " ' Talking about in-app purchases, Rogers continues the coffee comparison: “They give you this much coffee, and they ask for more money to put a little flavor into your coffee, or sugar. It’s such an annoying way of consuming something.”',\n",
       " ' “I’m still in love with my puzzle part,” Pajitnov says, but he finds current programs too full of bugs. “They’ll release a game, online or mobile games, and get the public to debug it. Then the game fails because people get annoyed.” He concludes with a resigned laugh: “It’s the dialectic.”',\n",
       " ' Rogers on the other hand is spending his energy now on combating climate change. “It’s called Blue Planet Alliance. We are basically putting Hawaii on a path to go 100% renewable energy. Fifteen other states copied us. It’s moving across the states. We’re bringing island countries to Hawaii to show them what we did and put them on track. Eventually, we’ll get all the countries in the world to have a mandate for 100% renewable energy by 2045, the 100th anniversary of the United Nations.”',\n",
       " ' Rogers talks about his next endeavor with the confidence of a man who has solved puzzles before.']"
      ]
     },
     "execution_count": 11,
     "metadata": {},
     "output_type": "execute_result"
    }
   ],
   "source": [
    "_text = sample_records.iloc[3]['content']\n",
    "re.split(pattern, _text)"
   ]
  },
  {
   "cell_type": "code",
   "execution_count": 12,
   "id": "ROlb",
   "metadata": {},
   "outputs": [
    {
     "data": {
      "text/plain": [
       "['Nate Silver has unveiled his latest prediction ahead of the presidential election - suggesting that the outcome will practically be a coin flip',\n",
       " ' . The polling guru gave former President Donald Trump a 51.5 percent chance to win the electoral college, while Vice President Kamala Harris walked away with a 48.1 percent chance of victory',\n",
       " ' . Silver, who left Five Thirty Eight in 2023 and took his forecasting model with him, made his latest prognostication on his Substack blog called the Silver Bulletin',\n",
       " ' . He has Trump as the slight favorite, despite Harris being ahead in his aggregation of public polls by just under a percentage point',\n",
       " \" . 'NYT swing state polls good for Harris but not great. Morning Consult swing state polls good for Trump but not great,' Silver wrote on X Sunday morning. 'It’s a pure toss-up.'\",\n",
       " \" Nate Silver believes the race between Donald Trump and Kamala Harris is 'a pure toss-up' based on the final polls before Election Day\",\n",
       " ' Silver was first referring to the final poll done by The New York Times that showed Trump running behind Harris in four critical swing states: Georgia, Nevada, North Carolina and Wisconsin',\n",
       " ' . That poll also showed Trump with a lead in Arizona, while the two were tied in Michigan and Pennsylvania',\n",
       " ' . The Morning Consult poll results, as Silver mentioned, were slightly kinder to Trump',\n",
       " ' . He led Harris by two points in Georgia and in North Carolina. Morning Consult also found that three states were in a dead heat: Arizona, Pennsylvania and Wisconsin',\n",
       " \" . Silver also said the bombshell poll from famed pollster Ann Selzer showing Harris beating Trump by three points in Iowa 'probably won’t matter' in determining the electoral college winner\",\n",
       " \" . But Silver wasn't too quick to dismiss the results as totally meaningless, saying Harris supporters were right to have a strong reaction\",\n",
       " \" . 'I think Harris voters are reasonable in rejoicing over the Selzer survey,' Silver wrote\",\n",
       " \" . Nate Silver, pictured, said Trump's momentum 'petered out' in November, bringing the race back to a coinflip\",\n",
       " \" 'At the very least, it clinches the case that there will be plenty of numbers from high-quality pollsters in the final batch of polls that support a Harris victory - along with roughly as many that imply a Trump win,' he continued\",\n",
       " ' . \\'If Trump had \"momentum\" in October, it has now petered out in November. And we will very likely go into Tuesday night with the race being truly a toss-up, not leaning or tilting toward Trump.\\'',\n",
       " \" Selzer has built a reputation as 'Iowa's Polling Queen' and the 'best pollster in politics' over decades of conducting the Des Moines Register polls\",\n",
       " \" . The ex-president tore into the survey calling Selzer a 'Trump hater' and insisting that Iowa's farmers 'love' him\",\n",
       " \" . 'All polls, except for one heavily skewed toward the Democrats by a Trump hater who called it totally wrong the last time, have me up, BY A LOT,' he scathed on Truth Social\",\n",
       " ' . Selzer took the time to explain herself on cable television this weekend',\n",
       " \" . Ann Selzer has built a reputation as 'Iowa's Polling Queen' and the 'best pollster in politics' over decades of conducting the Des Moines Register polls\",\n",
       " ' Your browser does not support iframes',\n",
       " \" . 'We don't have as much data as we might like about why this is happening,' she told MSNBC's 'The Weekend.'\",\n",
       " \" 'But our consensus from the reporters who work this beat is that the abortion ban went into effect this past summer... I think it has gotten people interested in voting.'\",\n",
       " \" Iowa hasn't voted for a Democrat in the presidential election since Barack Obama in 2012 and was written off by the Harris campaign as an easy GOP win\",\n",
       " ' . Like the polls, the betting markets have also tightened in recent days, largely thanks to that favorable Iowa poll for Harris',\n",
       " ' . As recently as Halloween, around 60 percent of bettors on platforms such as Kalshi, Polymarket and Predictit, were convinced that Trump was going to win',\n",
       " \" . Trump's odds now are no better than 54 percent across all three websites. In fact, Harris is the 56 to 48 percent favorite on Predictit\",\n",
       " ' . The final DailyMail.com/J.L. Partners national poll before Election Day showed Trump overtaking Harris by three percentage points nationally',\n",
       " \" . The poll of 1,000 likely voters, which has a margin of error of plus or minus 3.1 percent, shows that Trump is trending up, with the support of 49 percent to Harris' 46 percent.\"]"
      ]
     },
     "execution_count": 12,
     "metadata": {},
     "output_type": "execute_result"
    }
   ],
   "source": [
    "_text = sample_records.iloc[4]['content']\n",
    "re.split(pattern, _text)"
   ]
  },
  {
   "cell_type": "code",
   "execution_count": 13,
   "id": "qnkX",
   "metadata": {},
   "outputs": [],
   "source": [
    "content_corpuses = [re.split(pattern, text) for text in sample_records['content']]"
   ]
  },
  {
   "cell_type": "markdown",
   "id": "TqIu",
   "metadata": {
    "marimo": {
     "config": {
      "hide_code": true
     }
    }
   },
   "source": [
    "Now, we can try the chaining process"
   ]
  },
  {
   "cell_type": "code",
   "execution_count": 14,
   "id": "Vxnm",
   "metadata": {},
   "outputs": [
    {
     "name": "stderr",
     "output_type": "stream",
     "text": [
      "/mnt/Data Volume/Projects/Storion/Codebase/storion_aggregation_analysis/.venv/lib/python3.12/site-packages/tqdm/auto.py:21: TqdmWarning: IProgress not found. Please update jupyter and ipywidgets. See https://ipywidgets.readthedocs.io/en/stable/user_install.html\n",
      "  from .autonotebook import tqdm as notebook_tqdm\n"
     ]
    }
   ],
   "source": [
    "# Import the necessary libraries\n",
    "from sentence_transformers import SentenceTransformer\n",
    "import faiss\n",
    "from sklearn.metrics.pairwise import cosine_similarity"
   ]
  },
  {
   "cell_type": "code",
   "execution_count": 15,
   "id": "DnEU",
   "metadata": {},
   "outputs": [],
   "source": [
    "class EmbeddingModel:\n",
    "    \"\"\"A class to represent a SentenceTransformer model.\"\"\"\n",
    "    model: SentenceTransformer\n",
    "\n",
    "    def __init__(self, model_name='all-MiniLM-L6-v2'):\n",
    "        \"\"\"Initialize the SentenceTransformer model.\"\"\"\n",
    "        self.model = SentenceTransformer(model_name)\n",
    "\n",
    "    def generate_embedding(self, text):\n",
    "        \"\"\"Generate normalized embeddings for a list of strings.\"\"\"\n",
    "        embedding = self.model.encode(text)\n",
    "        return embedding\n",
    "\n",
    "    def generate_embeddings_for_corpus(self, corpus):\n",
    "        \"\"\"Generate normalized embeddings for a list of strings.\"\"\"\n",
    "        embeddings = self.model.encode(corpus)\n",
    "        normalized_embeddings = np.array([emb / np.linalg.norm(emb) for emb in embeddings], dtype='float32')\n",
    "        return normalized_embeddings"
   ]
  },
  {
   "cell_type": "code",
   "execution_count": 16,
   "id": "ulZA",
   "metadata": {},
   "outputs": [],
   "source": [
    "class FaissDB:\n",
    "    \"\"\"A class to manage an independent FAISS-based vector database.\"\"\"\n",
    "\n",
    "    def __init__(self, dimension):\n",
    "        \"\"\"Initialize a FAISS index for a given vector dimension.\"\"\"\n",
    "        self.dimension = dimension\n",
    "        self.index = faiss.IndexFlatL2(dimension)  # L2 distance-based index\n",
    "        self.embedding_documents = []  # Store metadata for embeddings\n",
    "\n",
    "    def add_embeddings(self, docs, embeddings):\n",
    "        \"\"\"\n",
    "        Add embeddings and associated metadata to the FAISS index.\n",
    "\n",
    "        Args:\n",
    "            docs (list): List of data corresponding to the embeddings.\n",
    "            embeddings (np.array): Array of embeddings.\n",
    "        \"\"\"\n",
    "        self.index.add(embeddings)\n",
    "        for idx, emb in enumerate(embeddings):\n",
    "            self.embedding_documents.append({\n",
    "                \"id\": idx,\n",
    "                \"doc\": docs[idx],\n",
    "                \"embedding\": emb,\n",
    "            })\n",
    "\n",
    "    def search(self, query_embedding, k=2):\n",
    "        \"\"\"\n",
    "        Search for the closest embeddings in the FAISS index.\n",
    "\n",
    "        Args:\n",
    "            query_embedding (np.array): Query embedding to search.\n",
    "            k (int): Number of nearest neighbors to return.\n",
    "        Returns:\n",
    "            tuple: Distances and document of closest matches.\n",
    "        \"\"\"\n",
    "        distances, indices = self.index.search(query_embedding.reshape(1, -1), k)\n",
    "        return distances.reshape(-1), [self.embedding_documents[index] for index in indices.reshape(-1)]\n",
    "\n",
    "    def reset(self):\n",
    "        \"\"\"Delete the FAISS index and associated metadata.\"\"\"\n",
    "        del self.index\n",
    "        self.index = faiss.IndexFlatL2(self.dimension)\n",
    "        self.embedding_documents = []\n",
    "        print(\"FAISS database deleted.\")"
   ]
  },
  {
   "cell_type": "code",
   "execution_count": 17,
   "id": "ecfG",
   "metadata": {},
   "outputs": [],
   "source": [
    "def calculate_pairwise_similarity(embeddings):\n",
    "    \"\"\"\n",
    "    Calculate pairwise cosine similarity between embeddings.\n",
    "\n",
    "    Args:\n",
    "        embeddings (np.array): Array of embeddings.\n",
    "    Returns:\n",
    "        np.array: Pairwise similarity.\n",
    "    \"\"\"\n",
    "    similarity_scores = cosine_similarity(embeddings, embeddings)\n",
    "    return similarity_scores\n",
    "\n",
    "def calculate_embedding_similarity(source_embedding, target_embeddings):\n",
    "    \"\"\"\n",
    "    Calculate Cosine similarity between the source embedding and target embeddings.\n",
    "\n",
    "    Args:\n",
    "        source_embedding (np.array): Array of source embedding.\n",
    "        target_embeddings (np.array): Arrays of target embeddings. \n",
    "    Returns:\n",
    "        np.array: Similarity of source embedding and target embeddings.\n",
    "    \"\"\"\n",
    "    similarity_scores = cosine_similarity(source_embedding.reshape(1, -1), target_embeddings)\n",
    "    return similarity_scores"
   ]
  },
  {
   "cell_type": "code",
   "execution_count": 18,
   "id": "Pvdt",
   "metadata": {},
   "outputs": [],
   "source": [
    "class C3F:\n",
    "    '''Collective Chaining Content Filteration'''\n",
    "    embed_model: EmbeddingModel\n",
    "    faiss_db: FaissDB\n",
    "\n",
    "    def __init__(self):\n",
    "        \"\"\"Initialize the C3F model.\"\"\"\n",
    "        self.embed_model = EmbeddingModel()\n",
    "        self.faiss_db = FaissDB(self.embed_model.model.get_sentence_embedding_dimension())\n",
    "\n",
    "    def _calculate_weighted_similarity(self, title_embedding, chained_embeddings, new_text_embedding, similarity_threshold):\n",
    "        \"\"\"\n",
    "        Calculate weighted similarity between new text and chained content.\n",
    "        \n",
    "        Args:\n",
    "            title_embedding (np.array): Embedding of the title.\n",
    "            chained_embeddings (np.array): Embeddings of chained content.\n",
    "            new_text_embedding (np.array): Embedding of new text.\n",
    "            similarity_threshold (float): Similarity threshold.\n",
    "        \n",
    "        Returns:\n",
    "            float: Weighted similarity score.\n",
    "        \"\"\"\n",
    "        # Calculate title similarity with 30% weight\n",
    "        title_similarity = calculate_embedding_similarity(new_text_embedding, title_embedding.reshape(1, -1))[0][0]\n",
    "        title_weighted_similarity = title_similarity * 0.3\n",
    "\n",
    "        # Calculate weighted similarity for chained content\n",
    "        if len(chained_embeddings) == 0:\n",
    "            return title_weighted_similarity\n",
    "\n",
    "        # Calculate cosine similarities\n",
    "        content_similarities = calculate_embedding_similarity(new_text_embedding, chained_embeddings).flatten()\n",
    "\n",
    "        # Create linear weights for chained content (closer texts get higher weights)\n",
    "        linear_weights = np.linspace(1, 0.1, len(chained_embeddings))\n",
    "        linear_weights /= linear_weights.sum()  # Normalize weights\n",
    "\n",
    "        # Calculate weighted content similarity\n",
    "        content_weighted_similarity = np.dot(content_similarities, linear_weights) * 0.7\n",
    "\n",
    "        # Combine title and content weighted similarities\n",
    "        total_weighted_similarity = title_weighted_similarity + content_weighted_similarity\n",
    "\n",
    "        return total_weighted_similarity\n",
    "\n",
    "    def filtertext_approach_1(self, referencetext: str, _victim_corpus: list[str], similarity_threshold=0.5):\n",
    "        \"\"\"\n",
    "        Filter the content using the C3F model with enhanced chaining logic.\n",
    "\n",
    "        Args:\n",
    "            referencetext (str): Reference text.\n",
    "            _victim_corpus (list): List of victim corpus.\n",
    "            similarity_threshold (float): Similarity threshold.\n",
    "\n",
    "        Returns:\n",
    "            list: Filtered corpus.\n",
    "        \"\"\"\n",
    "        # Generate embeddings\n",
    "        corpus = [referencetext] + _victim_corpus\n",
    "        embeddings = self.embed_model.generate_embeddings_for_corpus(corpus)\n",
    "        \n",
    "        # Extract embeddings\n",
    "        referencetext_embedding = embeddings[0, :]\n",
    "        embeddings = embeddings[1:, :]\n",
    "\n",
    "        # Initialize variables\n",
    "        filtered_corpus = []\n",
    "        reference_to_victim_similarity = calculate_embedding_similarity(referencetext_embedding, embeddings).flatten()\n",
    "        start_doc_idx = np.argmax(reference_to_victim_similarity)\n",
    "\n",
    "        # Check initial similarity\n",
    "        if reference_to_victim_similarity[start_doc_idx] < similarity_threshold:\n",
    "            return None\n",
    "\n",
    "        # Add starting document\n",
    "        start_doc = _victim_corpus[start_doc_idx]\n",
    "        filtered_corpus.append(start_doc)\n",
    "\n",
    "        # Determine possible chaining directions\n",
    "        backward_possible = start_doc_idx > 0\n",
    "        forward_possible = start_doc_idx < len(_victim_corpus) - 1\n",
    "\n",
    "        # Alternate chaining directions\n",
    "        current_doc = start_doc_idx\n",
    "        current_embedding = embeddings[current_doc, :]\n",
    "        chain_status = {\n",
    "            'backward': backward_possible,\n",
    "            'forward': forward_possible\n",
    "        }\n",
    "        direction_toggle = True  # True for backward, False for forward\n",
    "\n",
    "        while chain_status['backward'] or chain_status['forward']:\n",
    "            if direction_toggle and chain_status['backward']:\n",
    "                # Backward chaining\n",
    "                search_range = range(current_doc - 1, -1, -1)\n",
    "                insert_method = filtered_corpus.insert\n",
    "                insert_index = 0\n",
    "            elif chain_status['forward']:\n",
    "                # Forward chaining\n",
    "                search_range = range(current_doc + 1, len(_victim_corpus))\n",
    "                insert_method = filtered_corpus.append\n",
    "                insert_index = 0  # not used for append\n",
    "\n",
    "            # Attempt chaining in the current direction\n",
    "            chained = False\n",
    "            for assumed_target_link in search_range:\n",
    "                # Calculate weighted similarity\n",
    "                weighted_similarity = self._calculate_weighted_similarity(\n",
    "                    referencetext_embedding, \n",
    "                    np.array([emb for emb in [embeddings[idx, :] for idx in range(len(filtered_corpus))]]), \n",
    "                    embeddings[assumed_target_link, :], \n",
    "                    similarity_threshold\n",
    "                )\n",
    "\n",
    "                # Check if similarity meets threshold\n",
    "                if weighted_similarity > similarity_threshold:\n",
    "                    # Insert or append the document\n",
    "                    if direction_toggle:\n",
    "                        filtered_corpus.insert(0, _victim_corpus[assumed_target_link])\n",
    "                    else:\n",
    "                        filtered_corpus.append(_victim_corpus[assumed_target_link])\n",
    "                    \n",
    "                    current_doc = assumed_target_link\n",
    "                    current_embedding = embeddings[current_doc, :]\n",
    "                    chained = True\n",
    "                    break\n",
    "\n",
    "            # Update chain status and direction\n",
    "            if direction_toggle:\n",
    "                chain_status['backward'] = not chained and current_doc > 0\n",
    "            else:\n",
    "                chain_status['forward'] = not chained and current_doc < len(_victim_corpus) - 1\n",
    "\n",
    "            direction_toggle = not direction_toggle\n",
    "\n",
    "        return filtered_corpus\n",
    "\n",
    "    def filtertext_approach_2(self, referencetext: str, _victim_corpus: list[str], similarity_threshold=0.5, search_batch_size=5):\n",
    "        \"\"\"\n",
    "        Filter the content using the C3F model with enhanced chaining logic.\n",
    "\n",
    "        Args:\n",
    "            referencetext (str): Reference text.\n",
    "            _victim_corpus (list): List of victim corpus.\n",
    "            similarity_threshold (float): Similarity threshold.\n",
    "            search_batch_size (int): Search batch size.\n",
    "\n",
    "        Returns:\n",
    "            list: Filtered corpus.\n",
    "        \"\"\"\n",
    "        # Generate embeddings\n",
    "        corpus = [referencetext] + _victim_corpus\n",
    "        embeddings = self.embed_model.generate_embeddings_for_corpus(corpus)\n",
    "        \n",
    "        # Extract embeddings\n",
    "        referencetext_embedding = embeddings[0, :]\n",
    "        embeddings = embeddings[1:, :]\n",
    "\n",
    "        # Reset and add embeddings to FAISS DB\n",
    "        self.faiss_db.reset()\n",
    "        self.faiss_db.add_embeddings(_victim_corpus, embeddings)\n",
    "\n",
    "        # Find starting point\n",
    "        start_doc = self.faiss_db.search(referencetext_embedding, k=1)[1][0]\n",
    "        start_doc_similarity = calculate_embedding_similarity(referencetext_embedding, start_doc['embedding'].reshape(1, -1))\n",
    "\n",
    "        # Check initial similarity\n",
    "        if start_doc_similarity < similarity_threshold:\n",
    "            return None\n",
    "\n",
    "        # Initialize filtered corpus\n",
    "        filtered_corpus = [start_doc['doc']]\n",
    "\n",
    "        # Determine possible chaining directions\n",
    "        backward_possible = start_doc['id'] > 0\n",
    "        forward_possible = start_doc['id'] < len(_victim_corpus) - 1\n",
    "\n",
    "        # Alternate chaining directions\n",
    "        current_doc = start_doc\n",
    "        chain_status = {\n",
    "            'backward': backward_possible,\n",
    "            'forward': forward_possible\n",
    "        }\n",
    "        direction_toggle = True  # True for backward, False for forward\n",
    "\n",
    "        while chain_status['backward'] or chain_status['forward']:\n",
    "            if direction_toggle and chain_status['backward']:\n",
    "                # Backward chaining\n",
    "                corpus_slice = _victim_corpus[:current_doc['id']]\n",
    "                embeddings_slice = embeddings[:current_doc['id']]\n",
    "                search_range = range(current_doc['id'] - 1, -1, -1)\n",
    "                insert_method = filtered_corpus.insert\n",
    "                insert_index = 0\n",
    "            elif chain_status['forward']:\n",
    "                # Forward chaining\n",
    "                corpus_slice = _victim_corpus[current_doc['id'] + 1:]\n",
    "                embeddings_slice = embeddings[current_doc['id'] + 1:]\n",
    "                search_range = range(0, len(corpus_slice))\n",
    "                insert_method = filtered_corpus.append\n",
    "                insert_index = 0  # not used for append\n",
    "\n",
    "            # Reset FAISS DB for the current slice\n",
    "            self.faiss_db.reset()\n",
    "            self.faiss_db.add_embeddings(corpus_slice, embeddings_slice)\n",
    "\n",
    "            # Attempt chaining in the current direction\n",
    "            chained = False\n",
    "            max_batches = len(corpus_slice) // search_batch_size + 1\n",
    "            document_list = {}\n",
    "\n",
    "            for assumed_target_link in search_range:\n",
    "                # Calculate weighted similarity\n",
    "                weighted_similarity = self._calculate_weighted_similarity(\n",
    "                    referencetext_embedding, \n",
    "                    np.array([emb for emb in [embeddings[idx, :] for idx in range(len(filtered_corpus))]]), \n",
    "                    embeddings_slice[assumed_target_link, :], \n",
    "                    similarity_threshold\n",
    "                )\n",
    "\n",
    "                # Check if similarity meets threshold\n",
    "                if weighted_similarity > similarity_threshold:\n",
    "                    # Perform batch search to find the document\n",
    "                    is_result_doc_found = False\n",
    "                    for batch_no in range(max_batches):\n",
    "                        batch_jump_size = batch_no * search_batch_size\n",
    "                        batch_results = self.faiss_db.search(current_doc['embedding'], k=search_batch_size * (batch_no + 1))\n",
    "                        batch_results = (batch_results[0][batch_jump_size:], batch_results[1][batch_jump_size:])\n",
    "                        \n",
    "                        for dist, result_doc in zip(batch_results[0], batch_results[1]):\n",
    "                            document_list[result_doc['id']] = result_doc\n",
    "                            if result_doc['id'] == assumed_target_link:\n",
    "                                is_result_doc_found = True\n",
    "                                break\n",
    "                        \n",
    "                        if is_result_doc_found:\n",
    "                            break\n",
    "\n",
    "                    # Insert or append the document\n",
    "                    if direction_toggle:\n",
    "                        filtered_corpus.insert(0, corpus_slice[assumed_target_link])\n",
    "                    else:\n",
    "                        filtered_corpus.append(corpus_slice[assumed_target_link])\n",
    "                    \n",
    "                    current_doc = result_doc\n",
    "                    chained = True\n",
    "                    break\n",
    "\n",
    "            # Update chain status and direction\n",
    "            if direction_toggle:\n",
    "                chain_status['backward'] = not chained and current_doc['id'] > 0\n",
    "            else:\n",
    "                chain_status['forward'] = not chained and current_doc['id'] < len(_victim_corpus) - 1\n",
    "\n",
    "            direction_toggle = not direction_toggle\n",
    "\n",
    "        return filtered_corpus"
   ]
  },
  {
   "cell_type": "markdown",
   "id": "aLJB",
   "metadata": {
    "marimo": {
     "config": {
      "hide_code": true
     }
    }
   },
   "source": [
    "### Evaluation\n",
    "\n",
    "Let's evaluate the method"
   ]
  },
  {
   "cell_type": "code",
   "execution_count": null,
   "id": "ZBYS",
   "metadata": {},
   "outputs": [],
   "source": [
    "import difflib\n",
    "\n",
    "def highlight_corpus_difference(original_corpus: list[str], new_corpus: list[str]):\n",
    "  # Print the new corpus with highlights(red text for removed)\n",
    "  diff = difflib.unified_diff(original_corpus, new_corpus, lineterm=\"\")\n",
    "  for line in diff:\n",
    "      print(f\"{'\\033[31m' if line.startswith('-') else '\\033[0m'}{line}\")"
   ]
  },
  {
   "cell_type": "markdown",
   "id": "nHfw",
   "metadata": {
    "marimo": {
     "config": {
      "hide_code": true
     }
    }
   },
   "source": [
    "### Sample 1"
   ]
  },
  {
   "cell_type": "code",
   "execution_count": 20,
   "id": "xXTn",
   "metadata": {},
   "outputs": [
    {
     "name": "stdout",
     "output_type": "stream",
     "text": [
      "\n",
      "Best Internet Providers in Las Cruces, New Mexico\n",
      "\n",
      "\u001b[31m--- \n",
      "\u001b[0m+++ \n",
      "\u001b[0m@@ -1,62 +1,3 @@\n",
      "\u001b[0m+ Xfinity is CNET's top pick for the best internet service provider in Las Cruces, thanks to its wide availability throughout the city. It’s also the only cable connection available. But if you want the cheapest and fastest internet plans in Las Cruces, Xfinity is the provider for you. Plan prices go up after a year or two, so be prepared for a bill increase though. However, despite the increase, some plans still offer a decent deal even at the regular rate. This cable giant has also made strides in its customer satisfaction ratings\n",
      "\u001b[0m What is the best internet provider in Las Cruces, New Mexico?\n",
      "\u001b[31m- Xfinity is CNET's top pick for the best internet service provider in Las Cruces, thanks to its wide availability throughout the city. It’s also the only cable connection available. But if you want the cheapest and fastest internet plans in Las Cruces, Xfinity is the provider for you. Plan prices go up after a year or two, so be prepared for a bill increase though. However, despite the increase, some plans still offer a decent deal even at the regular rate. This cable giant has also made strides in its customer satisfaction ratings\n",
      "\u001b[0m  . If Xfinity doesn't serve your address, you can pick between fixed wireless or satellite internet. While more susceptible to network disruption than wired connections, and slower than Xfinity, they're decent alternatives. T-Mobile Home Internet is our favorite wireless provider in the area, and you can get great discounts for bundling with an eligible cellphone plan\n",
      "\u001b[31m- . Need speed? Xfinity offers the fastest internet plan in the city, with download speeds of 1,200 megabits per second for $80 monthly. The cost per Mbps of its top-end plan is a very cheap 7 cents per Mbps. And if you want to save money, Xfinity also has a $20 monthly plan for 150Mbps\n",
      "\u001b[31m- . Best internet in Las Cruces, New Mexico\n",
      "\u001b[31m- Las Cruces internet providers compared Provider Internet technology Monthly price range Speed range Monthly equipment costs Data cap Contract CNET review score CenturyLink\n",
      "\u001b[31m- Read full review DSL $55 10-100Mbps $15 (optional) None None 6.7 Starlink\n",
      "\u001b[31m- Read full review Satellite $120 30-150Mbps $349 one-time purchase Unlimited None 6.5 T-Mobile Home Internet\n",
      "\u001b[31m- Read full review Fixed wireless $50-$70 ($40-$50 for eligible Go5G Plus and Magenta Max mobile customers) 72-245Mbps None None None 7.4 Verizon 5G Home Internet\n",
      "\u001b[31m- Read full review Fixed wireless $50-$70 ($35-$45 for eligible Verizon Wireless customers) 100-300Mbps None None None 7.2 Xfinity\n",
      "\u001b[31m- Read full review Cable $20-$80 150-1,200Mbps $15 on some plans (optional) 1.2TB 1-year on some 7 Show more (0 item) Shop providers at my address\n",
      "\u001b[31m- Source: CNET analysis of provider data\n",
      "\u001b[31m- . Other available internet providers in Las Cruces\n",
      "\u001b[31m- Verizon 5G Home Internet : According to the latest FCC data, this fixed wireless provider is available to about 44% of Las Cruces households. If you want to avoid a hike in prices from Xfinity after your promo period ends, this ISP is a great alternative. Verizon offers two plans for the area: a 100Mbps plan for $50 a month and a 300Mbps plan for $70. While 300Mbps might not be the fastest plan, you'll still be getting faster speeds than T-Mobile at 245Mbps. With Verizon, you can expect straightforward service terms: no contracts or data caps and the equipment is included at no extra cost\n",
      "\u001b[31m- . : According to the latest FCC data, this fixed wireless provider is available to about 44% of Las Cruces households. If you want to avoid a hike in prices from Xfinity after your promo period ends, this ISP is a great alternative. Verizon offers two plans for the area: a 100Mbps plan for $50 a month and a 300Mbps plan for $70. While 300Mbps might not be the fastest plan, you'll still be getting faster speeds than T-Mobile at 245Mbps. With Verizon, you can expect straightforward service terms: no contracts or data caps and the equipment is included at no extra cost. Satellite internet: While Starlink is taking the lead for the best satellite connection in the city, Hughesnet and Viasat also offer solid home broadband options. Hughesnet is the cheapest option of the three, with standard service starting at $50 a month for download speeds of 50Mbps. Viasat offers a singular plan for up to 150Mbps with no term agreements\n",
      "\u001b[31m- . Cheap internet options in Las Cruces\n",
      "\u001b[31m- Most internet options in Las Cruces start at around $43 a month, but a few ISPs offer cheaper options. The cheapest internet offering in the city is Xfinity's $20-a-month plan for download speeds of 150Mbps. If you're looking for more speed, Xfinity also has a 300Mbps plan for just $15 more. Verizon and T-Mobile also offer eligible mobile customers discounts and may knock $10 to $20 off your monthly bill\n",
      "\u001b[31m- . What's the cheapest internet plan in Las Cruces?\n",
      "\u001b[31m- Provider Starting price Max download speed Monthly equipment fee Xfinity Connect\n",
      "\u001b[31m- Read full review $20 150Mbps $15 (optional) Xfinity Connect More\n",
      "\u001b[31m- Read full review $35 300Mbps None Verizon 5G Home Internet\n",
      "\u001b[31m- Read full review $50 ($35 with eligible mobile plans) 100Mbps None T-Mobile Home Internet\n",
      "\u001b[31m- Read full review $50 ($40 with eligible mobile plans) 245Mbps None Xfinity Fast\n",
      "\u001b[31m- Read full review $55 500Mbps None Show more (0 item) Shop providers at my address\n",
      "\u001b[31m- Source: CNET analysis of provider data\n",
      "\u001b[31m- . renal / Getty Images\n",
      "\u001b[31m- How to find internet deals and promotions in Las Cruces\n",
      "\u001b[31m- The best internet deals and top promotions in Las Cruces depend on what discounts are available during a given time. Most deals are short-lived, but we look frequently for the latest offers\n",
      "\u001b[31m- . Take our quiz Get Started Progress Step 1 of 4 How many members of your household use the internet? 1-2 people\n",
      "\u001b[31m- 3-5 people\n",
      "\u001b[31m- 6-9 people\n",
      "\u001b[31m- 10+ people Next\n",
      "\u001b[31m- Las Cruces internet providers, such as T-Mobile Home Internet, Xfinity and Verizon 5G Home Internet, may offer lower introductory pricing or streaming add-ons for a limited time. Others, like Starlink, run the same standard pricing year-round\n",
      "\u001b[31m- . For a more extensive list of promos, check out our guide on the best internet deals\n",
      "\u001b[31m- . How fast is Las Cruces broadband?\n",
      "\u001b[31m- In the latest Ookla speed test data, Las Cruces had a fixed median download speed of 273Mbps. That's not bad, especially considering the state of New Mexico rang in with a speed of 185Mbps. Nearby cities like Albuquerque and Sante Fe also couldn't match Las Cruces, coming in with 264Mbps and 251Mbps, respectively. Rio Rancho took home the trophy for top median speeds with 291Mbps\n",
      "\u001b[31m- . Fastest internet plans in Las Cruces\n",
      "\u001b[31m- Provider Starting price Max download speed Max upload speed Data cap Connection type Xfinity Gigabit Extra\n",
      "\u001b[31m- Read full review $80 1,200Mbps 35Mbps 1.2TB Cable Xfinity Gigabit\n",
      "\u001b[31m- Read full review $65 1,000Mbps 20Mbps 1.2TB Cable Show more (0 item) Shop providers at my address\n",
      "\u001b[31m- Source: CNET analysis of provider data\n",
      "\u001b[31m- . What’s a good internet speed?\n",
      "\u001b[31m- Most internet connection plans can now handle basic productivity and communication tasks. If you're looking for an internet plan that can accommodate videoconferencing, streaming video or gaming, you'll have a better experience with a more robust connection. Here's an overview of the recommended minimum download speeds for various applications, according to the FCC. Note that these are only guidelines and that internet speed, service and performance vary by connection type, provider and address\n",
      "\u001b[31m- . For more information, refer to our guide on how much internet speed you really need\n",
      "\u001b[31m- . 0 to 5Mbps allows you to tackle the basics: browsing the internet, sending and receiving email and streaming low-quality video\n",
      "\u001b[31m- . 5 to 40Mbps gives you higher-quality video streaming and videoconferencing\n",
      "\u001b[31m- . 40 to 100Mbps should give one user sufficient bandwidth to satisfy the demands of modern telecommuting, video streaming and online gaming\n",
      "\u001b[31m- . 100 to 500Mbps allows one to two users to simultaneously engage in high-bandwidth activities like videoconferencing, streaming and online gaming\n",
      "\u001b[31m- . 500 to 1,000Mbps allows three or more users to engage in high-bandwidth activities at the same time\n",
      "\u001b[31m- . How CNET chose the best internet providers in Las Cruces\n",
      "\u001b[31m- Internet service providers are numerous and regional. Unlike the latest smartphone, laptop, router or kitchen tool, it’s impractical to personally test every ISP in a given city. What’s our approach? We start by researching the pricing, availability and speed information drawing on our own historical ISP data, the provider sites and mapping information from the Federal Communications Commission at FCC.gov\n",
      "\u001b[31m- . It doesn’t end there: We go to the FCC’s website to check our data and ensure we consider every ISP that provides service in an area. We also input local addresses on provider websites to find specific options for residents. We look at sources, including the American Customer Satisfaction Index and J.D. Power, to evaluate how happy customers are with an ISP’s service. ISP plans and prices are subject to frequent changes; all information provided is accurate as of the time of publication\n",
      "\u001b[31m- . Once we have this localized information, we ask three main questions:\n",
      "\u001b[31m- Does the provider offer access to reasonably fast internet speeds? Do customers get decent value for what they’re paying? Are customers happy with their service?\n",
      "\u001b[31m- While the answer to those questions is often layered and complex, the providers who come closest to “yes” on all three are the ones we recommend. When selecting the cheapest internet service, we look for the plans with the lowest monthly fee, although we also factor in things like price increases, equipment fees and contracts. Choosing the fastest internet service is relatively straightforward. We look at advertised upload and download speeds and consider real-world speed data from sources like Ookla and FCC reports. (Ookla is owned by the same parent company as CNET, Ziff Davis.)\n",
      "\u001b[31m- To explore our process in more depth, visit our how we test ISPs page\n",
      "\u001b[31m- . What's the final word on internet providers in Las Cruces?\n",
      "\u001b[31m- Your home broadband options will be limited if you reside in Las Cruces. Most households in the city are serviceable for a cable connection from Xfinity. Like most cable providers, expect a price hike from Xfinity once the promo period ends. A fixed wireless connection from T-Mobile might be a decent alternative to avoid that increase. Starlink is available virtually everywhere, but you might have to settle for slower speeds and a steeper monthly cost (to say nothing of the $349 upfront cost for starting service)\n",
      "\u001b[31m- . Internet providers in Las Cruces FAQs\n",
      "\u001b[31m- What is the best internet service provider in Las Cruces? Xfinity is the best internet service provider in Las Cruces, offering the city's fastest speeds, broadest coverage and lowest introductory prices. According to the latest data from the FCC, Xfinity is available to over 99% of households in Las Cruces, which means that your address is likely eligible for service\n",
      "\u001b[31m- . Is fiber internet available in Las Cruces? Yes, according to the latest FCC data, fiber internet is available to approximately 4% of Las Cruces households. Fiber coverage is limited throughout the city, but few households might be serviceable for Quantum Fiber or Xfinity's fiber internet connection\n",
      "\u001b[31m- . What is the cheapest internet provider in Las Cruces? Xfinity is the cheapest internet provider in Las Cruces, offering a $20-a-month plan for 150Mbps. For just $15 more, you can bump up that speed to 300Mbps.\n"
     ]
    }
   ],
   "source": [
    "_c3f = C3F()\n",
    "_reference_text = sample_records.iloc[0]['title']\n",
    "_victim_corpus = content_corpuses[0]\n",
    "_filtered_corpus = _c3f.filtertext_approach_1(_reference_text, _victim_corpus, similarity_threshold=0)\n",
    "print()\n",
    "print(_reference_text)\n",
    "print()\n",
    "highlight_corpus_difference(_victim_corpus, _filtered_corpus)"
   ]
  },
  {
   "cell_type": "code",
   "execution_count": 21,
   "id": "AjVT",
   "metadata": {},
   "outputs": [
    {
     "name": "stdout",
     "output_type": "stream",
     "text": [
      "FAISS database deleted.\n",
      "FAISS database deleted.\n",
      "FAISS database deleted.\n",
      "\n",
      "Best Internet Providers in Las Cruces, New Mexico\n",
      "\n",
      "\u001b[31m--- \n",
      "\u001b[0m+++ \n",
      "\u001b[0m@@ -1,62 +1,3 @@\n",
      "\u001b[0m+ Xfinity is CNET's top pick for the best internet service provider in Las Cruces, thanks to its wide availability throughout the city. It’s also the only cable connection available. But if you want the cheapest and fastest internet plans in Las Cruces, Xfinity is the provider for you. Plan prices go up after a year or two, so be prepared for a bill increase though. However, despite the increase, some plans still offer a decent deal even at the regular rate. This cable giant has also made strides in its customer satisfaction ratings\n",
      "\u001b[0m What is the best internet provider in Las Cruces, New Mexico?\n",
      "\u001b[0m  Xfinity is CNET's top pick for the best internet service provider in Las Cruces, thanks to its wide availability throughout the city. It’s also the only cable connection available. But if you want the cheapest and fastest internet plans in Las Cruces, Xfinity is the provider for you. Plan prices go up after a year or two, so be prepared for a bill increase though. However, despite the increase, some plans still offer a decent deal even at the regular rate. This cable giant has also made strides in its customer satisfaction ratings\n",
      "\u001b[31m- . If Xfinity doesn't serve your address, you can pick between fixed wireless or satellite internet. While more susceptible to network disruption than wired connections, and slower than Xfinity, they're decent alternatives. T-Mobile Home Internet is our favorite wireless provider in the area, and you can get great discounts for bundling with an eligible cellphone plan\n",
      "\u001b[31m- . Need speed? Xfinity offers the fastest internet plan in the city, with download speeds of 1,200 megabits per second for $80 monthly. The cost per Mbps of its top-end plan is a very cheap 7 cents per Mbps. And if you want to save money, Xfinity also has a $20 monthly plan for 150Mbps\n",
      "\u001b[31m- . Best internet in Las Cruces, New Mexico\n",
      "\u001b[31m- Las Cruces internet providers compared Provider Internet technology Monthly price range Speed range Monthly equipment costs Data cap Contract CNET review score CenturyLink\n",
      "\u001b[31m- Read full review DSL $55 10-100Mbps $15 (optional) None None 6.7 Starlink\n",
      "\u001b[31m- Read full review Satellite $120 30-150Mbps $349 one-time purchase Unlimited None 6.5 T-Mobile Home Internet\n",
      "\u001b[31m- Read full review Fixed wireless $50-$70 ($40-$50 for eligible Go5G Plus and Magenta Max mobile customers) 72-245Mbps None None None 7.4 Verizon 5G Home Internet\n",
      "\u001b[31m- Read full review Fixed wireless $50-$70 ($35-$45 for eligible Verizon Wireless customers) 100-300Mbps None None None 7.2 Xfinity\n",
      "\u001b[31m- Read full review Cable $20-$80 150-1,200Mbps $15 on some plans (optional) 1.2TB 1-year on some 7 Show more (0 item) Shop providers at my address\n",
      "\u001b[31m- Source: CNET analysis of provider data\n",
      "\u001b[31m- . Other available internet providers in Las Cruces\n",
      "\u001b[31m- Verizon 5G Home Internet : According to the latest FCC data, this fixed wireless provider is available to about 44% of Las Cruces households. If you want to avoid a hike in prices from Xfinity after your promo period ends, this ISP is a great alternative. Verizon offers two plans for the area: a 100Mbps plan for $50 a month and a 300Mbps plan for $70. While 300Mbps might not be the fastest plan, you'll still be getting faster speeds than T-Mobile at 245Mbps. With Verizon, you can expect straightforward service terms: no contracts or data caps and the equipment is included at no extra cost\n",
      "\u001b[31m- . : According to the latest FCC data, this fixed wireless provider is available to about 44% of Las Cruces households. If you want to avoid a hike in prices from Xfinity after your promo period ends, this ISP is a great alternative. Verizon offers two plans for the area: a 100Mbps plan for $50 a month and a 300Mbps plan for $70. While 300Mbps might not be the fastest plan, you'll still be getting faster speeds than T-Mobile at 245Mbps. With Verizon, you can expect straightforward service terms: no contracts or data caps and the equipment is included at no extra cost. Satellite internet: While Starlink is taking the lead for the best satellite connection in the city, Hughesnet and Viasat also offer solid home broadband options. Hughesnet is the cheapest option of the three, with standard service starting at $50 a month for download speeds of 50Mbps. Viasat offers a singular plan for up to 150Mbps with no term agreements\n",
      "\u001b[31m- . Cheap internet options in Las Cruces\n",
      "\u001b[31m- Most internet options in Las Cruces start at around $43 a month, but a few ISPs offer cheaper options. The cheapest internet offering in the city is Xfinity's $20-a-month plan for download speeds of 150Mbps. If you're looking for more speed, Xfinity also has a 300Mbps plan for just $15 more. Verizon and T-Mobile also offer eligible mobile customers discounts and may knock $10 to $20 off your monthly bill\n",
      "\u001b[31m- . What's the cheapest internet plan in Las Cruces?\n",
      "\u001b[31m- Provider Starting price Max download speed Monthly equipment fee Xfinity Connect\n",
      "\u001b[31m- Read full review $20 150Mbps $15 (optional) Xfinity Connect More\n",
      "\u001b[31m- Read full review $35 300Mbps None Verizon 5G Home Internet\n",
      "\u001b[31m- Read full review $50 ($35 with eligible mobile plans) 100Mbps None T-Mobile Home Internet\n",
      "\u001b[31m- Read full review $50 ($40 with eligible mobile plans) 245Mbps None Xfinity Fast\n",
      "\u001b[31m- Read full review $55 500Mbps None Show more (0 item) Shop providers at my address\n",
      "\u001b[31m- Source: CNET analysis of provider data\n",
      "\u001b[31m- . renal / Getty Images\n",
      "\u001b[31m- How to find internet deals and promotions in Las Cruces\n",
      "\u001b[31m- The best internet deals and top promotions in Las Cruces depend on what discounts are available during a given time. Most deals are short-lived, but we look frequently for the latest offers\n",
      "\u001b[31m- . Take our quiz Get Started Progress Step 1 of 4 How many members of your household use the internet? 1-2 people\n",
      "\u001b[31m- 3-5 people\n",
      "\u001b[31m- 6-9 people\n",
      "\u001b[31m- 10+ people Next\n",
      "\u001b[31m- Las Cruces internet providers, such as T-Mobile Home Internet, Xfinity and Verizon 5G Home Internet, may offer lower introductory pricing or streaming add-ons for a limited time. Others, like Starlink, run the same standard pricing year-round\n",
      "\u001b[31m- . For a more extensive list of promos, check out our guide on the best internet deals\n",
      "\u001b[31m- . How fast is Las Cruces broadband?\n",
      "\u001b[31m- In the latest Ookla speed test data, Las Cruces had a fixed median download speed of 273Mbps. That's not bad, especially considering the state of New Mexico rang in with a speed of 185Mbps. Nearby cities like Albuquerque and Sante Fe also couldn't match Las Cruces, coming in with 264Mbps and 251Mbps, respectively. Rio Rancho took home the trophy for top median speeds with 291Mbps\n",
      "\u001b[31m- . Fastest internet plans in Las Cruces\n",
      "\u001b[31m- Provider Starting price Max download speed Max upload speed Data cap Connection type Xfinity Gigabit Extra\n",
      "\u001b[31m- Read full review $80 1,200Mbps 35Mbps 1.2TB Cable Xfinity Gigabit\n",
      "\u001b[31m- Read full review $65 1,000Mbps 20Mbps 1.2TB Cable Show more (0 item) Shop providers at my address\n",
      "\u001b[31m- Source: CNET analysis of provider data\n",
      "\u001b[31m- . What’s a good internet speed?\n",
      "\u001b[31m- Most internet connection plans can now handle basic productivity and communication tasks. If you're looking for an internet plan that can accommodate videoconferencing, streaming video or gaming, you'll have a better experience with a more robust connection. Here's an overview of the recommended minimum download speeds for various applications, according to the FCC. Note that these are only guidelines and that internet speed, service and performance vary by connection type, provider and address\n",
      "\u001b[31m- . For more information, refer to our guide on how much internet speed you really need\n",
      "\u001b[31m- . 0 to 5Mbps allows you to tackle the basics: browsing the internet, sending and receiving email and streaming low-quality video\n",
      "\u001b[31m- . 5 to 40Mbps gives you higher-quality video streaming and videoconferencing\n",
      "\u001b[31m- . 40 to 100Mbps should give one user sufficient bandwidth to satisfy the demands of modern telecommuting, video streaming and online gaming\n",
      "\u001b[31m- . 100 to 500Mbps allows one to two users to simultaneously engage in high-bandwidth activities like videoconferencing, streaming and online gaming\n",
      "\u001b[31m- . 500 to 1,000Mbps allows three or more users to engage in high-bandwidth activities at the same time\n",
      "\u001b[31m- . How CNET chose the best internet providers in Las Cruces\n",
      "\u001b[31m- Internet service providers are numerous and regional. Unlike the latest smartphone, laptop, router or kitchen tool, it’s impractical to personally test every ISP in a given city. What’s our approach? We start by researching the pricing, availability and speed information drawing on our own historical ISP data, the provider sites and mapping information from the Federal Communications Commission at FCC.gov\n",
      "\u001b[31m- . It doesn’t end there: We go to the FCC’s website to check our data and ensure we consider every ISP that provides service in an area. We also input local addresses on provider websites to find specific options for residents. We look at sources, including the American Customer Satisfaction Index and J.D. Power, to evaluate how happy customers are with an ISP’s service. ISP plans and prices are subject to frequent changes; all information provided is accurate as of the time of publication\n",
      "\u001b[31m- . Once we have this localized information, we ask three main questions:\n",
      "\u001b[31m- Does the provider offer access to reasonably fast internet speeds? Do customers get decent value for what they’re paying? Are customers happy with their service?\n",
      "\u001b[31m- While the answer to those questions is often layered and complex, the providers who come closest to “yes” on all three are the ones we recommend. When selecting the cheapest internet service, we look for the plans with the lowest monthly fee, although we also factor in things like price increases, equipment fees and contracts. Choosing the fastest internet service is relatively straightforward. We look at advertised upload and download speeds and consider real-world speed data from sources like Ookla and FCC reports. (Ookla is owned by the same parent company as CNET, Ziff Davis.)\n",
      "\u001b[31m- To explore our process in more depth, visit our how we test ISPs page\n",
      "\u001b[31m- . What's the final word on internet providers in Las Cruces?\n",
      "\u001b[31m- Your home broadband options will be limited if you reside in Las Cruces. Most households in the city are serviceable for a cable connection from Xfinity. Like most cable providers, expect a price hike from Xfinity once the promo period ends. A fixed wireless connection from T-Mobile might be a decent alternative to avoid that increase. Starlink is available virtually everywhere, but you might have to settle for slower speeds and a steeper monthly cost (to say nothing of the $349 upfront cost for starting service)\n",
      "\u001b[31m- . Internet providers in Las Cruces FAQs\n",
      "\u001b[31m- What is the best internet service provider in Las Cruces? Xfinity is the best internet service provider in Las Cruces, offering the city's fastest speeds, broadest coverage and lowest introductory prices. According to the latest data from the FCC, Xfinity is available to over 99% of households in Las Cruces, which means that your address is likely eligible for service\n",
      "\u001b[31m- . Is fiber internet available in Las Cruces? Yes, according to the latest FCC data, fiber internet is available to approximately 4% of Las Cruces households. Fiber coverage is limited throughout the city, but few households might be serviceable for Quantum Fiber or Xfinity's fiber internet connection\n",
      "\u001b[31m- . What is the cheapest internet provider in Las Cruces? Xfinity is the cheapest internet provider in Las Cruces, offering a $20-a-month plan for 150Mbps. For just $15 more, you can bump up that speed to 300Mbps.\n"
     ]
    }
   ],
   "source": [
    "_c3f = C3F()\n",
    "_reference_text = sample_records.iloc[0]['title']\n",
    "_victim_corpus = content_corpuses[0]\n",
    "_filtered_corpus = _c3f.filtertext_approach_2(_reference_text, _victim_corpus, similarity_threshold=0)\n",
    "print()\n",
    "print(_reference_text)\n",
    "print()\n",
    "highlight_corpus_difference(_victim_corpus, _filtered_corpus)"
   ]
  },
  {
   "cell_type": "markdown",
   "id": "pHFh",
   "metadata": {
    "marimo": {
     "config": {
      "hide_code": true
     }
    }
   },
   "source": [
    "### Sample 2"
   ]
  },
  {
   "cell_type": "code",
   "execution_count": 22,
   "id": "NCOB",
   "metadata": {},
   "outputs": [
    {
     "name": "stdout",
     "output_type": "stream",
     "text": [
      "\n",
      "How to find your place in science through an industry postdoc\n",
      "\n",
      "\u001b[31m--- \n",
      "\u001b[0m+++ \n",
      "\u001b[0m@@ -1,23 +1,3 @@\n",
      "\u001b[31m-Nature’s 2023 survey of postdoctoral researchers identified a notable gap between industry and academia. Although industry postdocs remain in the minority — only 7% of the 3,838 respondents from around the world reported working in an industrial setting — they reported greater satisfaction and tended to be better compensated. Nearly one-quarter of postdocs in industry reported annual earnings of between US$80,000 and $110,000, compared with just 5% of their academic counterparts\n",
      "\u001b[31m- . Whereas global companies such as Google, Honda and Coca-Cola all have postdocs on the payroll, it is pharmaceutical and life-science companies that have been especially eager to embrace this group as part of their workforce. AstraZeneca, for example, employs more than 120 postdocs in 3-year positions across its research and design centres in the United States, the United Kingdom and Sweden. Industry postdocs can learn fresh skills and explore new scientific targets — with some corporate restrictions — and the companies get eager workers who can make important advances in basic science\n",
      "\u001b[31m- . Nature spoke to three postdocs who work at large pharmaceutical and life-science companies: Genentech, Merck and AstraZeneca. Although the transition from academia to industry isn’t always easy, and the next step isn’t always apparent, all agree that these positions provided invaluable experience\n",
      "\u001b[31m- . ANNIE WOOLVEN: Big company, big opportunities\n",
      "\u001b[31m- Systems biologist at AstraZeneca, Cambridge, UK\n",
      "\u001b[31m- . Annie Woolven says a postdoc at AstraZeneca has opened the door to new opportunities.Credit: AstraZeneca\n",
      "\u001b[31m- During graduate school at the University of Birmingham, UK, I used analytical chemistry to study metabolomics and metabolism. Among other things, I looked at metabolites in human tears\n",
      "\u001b[0m  . That work was interesting, but I never really felt that academia was right for me. Teaching, grant writing, managing other people — there was a lot that wasn’t related to science. I hadn’t necessarily planned to do a postdoc position, but I came across this project at AstraZeneca in Cambridge, UK, that really spoke to me. Because it involved moving from metabolomics to systems biology, I knew that I would gain many new skills. And it would let me see if industry was a good place to do my science\n",
      "\u001b[0m  . Planning a postdoc before moving to industry? Think again\n",
      "\u001b[31m- As a postdoc in the clinical pharmacology and safety sciences division, I’m not involved with pipeline work. AstraZeneca expects us to publish at least two articles in high-quality publications during our time here, so everything has to be releasable to the public. I’m on track to meet those expectations. I have one draft in the works, and I’ll start another paper after I finish some data analysis\n",
      "\u001b[31m- . There are advantages to working in a large company. I can learn from people in different parts of the firm; we have Friday talks where in-house researchers from all around the business discuss their projects. But it’s not just about research. People come here to talk about law, policy and entrepreneurship. I’m personally becoming interested in science communication. I know the communications team would answer my questions and help me to explore that career option. If there’s another part of the company that I think is more interesting, I could just get a coffee with someone. I don’t think that could happen in academia\n",
      "\u001b[31m- . I led the start up of a focus group of people who work in multi-omics in AstraZeneca. At first it was just postdocs, but it now includes people with other positions in the company. We also invite academics to talk about their multi-omics work. At any stage of your career, building those sorts of network can be helpful\n",
      "\u001b[31m- . I’m well-funded and taken care of. I have support when I need it throughout the company, and I’m able to focus on just my research. I have a standard working week. After working practically 24/7 on my PhD thesis, it’s a welcome change of pace\n",
      "\u001b[31m- . My three-year contract ends in April 2025. I’m not sure where I’ll be next, but I want to stay in industry. For me, a postdoctoral position outside academia was definitely the right choice\n",
      "\u001b[31m- . JOE PARRY: Building a fresh toolkit\n",
      "\u001b[31m- Organic chemist at Merck, Rahway, New Jersey\n",
      "\u001b[31m- . Joe Parry has become interested in process chemistry during his postdoc at Merck.Credit: Merck Sharp & Dohme\n",
      "\u001b[31m- Near the end of my time in graduate school at Cornell University in Ithaca, New York, I started craving a change in environment. Up until that point, I had only really known life in academia, where I studied organometallic chemistry. I thought that trying something different would be a great opportunity to stretch myself, personally and professionally. It was the first time in my life that I didn’t have the next several years completely mapped out, which was scary\n",
      "\u001b[31m- . I saw that Merck was offering a postdoc position in Rahway, New Jersey, that was loosely related to some of the skills that I had developed at graduate school. I could tell that there was potential for me to gain skill sets. I had never used an ultra-performance liquid chromatography mass spectrometry machine until I started at Merck. Now it’s a standard tool for my research. The chance to explore different ways to tackle problems was exciting to me. When I reflect on my day-to-day life now, it looks completely different from two years ago\n",
      "\u001b[31m- . Postdocs are organizing to obtain better pay and working conditions — that can only be a good thing\n",
      "\u001b[31m- During my two years at Merck, I’ve become interested in process chemistry, which involves finding practical and efficient ways to produce newly discovered compounds. Using high-throughput experimentation, I can develop innovative approaches to tough problems in chemistry. I hope to continue exploring process chemistry in my next position, hopefully in industry\n",
      "\u001b[31m- . I value the community and collaborative environment at Merck. Postdocs here are embedded in research teams, and there’s no project that’s off limits. Postdocs are often given exploratory projects with the hope that the methods they develop will eventually be helpful for developing profitable pharmaceuticals and other compounds\n",
      "\u001b[31m- . There’s a misconception that postdocs in industry aren’t able to publish papers, because they’re too busy working on company secrets. In fact, we’re encouraged to publish. Merck recognizes that publishing our work helps to facilitate exchanges with outside researchers and is important for our career development. I have a couple of manuscripts in the works, but it’s too early to discuss the details.\n",
      "\u001b[0m+ . Planning a postdoc before moving to industry? Think again\n"
     ]
    }
   ],
   "source": [
    "_ccf = C3F()\n",
    "_reference_text = sample_records.iloc[1]['title']\n",
    "_victim_corpus = content_corpuses[1]\n",
    "_filtered_corpus = _ccf.filtertext_approach_1(_reference_text, _victim_corpus, similarity_threshold=0)\n",
    "print()\n",
    "print(_reference_text)\n",
    "print()\n",
    "highlight_corpus_difference(_victim_corpus, _filtered_corpus)"
   ]
  },
  {
   "cell_type": "code",
   "execution_count": 23,
   "id": "aqbW",
   "metadata": {},
   "outputs": [
    {
     "name": "stdout",
     "output_type": "stream",
     "text": [
      "FAISS database deleted.\n",
      "FAISS database deleted.\n",
      "FAISS database deleted.\n",
      "\n",
      "How to find your place in science through an industry postdoc\n",
      "\n",
      "\u001b[31m--- \n",
      "\u001b[0m+++ \n",
      "\u001b[0m@@ -1,23 +1,3 @@\n",
      "\u001b[31m-Nature’s 2023 survey of postdoctoral researchers identified a notable gap between industry and academia. Although industry postdocs remain in the minority — only 7% of the 3,838 respondents from around the world reported working in an industrial setting — they reported greater satisfaction and tended to be better compensated. Nearly one-quarter of postdocs in industry reported annual earnings of between US$80,000 and $110,000, compared with just 5% of their academic counterparts\n",
      "\u001b[31m- . Whereas global companies such as Google, Honda and Coca-Cola all have postdocs on the payroll, it is pharmaceutical and life-science companies that have been especially eager to embrace this group as part of their workforce. AstraZeneca, for example, employs more than 120 postdocs in 3-year positions across its research and design centres in the United States, the United Kingdom and Sweden. Industry postdocs can learn fresh skills and explore new scientific targets — with some corporate restrictions — and the companies get eager workers who can make important advances in basic science\n",
      "\u001b[31m- . Nature spoke to three postdocs who work at large pharmaceutical and life-science companies: Genentech, Merck and AstraZeneca. Although the transition from academia to industry isn’t always easy, and the next step isn’t always apparent, all agree that these positions provided invaluable experience\n",
      "\u001b[31m- . ANNIE WOOLVEN: Big company, big opportunities\n",
      "\u001b[31m- Systems biologist at AstraZeneca, Cambridge, UK\n",
      "\u001b[31m- . Annie Woolven says a postdoc at AstraZeneca has opened the door to new opportunities.Credit: AstraZeneca\n",
      "\u001b[31m- During graduate school at the University of Birmingham, UK, I used analytical chemistry to study metabolomics and metabolism. Among other things, I looked at metabolites in human tears\n",
      "\u001b[0m  . That work was interesting, but I never really felt that academia was right for me. Teaching, grant writing, managing other people — there was a lot that wasn’t related to science. I hadn’t necessarily planned to do a postdoc position, but I came across this project at AstraZeneca in Cambridge, UK, that really spoke to me. Because it involved moving from metabolomics to systems biology, I knew that I would gain many new skills. And it would let me see if industry was a good place to do my science\n",
      "\u001b[0m  . Planning a postdoc before moving to industry? Think again\n",
      "\u001b[31m- As a postdoc in the clinical pharmacology and safety sciences division, I’m not involved with pipeline work. AstraZeneca expects us to publish at least two articles in high-quality publications during our time here, so everything has to be releasable to the public. I’m on track to meet those expectations. I have one draft in the works, and I’ll start another paper after I finish some data analysis\n",
      "\u001b[31m- . There are advantages to working in a large company. I can learn from people in different parts of the firm; we have Friday talks where in-house researchers from all around the business discuss their projects. But it’s not just about research. People come here to talk about law, policy and entrepreneurship. I’m personally becoming interested in science communication. I know the communications team would answer my questions and help me to explore that career option. If there’s another part of the company that I think is more interesting, I could just get a coffee with someone. I don’t think that could happen in academia\n",
      "\u001b[31m- . I led the start up of a focus group of people who work in multi-omics in AstraZeneca. At first it was just postdocs, but it now includes people with other positions in the company. We also invite academics to talk about their multi-omics work. At any stage of your career, building those sorts of network can be helpful\n",
      "\u001b[31m- . I’m well-funded and taken care of. I have support when I need it throughout the company, and I’m able to focus on just my research. I have a standard working week. After working practically 24/7 on my PhD thesis, it’s a welcome change of pace\n",
      "\u001b[31m- . My three-year contract ends in April 2025. I’m not sure where I’ll be next, but I want to stay in industry. For me, a postdoctoral position outside academia was definitely the right choice\n",
      "\u001b[31m- . JOE PARRY: Building a fresh toolkit\n",
      "\u001b[31m- Organic chemist at Merck, Rahway, New Jersey\n",
      "\u001b[31m- . Joe Parry has become interested in process chemistry during his postdoc at Merck.Credit: Merck Sharp & Dohme\n",
      "\u001b[31m- Near the end of my time in graduate school at Cornell University in Ithaca, New York, I started craving a change in environment. Up until that point, I had only really known life in academia, where I studied organometallic chemistry. I thought that trying something different would be a great opportunity to stretch myself, personally and professionally. It was the first time in my life that I didn’t have the next several years completely mapped out, which was scary\n",
      "\u001b[31m- . I saw that Merck was offering a postdoc position in Rahway, New Jersey, that was loosely related to some of the skills that I had developed at graduate school. I could tell that there was potential for me to gain skill sets. I had never used an ultra-performance liquid chromatography mass spectrometry machine until I started at Merck. Now it’s a standard tool for my research. The chance to explore different ways to tackle problems was exciting to me. When I reflect on my day-to-day life now, it looks completely different from two years ago\n",
      "\u001b[31m- . Postdocs are organizing to obtain better pay and working conditions — that can only be a good thing\n",
      "\u001b[31m- During my two years at Merck, I’ve become interested in process chemistry, which involves finding practical and efficient ways to produce newly discovered compounds. Using high-throughput experimentation, I can develop innovative approaches to tough problems in chemistry. I hope to continue exploring process chemistry in my next position, hopefully in industry\n",
      "\u001b[31m- . I value the community and collaborative environment at Merck. Postdocs here are embedded in research teams, and there’s no project that’s off limits. Postdocs are often given exploratory projects with the hope that the methods they develop will eventually be helpful for developing profitable pharmaceuticals and other compounds\n",
      "\u001b[31m- . There’s a misconception that postdocs in industry aren’t able to publish papers, because they’re too busy working on company secrets. In fact, we’re encouraged to publish. Merck recognizes that publishing our work helps to facilitate exchanges with outside researchers and is important for our career development. I have a couple of manuscripts in the works, but it’s too early to discuss the details.\n",
      "\u001b[0m+ . Planning a postdoc before moving to industry? Think again\n"
     ]
    }
   ],
   "source": [
    "_ccf = C3F()\n",
    "_reference_text = sample_records.iloc[1]['title']\n",
    "_victim_corpus = content_corpuses[1]\n",
    "_filtered_corpus = _ccf.filtertext_approach_2(_reference_text, _victim_corpus, similarity_threshold=0)\n",
    "print()\n",
    "print(_reference_text)\n",
    "print()\n",
    "highlight_corpus_difference(_victim_corpus, _filtered_corpus)"
   ]
  },
  {
   "cell_type": "markdown",
   "id": "TRpd",
   "metadata": {
    "marimo": {
     "config": {
      "hide_code": true
     }
    }
   },
   "source": [
    "### Sample 3"
   ]
  },
  {
   "cell_type": "code",
   "execution_count": 24,
   "id": "TXez",
   "metadata": {},
   "outputs": [
    {
     "name": "stdout",
     "output_type": "stream",
     "text": [
      "\n",
      "6 Key Moments From 'Love Is Blind' Season 7 Reunion\n",
      "\n"
     ]
    }
   ],
   "source": [
    "_ccf = C3F()\n",
    "_reference_text = sample_records.iloc[2]['title']\n",
    "_victim_corpus = content_corpuses[2]\n",
    "_filtered_corpus = _ccf.filtertext_approach_1(_reference_text, _victim_corpus, similarity_threshold=0)\n",
    "print()\n",
    "print(_reference_text)\n",
    "print()\n",
    "highlight_corpus_difference(_victim_corpus, _filtered_corpus)"
   ]
  },
  {
   "cell_type": "code",
   "execution_count": 25,
   "id": "dNNg",
   "metadata": {},
   "outputs": [
    {
     "name": "stdout",
     "output_type": "stream",
     "text": [
      "FAISS database deleted.\n",
      "\n",
      "6 Key Moments From 'Love Is Blind' Season 7 Reunion\n",
      "\n"
     ]
    }
   ],
   "source": [
    "_ccf = C3F()\n",
    "_reference_text = sample_records.iloc[2]['title']\n",
    "_victim_corpus = content_corpuses[2]\n",
    "_filtered_corpus = _ccf.filtertext_approach_2(_reference_text, _victim_corpus, similarity_threshold=0)\n",
    "print()\n",
    "print(_reference_text)\n",
    "print()\n",
    "highlight_corpus_difference(_victim_corpus, _filtered_corpus)"
   ]
  },
  {
   "cell_type": "markdown",
   "id": "yCnT",
   "metadata": {
    "marimo": {
     "config": {
      "hide_code": true
     }
    }
   },
   "source": [
    "### Sample 4"
   ]
  },
  {
   "cell_type": "code",
   "execution_count": 26,
   "id": "wlCL",
   "metadata": {},
   "outputs": [
    {
     "name": "stdout",
     "output_type": "stream",
     "text": [
      "\n",
      "‘Tetris’ Creator Alexey Pajitnov and Company Co-Founder Henk Rogers Celebrate Game’s 40th Anniversary at Lucca Comic and Games Convention\n",
      "\n",
      "\u001b[31m--- \n",
      "\u001b[0m+++ \n",
      "\u001b[0m@@ -1,15 +1,3 @@\n",
      "\u001b[0m+ . Despite the difference in their appearance, Pajitnov, pale with a white beard, and Rogers, tan with a colorful trilby, make a formidable team who overcame great odds to bring their puzzle game – in which players pair and eliminate a series of multicolored falling blocks – to the world in 1984\n",
      "\u001b[0m As “Tetris” celebrates 40 years of falling blocks at the Lucca Comic and Games convention in Italy, Variety sat down with its creator Alexey Pajitnov and the Tetris company’s co-founder Henk Rogers to discuss the beginnings of the most successful computer game in the world\n",
      "\u001b[31m- . Despite the difference in their appearance, Pajitnov, pale with a white beard, and Rogers, tan with a colorful trilby, make a formidable team who overcame great odds to bring their puzzle game – in which players pair and eliminate a series of multicolored falling blocks – to the world in 1984\n",
      "\u001b[0m  . Such were the adventures, there’s even an Apple+ film “Tetris,” starring Taron Egerton and directed by Jon Baird. Pajitnov smiles at the memory: “Noah Pink [the screenwriter] was very attentive to our notes, but it was still a long and difficult fight with them, because they desperately need all this Hollywoodish bullshit.”\n",
      "\u001b[31m- Rogers understands the compromises necessary: “Their job was to take a year and a half of our life and squeeze it into two hours. Unfortunately, we didn’t have any control on the shooting, because of COVID.”\n",
      "\u001b[31m- Popular on Variety\n",
      "\u001b[31m- “When we watched the movie, we were surprisingly pleased,” Pajitnov says. “We had low expectations. I’m pleased with the bad guys. They’re fictional though.”\n",
      "\u001b[31m- The very real-life British tycoon Robert Maxwell as Rogers’ main competitor also features along with Soviet premier Mikhail Gorbachev, as the licensing battles took place against the backdrop of the changing situation in the USSR. “I like the actor who plays me [Nikita Efremov],” Pajitnov adds. “He reminds me of myself young. It was a strange, out of body experience.”\n",
      "\u001b[31m- “I was there during the transition,” Rogers says. “We had a group of 100 graphic developers in Moscow working. I remember giving a speech. I said, this is not the end of the Soviet Union. This is the beginning of Russia. Everybody had hoped that it was going to be freedom. Then it slowly eroded back into what it is now.”\n",
      "\u001b[31m- The reason for “Tetris’” success is simple according to Rogers: “We broke through the female barrier. Before ‘Tetris,’ games were for guys, 95% guys, right? And ‘Tetris’ changed all that.”\n",
      "\u001b[31m- Rogers continues: “It’s an order out of chaos game and that is more the female side of us. Men are male and female. We are x and y. Women are x and x. We can do both construction and destruction. Women are construction and construction. That’s why the world is becoming a better place because of women.”\n",
      "\u001b[31m- Looking at the current gaming market, both men have their criticisms. For Rogers, an ex-publisher of games, it’s economics. “People don’t want to spend the amount of money to buy a cup of coffee for a game. It’s $3 and a cup of coffee gives you 20 minutes of satisfaction, a game will give you hours.”\n",
      "\u001b[31m- Talking about in-app purchases, Rogers continues the coffee comparison: “They give you this much coffee, and they ask for more money to put a little flavor into your coffee, or sugar. It’s such an annoying way of consuming something.”\n",
      "\u001b[31m- “I’m still in love with my puzzle part,” Pajitnov says, but he finds current programs too full of bugs. “They’ll release a game, online or mobile games, and get the public to debug it. Then the game fails because people get annoyed.” He concludes with a resigned laugh: “It’s the dialectic.”\n",
      "\u001b[31m- Rogers on the other hand is spending his energy now on combating climate change. “It’s called Blue Planet Alliance. We are basically putting Hawaii on a path to go 100% renewable energy. Fifteen other states copied us. It’s moving across the states. We’re bringing island countries to Hawaii to show them what we did and put them on track. Eventually, we’ll get all the countries in the world to have a mandate for 100% renewable energy by 2045, the 100th anniversary of the United Nations.”\n",
      "\u001b[31m- Rogers talks about his next endeavor with the confidence of a man who has solved puzzles before.\n"
     ]
    }
   ],
   "source": [
    "_ccf = C3F()\n",
    "_reference_text = sample_records.iloc[3]['title']\n",
    "_victim_corpus = content_corpuses[3]\n",
    "_filtered_corpus = _ccf.filtertext_approach_1(_reference_text, _victim_corpus, similarity_threshold=0)\n",
    "print()\n",
    "print(_reference_text)\n",
    "print()\n",
    "highlight_corpus_difference(_victim_corpus, _filtered_corpus)"
   ]
  },
  {
   "cell_type": "code",
   "execution_count": 27,
   "id": "kqZH",
   "metadata": {},
   "outputs": [
    {
     "name": "stdout",
     "output_type": "stream",
     "text": [
      "FAISS database deleted.\n",
      "FAISS database deleted.\n",
      "FAISS database deleted.\n",
      "\n",
      "‘Tetris’ Creator Alexey Pajitnov and Company Co-Founder Henk Rogers Celebrate Game’s 40th Anniversary at Lucca Comic and Games Convention\n",
      "\n",
      "\u001b[31m--- \n",
      "\u001b[0m+++ \n",
      "\u001b[0m@@ -1,15 +1,3 @@\n",
      "\u001b[0m+ . Despite the difference in their appearance, Pajitnov, pale with a white beard, and Rogers, tan with a colorful trilby, make a formidable team who overcame great odds to bring their puzzle game – in which players pair and eliminate a series of multicolored falling blocks – to the world in 1984\n",
      "\u001b[0m As “Tetris” celebrates 40 years of falling blocks at the Lucca Comic and Games convention in Italy, Variety sat down with its creator Alexey Pajitnov and the Tetris company’s co-founder Henk Rogers to discuss the beginnings of the most successful computer game in the world\n",
      "\u001b[0m  . Despite the difference in their appearance, Pajitnov, pale with a white beard, and Rogers, tan with a colorful trilby, make a formidable team who overcame great odds to bring their puzzle game – in which players pair and eliminate a series of multicolored falling blocks – to the world in 1984\n",
      "\u001b[31m- . Such were the adventures, there’s even an Apple+ film “Tetris,” starring Taron Egerton and directed by Jon Baird. Pajitnov smiles at the memory: “Noah Pink [the screenwriter] was very attentive to our notes, but it was still a long and difficult fight with them, because they desperately need all this Hollywoodish bullshit.”\n",
      "\u001b[31m- Rogers understands the compromises necessary: “Their job was to take a year and a half of our life and squeeze it into two hours. Unfortunately, we didn’t have any control on the shooting, because of COVID.”\n",
      "\u001b[31m- Popular on Variety\n",
      "\u001b[31m- “When we watched the movie, we were surprisingly pleased,” Pajitnov says. “We had low expectations. I’m pleased with the bad guys. They’re fictional though.”\n",
      "\u001b[31m- The very real-life British tycoon Robert Maxwell as Rogers’ main competitor also features along with Soviet premier Mikhail Gorbachev, as the licensing battles took place against the backdrop of the changing situation in the USSR. “I like the actor who plays me [Nikita Efremov],” Pajitnov adds. “He reminds me of myself young. It was a strange, out of body experience.”\n",
      "\u001b[31m- “I was there during the transition,” Rogers says. “We had a group of 100 graphic developers in Moscow working. I remember giving a speech. I said, this is not the end of the Soviet Union. This is the beginning of Russia. Everybody had hoped that it was going to be freedom. Then it slowly eroded back into what it is now.”\n",
      "\u001b[31m- The reason for “Tetris’” success is simple according to Rogers: “We broke through the female barrier. Before ‘Tetris,’ games were for guys, 95% guys, right? And ‘Tetris’ changed all that.”\n",
      "\u001b[31m- Rogers continues: “It’s an order out of chaos game and that is more the female side of us. Men are male and female. We are x and y. Women are x and x. We can do both construction and destruction. Women are construction and construction. That’s why the world is becoming a better place because of women.”\n",
      "\u001b[31m- Looking at the current gaming market, both men have their criticisms. For Rogers, an ex-publisher of games, it’s economics. “People don’t want to spend the amount of money to buy a cup of coffee for a game. It’s $3 and a cup of coffee gives you 20 minutes of satisfaction, a game will give you hours.”\n",
      "\u001b[31m- Talking about in-app purchases, Rogers continues the coffee comparison: “They give you this much coffee, and they ask for more money to put a little flavor into your coffee, or sugar. It’s such an annoying way of consuming something.”\n",
      "\u001b[31m- “I’m still in love with my puzzle part,” Pajitnov says, but he finds current programs too full of bugs. “They’ll release a game, online or mobile games, and get the public to debug it. Then the game fails because people get annoyed.” He concludes with a resigned laugh: “It’s the dialectic.”\n",
      "\u001b[31m- Rogers on the other hand is spending his energy now on combating climate change. “It’s called Blue Planet Alliance. We are basically putting Hawaii on a path to go 100% renewable energy. Fifteen other states copied us. It’s moving across the states. We’re bringing island countries to Hawaii to show them what we did and put them on track. Eventually, we’ll get all the countries in the world to have a mandate for 100% renewable energy by 2045, the 100th anniversary of the United Nations.”\n",
      "\u001b[31m- Rogers talks about his next endeavor with the confidence of a man who has solved puzzles before.\n"
     ]
    }
   ],
   "source": [
    "_ccf = C3F()\n",
    "_reference_text = sample_records.iloc[3]['title']\n",
    "_victim_corpus = content_corpuses[3]\n",
    "_filtered_corpus = _ccf.filtertext_approach_2(_reference_text, _victim_corpus, similarity_threshold=0)\n",
    "print()\n",
    "print(_reference_text)\n",
    "print()\n",
    "highlight_corpus_difference(_victim_corpus, _filtered_corpus)"
   ]
  },
  {
   "cell_type": "markdown",
   "id": "wAgl",
   "metadata": {
    "marimo": {
     "config": {
      "hide_code": true
     }
    }
   },
   "source": [
    "### Sample 5"
   ]
  },
  {
   "cell_type": "code",
   "execution_count": 28,
   "id": "rEll",
   "metadata": {},
   "outputs": [
    {
     "name": "stdout",
     "output_type": "stream",
     "text": [
      "\n",
      "Top pollster Nate Silver unveils his latest prediction for the 2024 presidential election\n",
      "\n",
      "\u001b[31m--- \n",
      "\u001b[0m+++ \n",
      "\u001b[0m@@ -1,30 +1,3 @@\n",
      "\u001b[0m+ . The polling guru gave former President Donald Trump a 51.5 percent chance to win the electoral college, while Vice President Kamala Harris walked away with a 48.1 percent chance of victory\n",
      "\u001b[0m Nate Silver has unveiled his latest prediction ahead of the presidential election - suggesting that the outcome will practically be a coin flip\n",
      "\u001b[31m- . The polling guru gave former President Donald Trump a 51.5 percent chance to win the electoral college, while Vice President Kamala Harris walked away with a 48.1 percent chance of victory\n",
      "\u001b[0m  . Silver, who left Five Thirty Eight in 2023 and took his forecasting model with him, made his latest prognostication on his Substack blog called the Silver Bulletin\n",
      "\u001b[31m- . He has Trump as the slight favorite, despite Harris being ahead in his aggregation of public polls by just under a percentage point\n",
      "\u001b[31m- . 'NYT swing state polls good for Harris but not great. Morning Consult swing state polls good for Trump but not great,' Silver wrote on X Sunday morning. 'It’s a pure toss-up.'\n",
      "\u001b[31m- Nate Silver believes the race between Donald Trump and Kamala Harris is 'a pure toss-up' based on the final polls before Election Day\n",
      "\u001b[31m- Silver was first referring to the final poll done by The New York Times that showed Trump running behind Harris in four critical swing states: Georgia, Nevada, North Carolina and Wisconsin\n",
      "\u001b[31m- . That poll also showed Trump with a lead in Arizona, while the two were tied in Michigan and Pennsylvania\n",
      "\u001b[31m- . The Morning Consult poll results, as Silver mentioned, were slightly kinder to Trump\n",
      "\u001b[31m- . He led Harris by two points in Georgia and in North Carolina. Morning Consult also found that three states were in a dead heat: Arizona, Pennsylvania and Wisconsin\n",
      "\u001b[31m- . Silver also said the bombshell poll from famed pollster Ann Selzer showing Harris beating Trump by three points in Iowa 'probably won’t matter' in determining the electoral college winner\n",
      "\u001b[31m- . But Silver wasn't too quick to dismiss the results as totally meaningless, saying Harris supporters were right to have a strong reaction\n",
      "\u001b[31m- . 'I think Harris voters are reasonable in rejoicing over the Selzer survey,' Silver wrote\n",
      "\u001b[31m- . Nate Silver, pictured, said Trump's momentum 'petered out' in November, bringing the race back to a coinflip\n",
      "\u001b[31m- 'At the very least, it clinches the case that there will be plenty of numbers from high-quality pollsters in the final batch of polls that support a Harris victory - along with roughly as many that imply a Trump win,' he continued\n",
      "\u001b[31m- . 'If Trump had \"momentum\" in October, it has now petered out in November. And we will very likely go into Tuesday night with the race being truly a toss-up, not leaning or tilting toward Trump.'\n",
      "\u001b[31m- Selzer has built a reputation as 'Iowa's Polling Queen' and the 'best pollster in politics' over decades of conducting the Des Moines Register polls\n",
      "\u001b[31m- . The ex-president tore into the survey calling Selzer a 'Trump hater' and insisting that Iowa's farmers 'love' him\n",
      "\u001b[31m- . 'All polls, except for one heavily skewed toward the Democrats by a Trump hater who called it totally wrong the last time, have me up, BY A LOT,' he scathed on Truth Social\n",
      "\u001b[31m- . Selzer took the time to explain herself on cable television this weekend\n",
      "\u001b[31m- . Ann Selzer has built a reputation as 'Iowa's Polling Queen' and the 'best pollster in politics' over decades of conducting the Des Moines Register polls\n",
      "\u001b[31m- Your browser does not support iframes\n",
      "\u001b[31m- . 'We don't have as much data as we might like about why this is happening,' she told MSNBC's 'The Weekend.'\n",
      "\u001b[31m- 'But our consensus from the reporters who work this beat is that the abortion ban went into effect this past summer... I think it has gotten people interested in voting.'\n",
      "\u001b[31m- Iowa hasn't voted for a Democrat in the presidential election since Barack Obama in 2012 and was written off by the Harris campaign as an easy GOP win\n",
      "\u001b[31m- . Like the polls, the betting markets have also tightened in recent days, largely thanks to that favorable Iowa poll for Harris\n",
      "\u001b[31m- . As recently as Halloween, around 60 percent of bettors on platforms such as Kalshi, Polymarket and Predictit, were convinced that Trump was going to win\n",
      "\u001b[31m- . Trump's odds now are no better than 54 percent across all three websites. In fact, Harris is the 56 to 48 percent favorite on Predictit\n",
      "\u001b[31m- . The final DailyMail.com/J.L. Partners national poll before Election Day showed Trump overtaking Harris by three percentage points nationally\n",
      "\u001b[31m- . The poll of 1,000 likely voters, which has a margin of error of plus or minus 3.1 percent, shows that Trump is trending up, with the support of 49 percent to Harris' 46 percent.\n"
     ]
    }
   ],
   "source": [
    "_ccf = C3F()\n",
    "_reference_text = sample_records.iloc[4]['title']\n",
    "_victim_corpus = content_corpuses[4]\n",
    "_filtered_corpus = _ccf.filtertext_approach_1(_reference_text, _victim_corpus, similarity_threshold=0)\n",
    "print()\n",
    "print(_reference_text)\n",
    "print()\n",
    "highlight_corpus_difference(_victim_corpus, _filtered_corpus)"
   ]
  },
  {
   "cell_type": "code",
   "execution_count": 29,
   "id": "dGlV",
   "metadata": {},
   "outputs": [
    {
     "name": "stdout",
     "output_type": "stream",
     "text": [
      "FAISS database deleted.\n",
      "FAISS database deleted.\n",
      "FAISS database deleted.\n",
      "\n",
      "Top pollster Nate Silver unveils his latest prediction for the 2024 presidential election\n",
      "\n",
      "\u001b[31m--- \n",
      "\u001b[0m+++ \n",
      "\u001b[0m@@ -1,30 +1,3 @@\n",
      "\u001b[0m+ . The polling guru gave former President Donald Trump a 51.5 percent chance to win the electoral college, while Vice President Kamala Harris walked away with a 48.1 percent chance of victory\n",
      "\u001b[0m Nate Silver has unveiled his latest prediction ahead of the presidential election - suggesting that the outcome will practically be a coin flip\n",
      "\u001b[0m  . The polling guru gave former President Donald Trump a 51.5 percent chance to win the electoral college, while Vice President Kamala Harris walked away with a 48.1 percent chance of victory\n",
      "\u001b[31m- . Silver, who left Five Thirty Eight in 2023 and took his forecasting model with him, made his latest prognostication on his Substack blog called the Silver Bulletin\n",
      "\u001b[31m- . He has Trump as the slight favorite, despite Harris being ahead in his aggregation of public polls by just under a percentage point\n",
      "\u001b[31m- . 'NYT swing state polls good for Harris but not great. Morning Consult swing state polls good for Trump but not great,' Silver wrote on X Sunday morning. 'It’s a pure toss-up.'\n",
      "\u001b[31m- Nate Silver believes the race between Donald Trump and Kamala Harris is 'a pure toss-up' based on the final polls before Election Day\n",
      "\u001b[31m- Silver was first referring to the final poll done by The New York Times that showed Trump running behind Harris in four critical swing states: Georgia, Nevada, North Carolina and Wisconsin\n",
      "\u001b[31m- . That poll also showed Trump with a lead in Arizona, while the two were tied in Michigan and Pennsylvania\n",
      "\u001b[31m- . The Morning Consult poll results, as Silver mentioned, were slightly kinder to Trump\n",
      "\u001b[31m- . He led Harris by two points in Georgia and in North Carolina. Morning Consult also found that three states were in a dead heat: Arizona, Pennsylvania and Wisconsin\n",
      "\u001b[31m- . Silver also said the bombshell poll from famed pollster Ann Selzer showing Harris beating Trump by three points in Iowa 'probably won’t matter' in determining the electoral college winner\n",
      "\u001b[31m- . But Silver wasn't too quick to dismiss the results as totally meaningless, saying Harris supporters were right to have a strong reaction\n",
      "\u001b[31m- . 'I think Harris voters are reasonable in rejoicing over the Selzer survey,' Silver wrote\n",
      "\u001b[31m- . Nate Silver, pictured, said Trump's momentum 'petered out' in November, bringing the race back to a coinflip\n",
      "\u001b[31m- 'At the very least, it clinches the case that there will be plenty of numbers from high-quality pollsters in the final batch of polls that support a Harris victory - along with roughly as many that imply a Trump win,' he continued\n",
      "\u001b[31m- . 'If Trump had \"momentum\" in October, it has now petered out in November. And we will very likely go into Tuesday night with the race being truly a toss-up, not leaning or tilting toward Trump.'\n",
      "\u001b[31m- Selzer has built a reputation as 'Iowa's Polling Queen' and the 'best pollster in politics' over decades of conducting the Des Moines Register polls\n",
      "\u001b[31m- . The ex-president tore into the survey calling Selzer a 'Trump hater' and insisting that Iowa's farmers 'love' him\n",
      "\u001b[31m- . 'All polls, except for one heavily skewed toward the Democrats by a Trump hater who called it totally wrong the last time, have me up, BY A LOT,' he scathed on Truth Social\n",
      "\u001b[31m- . Selzer took the time to explain herself on cable television this weekend\n",
      "\u001b[31m- . Ann Selzer has built a reputation as 'Iowa's Polling Queen' and the 'best pollster in politics' over decades of conducting the Des Moines Register polls\n",
      "\u001b[31m- Your browser does not support iframes\n",
      "\u001b[31m- . 'We don't have as much data as we might like about why this is happening,' she told MSNBC's 'The Weekend.'\n",
      "\u001b[31m- 'But our consensus from the reporters who work this beat is that the abortion ban went into effect this past summer... I think it has gotten people interested in voting.'\n",
      "\u001b[31m- Iowa hasn't voted for a Democrat in the presidential election since Barack Obama in 2012 and was written off by the Harris campaign as an easy GOP win\n",
      "\u001b[31m- . Like the polls, the betting markets have also tightened in recent days, largely thanks to that favorable Iowa poll for Harris\n",
      "\u001b[31m- . As recently as Halloween, around 60 percent of bettors on platforms such as Kalshi, Polymarket and Predictit, were convinced that Trump was going to win\n",
      "\u001b[31m- . Trump's odds now are no better than 54 percent across all three websites. In fact, Harris is the 56 to 48 percent favorite on Predictit\n",
      "\u001b[31m- . The final DailyMail.com/J.L. Partners national poll before Election Day showed Trump overtaking Harris by three percentage points nationally\n",
      "\u001b[31m- . The poll of 1,000 likely voters, which has a margin of error of plus or minus 3.1 percent, shows that Trump is trending up, with the support of 49 percent to Harris' 46 percent.\n"
     ]
    }
   ],
   "source": [
    "_ccf = C3F()\n",
    "_reference_text = sample_records.iloc[4]['title']\n",
    "_victim_corpus = content_corpuses[4]\n",
    "_filtered_corpus = _ccf.filtertext_approach_2(_reference_text, _victim_corpus, similarity_threshold=0)\n",
    "print()\n",
    "print(_reference_text)\n",
    "print()\n",
    "highlight_corpus_difference(_victim_corpus, _filtered_corpus)"
   ]
  },
  {
   "cell_type": "markdown",
   "id": "SdmI",
   "metadata": {
    "marimo": {
     "config": {
      "hide_code": true
     }
    }
   },
   "source": [
    "## Compute Performance Metrics"
   ]
  },
  {
   "cell_type": "markdown",
   "id": "lgWD",
   "metadata": {
    "marimo": {
     "config": {
      "hide_code": true
     }
    }
   },
   "source": [
    "Let's benchmark the performance of the methods"
   ]
  },
  {
   "cell_type": "code",
   "execution_count": 30,
   "id": "yOPj",
   "metadata": {},
   "outputs": [
    {
     "name": "stdout",
     "output_type": "stream",
     "text": [
      "FAISS database deleted.\n",
      "FAISS database deleted.\n",
      "FAISS database deleted.\n",
      "FAISS database deleted.\n",
      "FAISS database deleted.\n",
      "FAISS database deleted.\n",
      "FAISS database deleted.\n",
      "FAISS database deleted.\n",
      "FAISS database deleted.\n",
      "FAISS database deleted.\n",
      "FAISS database deleted.\n",
      "FAISS database deleted.\n",
      "FAISS database deleted.\n"
     ]
    },
    {
     "data": {
      "text/html": [
       "<div>\n",
       "<style scoped>\n",
       "    .dataframe tbody tr th:only-of-type {\n",
       "        vertical-align: middle;\n",
       "    }\n",
       "\n",
       "    .dataframe tbody tr th {\n",
       "        vertical-align: top;\n",
       "    }\n",
       "\n",
       "    .dataframe thead th {\n",
       "        text-align: right;\n",
       "    }\n",
       "</style>\n",
       "<table border=\"1\" class=\"dataframe\">\n",
       "  <thead>\n",
       "    <tr style=\"text-align: right;\">\n",
       "      <th></th>\n",
       "      <th>Sample ID</th>\n",
       "      <th>Approach 1 Time (s)</th>\n",
       "      <th>Approach 1 Memory (MB)</th>\n",
       "      <th>Approach 2 Time (s)</th>\n",
       "      <th>Approach 2 Memory (MB)</th>\n",
       "    </tr>\n",
       "  </thead>\n",
       "  <tbody>\n",
       "    <tr>\n",
       "      <th>0</th>\n",
       "      <td>84ee8d35-fc2d-42b9-8c0d-4ad0cc0b5f63</td>\n",
       "      <td>2.787833</td>\n",
       "      <td>1330.577408</td>\n",
       "      <td>5.442904</td>\n",
       "      <td>1389.125632</td>\n",
       "    </tr>\n",
       "    <tr>\n",
       "      <th>1</th>\n",
       "      <td>b4c9cc60-495b-4627-bdfe-0f0f6e040145</td>\n",
       "      <td>0.751745</td>\n",
       "      <td>1406.267392</td>\n",
       "      <td>0.702374</td>\n",
       "      <td>1476.624384</td>\n",
       "    </tr>\n",
       "    <tr>\n",
       "      <th>2</th>\n",
       "      <td>a76ef1a5-5386-4288-83f1-38b0c1fc0e3a</td>\n",
       "      <td>0.054075</td>\n",
       "      <td>1524.264960</td>\n",
       "      <td>0.068574</td>\n",
       "      <td>1515.667456</td>\n",
       "    </tr>\n",
       "    <tr>\n",
       "      <th>3</th>\n",
       "      <td>37b77b85-e37d-4319-9db4-43a2d13b5219</td>\n",
       "      <td>0.411305</td>\n",
       "      <td>1545.461760</td>\n",
       "      <td>0.427446</td>\n",
       "      <td>1645.903872</td>\n",
       "    </tr>\n",
       "    <tr>\n",
       "      <th>4</th>\n",
       "      <td>0521f886-a97f-4627-85c8-0fe6735b5844</td>\n",
       "      <td>0.304168</td>\n",
       "      <td>1651.273728</td>\n",
       "      <td>0.327019</td>\n",
       "      <td>1705.988096</td>\n",
       "    </tr>\n",
       "    <tr>\n",
       "      <th>5</th>\n",
       "      <td>Average</td>\n",
       "      <td>0.861825</td>\n",
       "      <td>1491.569050</td>\n",
       "      <td>1.393663</td>\n",
       "      <td>1546.661888</td>\n",
       "    </tr>\n",
       "  </tbody>\n",
       "</table>\n",
       "</div>"
      ],
      "text/plain": [
       "                              Sample ID  Approach 1 Time (s)  \\\n",
       "0  84ee8d35-fc2d-42b9-8c0d-4ad0cc0b5f63             2.787833   \n",
       "1  b4c9cc60-495b-4627-bdfe-0f0f6e040145             0.751745   \n",
       "2  a76ef1a5-5386-4288-83f1-38b0c1fc0e3a             0.054075   \n",
       "3  37b77b85-e37d-4319-9db4-43a2d13b5219             0.411305   \n",
       "4  0521f886-a97f-4627-85c8-0fe6735b5844             0.304168   \n",
       "5                               Average             0.861825   \n",
       "\n",
       "   Approach 1 Memory (MB)  Approach 2 Time (s)  Approach 2 Memory (MB)  \n",
       "0             1330.577408             5.442904             1389.125632  \n",
       "1             1406.267392             0.702374             1476.624384  \n",
       "2             1524.264960             0.068574             1515.667456  \n",
       "3             1545.461760             0.427446             1645.903872  \n",
       "4             1651.273728             0.327019             1705.988096  \n",
       "5             1491.569050             1.393663             1546.661888  "
      ]
     },
     "execution_count": 30,
     "metadata": {},
     "output_type": "execute_result"
    }
   ],
   "source": [
    "import time\n",
    "import psutil\n",
    "\n",
    "def get_memory_usage():\n",
    "    process = psutil.Process()\n",
    "    return process.memory_info().rss\n",
    "\n",
    "def get_time_taken(func, *args):\n",
    "    start_time = time.time()\n",
    "    func(*args)\n",
    "    return time.time() - start_time\n",
    "approach_1_time = []\n",
    "approach_1_memory = []\n",
    "approach_2_time = []\n",
    "approach_2_memory = []\n",
    "for i in range(5):\n",
    "    _reference_text = sample_records.iloc[i]['title']\n",
    "    _victim_corpus = content_corpuses[i]\n",
    "    _ccf = C3F()\n",
    "    approach_1_time.append(get_time_taken(_ccf.filtertext_approach_1, _reference_text, _victim_corpus, 0))\n",
    "    approach_1_memory.append(get_memory_usage())\n",
    "    _ccf = C3F()\n",
    "    approach_2_time.append(get_time_taken(_ccf.filtertext_approach_2, _reference_text, _victim_corpus, 0))\n",
    "    approach_2_memory.append(get_memory_usage())\n",
    "approach_1_time.append(np.mean(approach_1_time))\n",
    "approach_1_memory.append(np.mean(approach_1_memory))\n",
    "approach_2_time.append(np.mean(approach_2_time))\n",
    "approach_2_memory.append(np.mean(approach_2_memory))\n",
    "bench_df = pd.DataFrame({'Sample ID': sample_ids.tolist() + ['Average'], 'Approach 1 Time (s)': approach_1_time, 'Approach 1 Memory (MB)': [mem / 1000000.0 for mem in approach_1_memory], 'Approach 2 Time (s)': approach_2_time, 'Approach 2 Memory (MB)': [mem / 1000000.0 for mem in approach_2_memory]})\n",
    "bench_df"
   ]
  },
  {
   "cell_type": "markdown",
   "id": "fwwy",
   "metadata": {
    "marimo": {
     "config": {
      "hide_code": true
     }
    }
   },
   "source": [
    "By manual intervention, approach 2 seems to be the best in accuracy, but on time-wise & memory-wise, approach 1 shows better results. So, method 2 is the best for this problem, as there is no much loss of compute performance relative to approach 1."
   ]
  }
 ],
 "metadata": {
  "kernelspec": {
   "display_name": ".venv",
   "language": "python",
   "name": "python3"
  },
  "language_info": {
   "codemirror_mode": {
    "name": "ipython",
    "version": 3
   },
   "file_extension": ".py",
   "mimetype": "text/x-python",
   "name": "python",
   "nbconvert_exporter": "python",
   "pygments_lexer": "ipython3",
   "version": "3.12.7"
  }
 },
 "nbformat": 4,
 "nbformat_minor": 5
}
