{
 "cells": [
  {
   "cell_type": "markdown",
   "metadata": {},
   "source": [
    "# Prepare the data for analysis"
   ]
  },
  {
   "cell_type": "markdown",
   "metadata": {},
   "source": [
    "In this notebook, we'll be preparing the data by cleaning and performing possible common pre-processing steps for this dataset, so we don't need to do it in each analysis notebook."
   ]
  },
  {
   "cell_type": "markdown",
   "metadata": {},
   "source": [
    "This contains the following steps:\n",
    "1. Converting the `deltalake` **table** to a `pandas` **Dataframe** \n",
    "2. Basic inspection on the data\n",
    "3. Remove the duplicated articles\n",
    "    - Remove fully duplicated articles\n",
    "    - Remove duplicated articles based on their url\n",
    "    - Remove duplicated articles based on their title\n",
    "4. Resolve issues in data\n",
    "    - Replace the `source` field with the source name instead of the source class data from the extractor engine\n",
    "    - Migrate the `author` field to a list of authors\n",
    "    - Migrate the `images` field to a list of image urls\n",
    "    - Migrate the `tags` field to a list of tags\n",
    "5. Handle missing data\n",
    "    - Handle the 'NULL' tags in the cells\n",
    "    - Drop the rows with only null values\n",
    "6. Label few aggregation cases for testing aggregation approaches \n",
    "7. Cast the data to proper data types\n",
    "    - Cast the `publication_date` field to datetime type"
   ]
  },
  {
   "cell_type": "markdown",
   "metadata": {},
   "source": [
    "## Converting the `deltalake` **table** to a `pandas` **Dataframe**"
   ]
  },
  {
   "cell_type": "code",
   "execution_count": 1,
   "metadata": {},
   "outputs": [],
   "source": [
    "# Import the necessary libraries for this task\n",
    "import numpy as np\n",
    "import pandas as pd\n",
    "from deltalake import DeltaTable\n",
    "from tqdm import tqdm\n",
    "import pickle"
   ]
  },
  {
   "cell_type": "code",
   "execution_count": 2,
   "metadata": {},
   "outputs": [],
   "source": [
    "# Import the data (articles) from the data lake (deltalake) \n",
    "tbl = DeltaTable('./data/articles')"
   ]
  },
  {
   "cell_type": "code",
   "execution_count": 3,
   "metadata": {},
   "outputs": [],
   "source": [
    "# Convert the Deltalake table to a pandas Dataframe\n",
    "df = tbl.to_pandas()"
   ]
  },
  {
   "cell_type": "markdown",
   "metadata": {},
   "source": [
    "## Basic inspection on the data"
   ]
  },
  {
   "cell_type": "code",
   "execution_count": 11,
   "metadata": {},
   "outputs": [
    {
     "data": {
      "text/plain": [
       "Index(['id', 'title', 'author', 'publication_date', 'source', 'url', 'summary',\n",
       "       'content', 'tags', 'categories', 'images'],\n",
       "      dtype='object')"
      ]
     },
     "execution_count": 11,
     "metadata": {},
     "output_type": "execute_result"
    }
   ],
   "source": [
    "# Checking the columns of the dataset\n",
    "df.columns"
   ]
  },
  {
   "cell_type": "code",
   "execution_count": 12,
   "metadata": {},
   "outputs": [
    {
     "data": {
      "text/html": [
       "<div>\n",
       "<style scoped>\n",
       "    .dataframe tbody tr th:only-of-type {\n",
       "        vertical-align: middle;\n",
       "    }\n",
       "\n",
       "    .dataframe tbody tr th {\n",
       "        vertical-align: top;\n",
       "    }\n",
       "\n",
       "    .dataframe thead th {\n",
       "        text-align: right;\n",
       "    }\n",
       "</style>\n",
       "<table border=\"1\" class=\"dataframe\">\n",
       "  <thead>\n",
       "    <tr style=\"text-align: right;\">\n",
       "      <th></th>\n",
       "      <th>id</th>\n",
       "      <th>title</th>\n",
       "      <th>author</th>\n",
       "      <th>publication_date</th>\n",
       "      <th>source</th>\n",
       "      <th>url</th>\n",
       "      <th>summary</th>\n",
       "      <th>content</th>\n",
       "      <th>tags</th>\n",
       "      <th>categories</th>\n",
       "      <th>images</th>\n",
       "    </tr>\n",
       "  </thead>\n",
       "  <tbody>\n",
       "    <tr>\n",
       "      <th>0</th>\n",
       "      <td>672960439902a3465058b1f0</td>\n",
       "      <td>Datadog challenger Dash0 aims to dash observab...</td>\n",
       "      <td>Anna Heim ,Devin Coldewey ,Marina Temkin ,Maxw...</td>\n",
       "      <td>2024-11-04T00:00:00.000000</td>\n",
       "      <td>ArticleSource(id=ObjectId('6696759a347e0ad7140...</td>\n",
       "      <td>https://techcrunch.com/2024/11/04/datadog-chal...</td>\n",
       "      <td></td>\n",
       "      <td>The end of zero-interest rates has driven comp...</td>\n",
       "      <td>Fundraising ,Startups ,observability ,cloud co...</td>\n",
       "      <td>NULL</td>\n",
       "      <td>https://techcrunch.com/wp-content/uploads/2024...</td>\n",
       "    </tr>\n",
       "    <tr>\n",
       "      <th>1</th>\n",
       "      <td>67295ff69902a3465058b1ef</td>\n",
       "      <td>Karen tries to claim ownership of the place sh...</td>\n",
       "      <td>NULL</td>\n",
       "      <td>NULL</td>\n",
       "      <td>ArticleSource(id=ObjectId('6696759a347e0ad7140...</td>\n",
       "      <td>https://cheezburger.com/37613061/karen-tries-t...</td>\n",
       "      <td></td>\n",
       "      <td>Scroll down for the next article</td>\n",
       "      <td>entitled parents ,housing ,Random Memes ,Geek ...</td>\n",
       "      <td>NULL</td>\n",
       "      <td>https://i.chzbgr.com/full/10424000000/hAC1368F...</td>\n",
       "    </tr>\n",
       "    <tr>\n",
       "      <th>2</th>\n",
       "      <td>67295f349902a3465058b1ee</td>\n",
       "      <td>Elon Musk's ex Grimes takes swipe at Tesla bil...</td>\n",
       "      <td>Eve Buckland ,Eve Buckland For Dailymail.Com ,...</td>\n",
       "      <td>2024-11-04T21:53:57.000000+0000</td>\n",
       "      <td>ArticleSource(id=ObjectId('6696759a347e0ad7140...</td>\n",
       "      <td>https://www.dailymail.co.uk/tvshowbiz/article-...</td>\n",
       "      <td></td>\n",
       "      <td>Elon Musk's ex Grimes took a savage swipe at t...</td>\n",
       "      <td>NULL</td>\n",
       "      <td>NULL</td>\n",
       "      <td>https://i.dailymail.co.uk/1s/2024/11/03/05/916...</td>\n",
       "    </tr>\n",
       "    <tr>\n",
       "      <th>3</th>\n",
       "      <td>67295f059902a3465058b1ed</td>\n",
       "      <td>Kansas City Chiefs find success in bringing ba...</td>\n",
       "      <td>Adam Teicher ,Jenna Laine ,Todd Archer ,Kather...</td>\n",
       "      <td>NULL</td>\n",
       "      <td>ArticleSource(id=ObjectId('6696759a347e0ad7140...</td>\n",
       "      <td>https://www.espn.com/nfl/story/_/id/42171653/k...</td>\n",
       "      <td></td>\n",
       "      <td>Get ready for an electric Week 9 Monday Night ...</td>\n",
       "      <td>NULL</td>\n",
       "      <td>NULL</td>\n",
       "      <td>https://a2.espncdn.com/combiner/i?img=%2Fphoto...</td>\n",
       "    </tr>\n",
       "    <tr>\n",
       "      <th>4</th>\n",
       "      <td>67295dd59902a3465058b1ec</td>\n",
       "      <td>CMS’s Medical Debt Relief Will Worsen Medical ...</td>\n",
       "      <td>Ge Bai ,Ge Baicontributoropinions Expressed Fo...</td>\n",
       "      <td>2024-11-04T00:00:00.000000</td>\n",
       "      <td>ArticleSource(id=ObjectId('6696759a347e0ad7140...</td>\n",
       "      <td>https://www.forbes.com/sites/gebai/2024/11/04/...</td>\n",
       "      <td></td>\n",
       "      <td>Man collects money with magnet from human crow...</td>\n",
       "      <td>NULL</td>\n",
       "      <td>NULL</td>\n",
       "      <td>https://specials-images.forbesimg.com/imageser...</td>\n",
       "    </tr>\n",
       "  </tbody>\n",
       "</table>\n",
       "</div>"
      ],
      "text/plain": [
       "                         id  \\\n",
       "0  672960439902a3465058b1f0   \n",
       "1  67295ff69902a3465058b1ef   \n",
       "2  67295f349902a3465058b1ee   \n",
       "3  67295f059902a3465058b1ed   \n",
       "4  67295dd59902a3465058b1ec   \n",
       "\n",
       "                                               title  \\\n",
       "0  Datadog challenger Dash0 aims to dash observab...   \n",
       "1  Karen tries to claim ownership of the place sh...   \n",
       "2  Elon Musk's ex Grimes takes swipe at Tesla bil...   \n",
       "3  Kansas City Chiefs find success in bringing ba...   \n",
       "4  CMS’s Medical Debt Relief Will Worsen Medical ...   \n",
       "\n",
       "                                              author  \\\n",
       "0  Anna Heim ,Devin Coldewey ,Marina Temkin ,Maxw...   \n",
       "1                                               NULL   \n",
       "2  Eve Buckland ,Eve Buckland For Dailymail.Com ,...   \n",
       "3  Adam Teicher ,Jenna Laine ,Todd Archer ,Kather...   \n",
       "4  Ge Bai ,Ge Baicontributoropinions Expressed Fo...   \n",
       "\n",
       "                  publication_date  \\\n",
       "0       2024-11-04T00:00:00.000000   \n",
       "1                             NULL   \n",
       "2  2024-11-04T21:53:57.000000+0000   \n",
       "3                             NULL   \n",
       "4       2024-11-04T00:00:00.000000   \n",
       "\n",
       "                                              source  \\\n",
       "0  ArticleSource(id=ObjectId('6696759a347e0ad7140...   \n",
       "1  ArticleSource(id=ObjectId('6696759a347e0ad7140...   \n",
       "2  ArticleSource(id=ObjectId('6696759a347e0ad7140...   \n",
       "3  ArticleSource(id=ObjectId('6696759a347e0ad7140...   \n",
       "4  ArticleSource(id=ObjectId('6696759a347e0ad7140...   \n",
       "\n",
       "                                                 url summary  \\\n",
       "0  https://techcrunch.com/2024/11/04/datadog-chal...           \n",
       "1  https://cheezburger.com/37613061/karen-tries-t...           \n",
       "2  https://www.dailymail.co.uk/tvshowbiz/article-...           \n",
       "3  https://www.espn.com/nfl/story/_/id/42171653/k...           \n",
       "4  https://www.forbes.com/sites/gebai/2024/11/04/...           \n",
       "\n",
       "                                             content  \\\n",
       "0  The end of zero-interest rates has driven comp...   \n",
       "1                   Scroll down for the next article   \n",
       "2  Elon Musk's ex Grimes took a savage swipe at t...   \n",
       "3  Get ready for an electric Week 9 Monday Night ...   \n",
       "4  Man collects money with magnet from human crow...   \n",
       "\n",
       "                                                tags categories  \\\n",
       "0  Fundraising ,Startups ,observability ,cloud co...       NULL   \n",
       "1  entitled parents ,housing ,Random Memes ,Geek ...       NULL   \n",
       "2                                               NULL       NULL   \n",
       "3                                               NULL       NULL   \n",
       "4                                               NULL       NULL   \n",
       "\n",
       "                                              images  \n",
       "0  https://techcrunch.com/wp-content/uploads/2024...  \n",
       "1  https://i.chzbgr.com/full/10424000000/hAC1368F...  \n",
       "2  https://i.dailymail.co.uk/1s/2024/11/03/05/916...  \n",
       "3  https://a2.espncdn.com/combiner/i?img=%2Fphoto...  \n",
       "4  https://specials-images.forbesimg.com/imageser...  "
      ]
     },
     "execution_count": 12,
     "metadata": {},
     "output_type": "execute_result"
    }
   ],
   "source": [
    "# Inspecting the dataset (with the first 5 rows)\n",
    "df.head()"
   ]
  },
  {
   "cell_type": "markdown",
   "metadata": {},
   "source": [
    "## Remove the duplicated articles"
   ]
  },
  {
   "cell_type": "markdown",
   "metadata": {},
   "source": [
    "First, we'll remove the fully duplicated articles."
   ]
  },
  {
   "cell_type": "code",
   "execution_count": 13,
   "metadata": {},
   "outputs": [],
   "source": [
    "# Let's set the index of the dataset to the 'id' column\n",
    "df.set_index('id', inplace=True)"
   ]
  },
  {
   "cell_type": "code",
   "execution_count": 14,
   "metadata": {},
   "outputs": [
    {
     "data": {
      "text/plain": [
       "np.int64(120)"
      ]
     },
     "execution_count": 14,
     "metadata": {},
     "output_type": "execute_result"
    }
   ],
   "source": [
    "# Checking the number of fully duplicated rows in the dataset\n",
    "df.duplicated().sum()"
   ]
  },
  {
   "cell_type": "code",
   "execution_count": 15,
   "metadata": {},
   "outputs": [
    {
     "data": {
      "text/plain": [
       "title               5182\n",
       "author              4970\n",
       "publication_date    2526\n",
       "source              5182\n",
       "url                 5182\n",
       "summary             2200\n",
       "content             5182\n",
       "tags                2796\n",
       "categories          2200\n",
       "images              5182\n",
       "dtype: int64"
      ]
     },
     "execution_count": 15,
     "metadata": {},
     "output_type": "execute_result"
    }
   ],
   "source": [
    "# Checking the total number of rows in the dataset\n",
    "df.count()"
   ]
  },
  {
   "cell_type": "code",
   "execution_count": 16,
   "metadata": {},
   "outputs": [],
   "source": [
    "# Dropping the fully duplicated rows in the dataset\n",
    "df.drop_duplicates(keep='last', inplace=True)"
   ]
  },
  {
   "cell_type": "code",
   "execution_count": 17,
   "metadata": {},
   "outputs": [
    {
     "data": {
      "text/plain": [
       "title               5062\n",
       "author              4850\n",
       "publication_date    2406\n",
       "source              5062\n",
       "url                 5062\n",
       "summary             2080\n",
       "content             5062\n",
       "tags                2676\n",
       "categories          2080\n",
       "images              5062\n",
       "dtype: int64"
      ]
     },
     "execution_count": 17,
     "metadata": {},
     "output_type": "execute_result"
    }
   ],
   "source": [
    "# Verifying the number of rows in the dataset after dropping the duplicates\n",
    "df.count()"
   ]
  },
  {
   "cell_type": "markdown",
   "metadata": {},
   "source": [
    "Now, let's remove the duplicated articles based on their url."
   ]
  },
  {
   "cell_type": "code",
   "execution_count": 18,
   "metadata": {},
   "outputs": [
    {
     "data": {
      "text/plain": [
       "np.int64(2079)"
      ]
     },
     "execution_count": 18,
     "metadata": {},
     "output_type": "execute_result"
    }
   ],
   "source": [
    "# Checking the number of url duplicated rows in the dataset\n",
    "df.duplicated(subset=['url']).sum()"
   ]
  },
  {
   "cell_type": "code",
   "execution_count": 19,
   "metadata": {},
   "outputs": [],
   "source": [
    "# Dropping the url duplicated rows in the dataset\n",
    "df.drop_duplicates(subset=['url'], keep='last', inplace=True)"
   ]
  },
  {
   "cell_type": "code",
   "execution_count": 20,
   "metadata": {},
   "outputs": [
    {
     "data": {
      "text/plain": [
       "np.int64(0)"
      ]
     },
     "execution_count": 20,
     "metadata": {},
     "output_type": "execute_result"
    }
   ],
   "source": [
    "# Verifying the number of url duplicated rows in the dataset\n",
    "df.duplicated(subset=['url']).sum()"
   ]
  },
  {
   "cell_type": "markdown",
   "metadata": {},
   "source": [
    "Now, let's remove the duplicated articles based on their title."
   ]
  },
  {
   "cell_type": "code",
   "execution_count": 21,
   "metadata": {},
   "outputs": [
    {
     "data": {
      "text/plain": [
       "np.int64(6)"
      ]
     },
     "execution_count": 21,
     "metadata": {},
     "output_type": "execute_result"
    }
   ],
   "source": [
    "# Checking the number of title duplicated rows in the dataset\n",
    "df.duplicated(subset=['title']).sum()"
   ]
  },
  {
   "cell_type": "code",
   "execution_count": 22,
   "metadata": {},
   "outputs": [],
   "source": [
    "# Dropping the title duplicated rows in the dataset\n",
    "df.drop_duplicates(subset=['title'], keep='last', inplace=True)"
   ]
  },
  {
   "cell_type": "code",
   "execution_count": 23,
   "metadata": {},
   "outputs": [
    {
     "data": {
      "text/plain": [
       "np.int64(0)"
      ]
     },
     "execution_count": 23,
     "metadata": {},
     "output_type": "execute_result"
    }
   ],
   "source": [
    "# Verifying the number of title duplicated rows in the dataset\n",
    "df.duplicated(subset=['title']).sum()"
   ]
  },
  {
   "cell_type": "code",
   "execution_count": 24,
   "metadata": {},
   "outputs": [
    {
     "data": {
      "text/plain": [
       "title               2977\n",
       "author              2766\n",
       "publication_date     327\n",
       "source              2977\n",
       "url                 2977\n",
       "summary                2\n",
       "content             2977\n",
       "tags                 598\n",
       "categories             2\n",
       "images              2977\n",
       "dtype: int64"
      ]
     },
     "execution_count": 24,
     "metadata": {},
     "output_type": "execute_result"
    }
   ],
   "source": [
    "# Verifying the number of rows in the dataset after dropping all the duplicates\n",
    "df.count()"
   ]
  },
  {
   "cell_type": "markdown",
   "metadata": {},
   "source": [
    "## Resolve issues in data"
   ]
  },
  {
   "cell_type": "markdown",
   "metadata": {},
   "source": [
    "Now, let's replace the `source` field with the source name instead of the source class data from the extractor engine."
   ]
  },
  {
   "cell_type": "code",
   "execution_count": 25,
   "metadata": {},
   "outputs": [
    {
     "data": {
      "text/plain": [
       "\"ArticleSource(id=ObjectId('6696759a347e0ad714039d51'), name='Eater', domain='www.eater.com;nymag.com;austin.eater.com', rss_url='https://feeds.feedburner.com/EaterNational', categories=['Top Sources', 'Food'])\""
      ]
     },
     "execution_count": 25,
     "metadata": {},
     "output_type": "execute_result"
    }
   ],
   "source": [
    "# Checking a sample of the dataset\n",
    "df['source'].iloc[0]"
   ]
  },
  {
   "cell_type": "code",
   "execution_count": 26,
   "metadata": {},
   "outputs": [
    {
     "data": {
      "text/plain": [
       "'Eater'"
      ]
     },
     "execution_count": 26,
     "metadata": {},
     "output_type": "execute_result"
    }
   ],
   "source": [
    "# Building the logic to extract the source of the article\n",
    "df['source'].iloc[0].split(',')[1][7:-1]"
   ]
  },
  {
   "cell_type": "code",
   "execution_count": 27,
   "metadata": {},
   "outputs": [],
   "source": [
    "# Extracting the source of the article and reassiging it to the 'source' column\n",
    "df['source'] = df['source'].str.split(',').str[1].str[7:-1]"
   ]
  },
  {
   "cell_type": "code",
   "execution_count": 28,
   "metadata": {},
   "outputs": [
    {
     "data": {
      "text/plain": [
       "id\n",
       "6724ecf59aa896701328e146                        Eater\n",
       "6724d89e9aa896701328e0d6                       Forbes\n",
       "1fbdb59e-eb89-4ee7-8c93-4d604068110a       TechCrunch\n",
       "49f2bf37-4a71-467c-85a5-4096eb555245        FAIL Blog\n",
       "235e7b38-5484-4363-9ebd-81c58b96186f       Daily Mail\n",
       "                                            ...      \n",
       "e1419026-eb7a-491e-859b-a346a257aebc    Atlas Obscura\n",
       "18882704-7c38-4ac4-9067-2c3bd10aa9d8    Atlas Obscura\n",
       "e852098e-a512-48a2-881b-7abb6632bd9b    Atlas Obscura\n",
       "2991b1a0-f57b-4a03-b8aa-62ba7b675caa    Atlas Obscura\n",
       "d827b560-4bb8-474c-9509-34443c1ccb5c    Atlas Obscura\n",
       "Name: source, Length: 2977, dtype: object"
      ]
     },
     "execution_count": 28,
     "metadata": {},
     "output_type": "execute_result"
    }
   ],
   "source": [
    "# Verifying the changes in the 'source' column\n",
    "df['source']"
   ]
  },
  {
   "cell_type": "markdown",
   "metadata": {},
   "source": [
    "Let's migrate the `author` column from string to list of strings."
   ]
  },
  {
   "cell_type": "code",
   "execution_count": 29,
   "metadata": {},
   "outputs": [
    {
     "data": {
      "text/plain": [
       "'Mary Anne Porto'"
      ]
     },
     "execution_count": 29,
     "metadata": {},
     "output_type": "execute_result"
    }
   ],
   "source": [
    "# Check a sample of the 'author' column\n",
    "df['author'].iloc[0]"
   ]
  },
  {
   "cell_type": "code",
   "execution_count": 30,
   "metadata": {},
   "outputs": [
    {
     "data": {
      "text/plain": [
       "['Mary Anne Porto']"
      ]
     },
     "execution_count": 30,
     "metadata": {},
     "output_type": "execute_result"
    }
   ],
   "source": [
    "# Building the logic\n",
    "df['author'].iloc[0].split(' ,')"
   ]
  },
  {
   "cell_type": "code",
   "execution_count": 31,
   "metadata": {},
   "outputs": [],
   "source": [
    "# Extracting the author of the article and reassiging it to the 'author' column\n",
    "df['author'] = df['author'].str.split(' ,')"
   ]
  },
  {
   "cell_type": "code",
   "execution_count": 32,
   "metadata": {},
   "outputs": [
    {
     "data": {
      "text/plain": [
       "id\n",
       "6724ecf59aa896701328e146                                                [Mary Anne Porto]\n",
       "6724d89e9aa896701328e0d6                [Gary Shilling, Gary Shillingnewslettergary Sh...\n",
       "1fbdb59e-eb89-4ee7-8c93-4d604068110a    [Anna Heim, Devin Coldewey, Marina Temkin, Max...\n",
       "49f2bf37-4a71-467c-85a5-4096eb555245                                                  NaN\n",
       "235e7b38-5484-4363-9ebd-81c58b96186f    [Eve Buckland, Eve Buckland For Dailymail.Com,...\n",
       "                                                              ...                        \n",
       "e1419026-eb7a-491e-859b-a346a257aebc                                                  NaN\n",
       "18882704-7c38-4ac4-9067-2c3bd10aa9d8                                                  NaN\n",
       "e852098e-a512-48a2-881b-7abb6632bd9b                                      [Diana Hubbell]\n",
       "2991b1a0-f57b-4a03-b8aa-62ba7b675caa                                  [Tristan McConnell]\n",
       "d827b560-4bb8-474c-9509-34443c1ccb5c                                                  NaN\n",
       "Name: author, Length: 2977, dtype: object"
      ]
     },
     "execution_count": 32,
     "metadata": {},
     "output_type": "execute_result"
    }
   ],
   "source": [
    "# Verifying the changes in the 'author' column\n",
    "df['author']"
   ]
  },
  {
   "cell_type": "markdown",
   "metadata": {},
   "source": [
    "Let's migrate the `images` column from string to list of strings."
   ]
  },
  {
   "cell_type": "code",
   "execution_count": 33,
   "metadata": {},
   "outputs": [
    {
     "data": {
      "text/plain": [
       "'https://punchdrink.com/wp-content/uploads/2018/07/Social-Low-Proof-Negroni-Sherry-Cocktail-Recipe-Session-Cocktails-Book.jpg'"
      ]
     },
     "execution_count": 33,
     "metadata": {},
     "output_type": "execute_result"
    }
   ],
   "source": [
    "# Check a sample of the 'images' column\n",
    "df['images'].iloc[0]"
   ]
  },
  {
   "cell_type": "code",
   "execution_count": 34,
   "metadata": {},
   "outputs": [
    {
     "data": {
      "text/plain": [
       "['https://punchdrink.com/wp-content/uploads/2018/07/Social-Low-Proof-Negroni-Sherry-Cocktail-Recipe-Session-Cocktails-Book.jpg']"
      ]
     },
     "execution_count": 34,
     "metadata": {},
     "output_type": "execute_result"
    }
   ],
   "source": [
    "# Building the logic\n",
    "df['images'].iloc[0].split(' ,')"
   ]
  },
  {
   "cell_type": "code",
   "execution_count": 35,
   "metadata": {},
   "outputs": [],
   "source": [
    "# Extracting the images of the article and reassiging it to the 'images' column\n",
    "df['images'] = df['images'].str.split(' ,')"
   ]
  },
  {
   "cell_type": "code",
   "execution_count": 36,
   "metadata": {},
   "outputs": [
    {
     "data": {
      "text/plain": [
       "id\n",
       "6724ecf59aa896701328e146                [https://punchdrink.com/wp-content/uploads/201...\n",
       "6724d89e9aa896701328e0d6                [https://imageio.forbes.com/specials-images/im...\n",
       "1fbdb59e-eb89-4ee7-8c93-4d604068110a    [https://techcrunch.com/wp-content/uploads/202...\n",
       "49f2bf37-4a71-467c-85a5-4096eb555245    [https://i.chzbgr.com/full/10424000000/hAC1368...\n",
       "235e7b38-5484-4363-9ebd-81c58b96186f    [https://i.dailymail.co.uk/1s/2024/11/03/05/91...\n",
       "                                                              ...                        \n",
       "e1419026-eb7a-491e-859b-a346a257aebc    [https://assets.atlasobscura.com/assets/Gastro...\n",
       "18882704-7c38-4ac4-9067-2c3bd10aa9d8    [https://assets.atlasobscura.com/assets/Gastro...\n",
       "e852098e-a512-48a2-881b-7abb6632bd9b    [https://assets.atlasobscura.com/assets/Gastro...\n",
       "2991b1a0-f57b-4a03-b8aa-62ba7b675caa    [https://img.atlasobscura.com/ei4-MsZwKPbsqqZv...\n",
       "d827b560-4bb8-474c-9509-34443c1ccb5c    [https://assets.atlasobscura.com/assets/Gastro...\n",
       "Name: images, Length: 2977, dtype: object"
      ]
     },
     "execution_count": 36,
     "metadata": {},
     "output_type": "execute_result"
    }
   ],
   "source": [
    "# Verifying the changes in the 'images' column\n",
    "df['images']"
   ]
  },
  {
   "cell_type": "markdown",
   "metadata": {},
   "source": [
    "Let's migrate the `tags` column from string to list of strings."
   ]
  },
  {
   "cell_type": "code",
   "execution_count": 37,
   "metadata": {},
   "outputs": [
    {
     "data": {
      "text/plain": [
       "'Hack Your Drink ,The Ultimates ,Collections ,D List ,Master the Classics ,Recommendations'"
      ]
     },
     "execution_count": 37,
     "metadata": {},
     "output_type": "execute_result"
    }
   ],
   "source": [
    "# Check a sample of the 'tags' column\n",
    "df['tags'].iloc[0]"
   ]
  },
  {
   "cell_type": "code",
   "execution_count": 38,
   "metadata": {},
   "outputs": [
    {
     "data": {
      "text/plain": [
       "['Hack Your Drink',\n",
       " 'The Ultimates',\n",
       " 'Collections',\n",
       " 'D List',\n",
       " 'Master the Classics',\n",
       " 'Recommendations']"
      ]
     },
     "execution_count": 38,
     "metadata": {},
     "output_type": "execute_result"
    }
   ],
   "source": [
    "# Building the logic\n",
    "df['tags'].iloc[0].split(' ,')"
   ]
  },
  {
   "cell_type": "code",
   "execution_count": 39,
   "metadata": {},
   "outputs": [],
   "source": [
    "# Extracting the tags of the article and reassiging it to the 'tags' column\n",
    "df['tags'] = df['tags'].str.split(' ,')"
   ]
  },
  {
   "cell_type": "code",
   "execution_count": 40,
   "metadata": {},
   "outputs": [
    {
     "data": {
      "text/plain": [
       "id\n",
       "6724ecf59aa896701328e146                [Hack Your Drink, The Ultimates, Collections, ...\n",
       "6724d89e9aa896701328e0d6                                                           [NULL]\n",
       "1fbdb59e-eb89-4ee7-8c93-4d604068110a    [Fundraising, Startups, observability, cloud c...\n",
       "49f2bf37-4a71-467c-85a5-4096eb555245    [entitled parents, housing, Random Memes, Geek...\n",
       "235e7b38-5484-4363-9ebd-81c58b96186f                                                  NaN\n",
       "                                                              ...                        \n",
       "e1419026-eb7a-491e-859b-a346a257aebc                                                  NaN\n",
       "18882704-7c38-4ac4-9067-2c3bd10aa9d8                                                  NaN\n",
       "e852098e-a512-48a2-881b-7abb6632bd9b                                                  NaN\n",
       "2991b1a0-f57b-4a03-b8aa-62ba7b675caa                                                  NaN\n",
       "d827b560-4bb8-474c-9509-34443c1ccb5c                                                  NaN\n",
       "Name: tags, Length: 2977, dtype: object"
      ]
     },
     "execution_count": 40,
     "metadata": {},
     "output_type": "execute_result"
    }
   ],
   "source": [
    "# Verifying the changes in the 'tags' column\n",
    "df['tags']"
   ]
  },
  {
   "cell_type": "markdown",
   "metadata": {},
   "source": [
    "## Handle missing data"
   ]
  },
  {
   "cell_type": "markdown",
   "metadata": {},
   "source": [
    "Let's handle the 'NULL' tags in the cells."
   ]
  },
  {
   "cell_type": "code",
   "execution_count": 41,
   "metadata": {},
   "outputs": [],
   "source": [
    "# Replacing the 'NULL' and ['NULL'] values in the dataset with np.nan\n",
    "df[df=='NULL'] = np.nan\n",
    "df[df.isin([['NULL']])] = np.nan\n",
    "df[df.isin([\"NaT\"])] = np.nan"
   ]
  },
  {
   "cell_type": "code",
   "execution_count": 42,
   "metadata": {},
   "outputs": [
    {
     "data": {
      "text/html": [
       "<div>\n",
       "<style scoped>\n",
       "    .dataframe tbody tr th:only-of-type {\n",
       "        vertical-align: middle;\n",
       "    }\n",
       "\n",
       "    .dataframe tbody tr th {\n",
       "        vertical-align: top;\n",
       "    }\n",
       "\n",
       "    .dataframe thead th {\n",
       "        text-align: right;\n",
       "    }\n",
       "</style>\n",
       "<table border=\"1\" class=\"dataframe\">\n",
       "  <thead>\n",
       "    <tr style=\"text-align: right;\">\n",
       "      <th></th>\n",
       "      <th>title</th>\n",
       "      <th>author</th>\n",
       "      <th>publication_date</th>\n",
       "      <th>source</th>\n",
       "      <th>url</th>\n",
       "      <th>summary</th>\n",
       "      <th>content</th>\n",
       "      <th>tags</th>\n",
       "      <th>categories</th>\n",
       "      <th>images</th>\n",
       "    </tr>\n",
       "    <tr>\n",
       "      <th>id</th>\n",
       "      <th></th>\n",
       "      <th></th>\n",
       "      <th></th>\n",
       "      <th></th>\n",
       "      <th></th>\n",
       "      <th></th>\n",
       "      <th></th>\n",
       "      <th></th>\n",
       "      <th></th>\n",
       "      <th></th>\n",
       "    </tr>\n",
       "  </thead>\n",
       "  <tbody>\n",
       "    <tr>\n",
       "      <th>6724ecf59aa896701328e146</th>\n",
       "      <td>The 15 Best Cocktails to Make This Holiday Season</td>\n",
       "      <td>[Mary Anne Porto]</td>\n",
       "      <td>2024-11-01T09:00:48.000000</td>\n",
       "      <td>Eater</td>\n",
       "      <td>https://punchdrink.com/articles/best-holiday-f...</td>\n",
       "      <td></td>\n",
       "      <td></td>\n",
       "      <td>[Hack Your Drink, The Ultimates, Collections, ...</td>\n",
       "      <td>NaN</td>\n",
       "      <td>[https://punchdrink.com/wp-content/uploads/201...</td>\n",
       "    </tr>\n",
       "    <tr>\n",
       "      <th>6724d89e9aa896701328e0d6</th>\n",
       "      <td>Softer U.S. Economic Growth Ahead</td>\n",
       "      <td>[Gary Shilling, Gary Shillingnewslettergary Sh...</td>\n",
       "      <td>2024-11-01T00:00:00.000000</td>\n",
       "      <td>Forbes</td>\n",
       "      <td>https://www.forbes.com/newsletters/gary-shilli...</td>\n",
       "      <td></td>\n",
       "      <td></td>\n",
       "      <td>NaN</td>\n",
       "      <td>NaN</td>\n",
       "      <td>[https://imageio.forbes.com/specials-images/im...</td>\n",
       "    </tr>\n",
       "    <tr>\n",
       "      <th>1fbdb59e-eb89-4ee7-8c93-4d604068110a</th>\n",
       "      <td>Datadog challenger Dash0 aims to dash observab...</td>\n",
       "      <td>[Anna Heim, Devin Coldewey, Marina Temkin, Max...</td>\n",
       "      <td>2024-11-04 00:00:00</td>\n",
       "      <td>TechCrunch</td>\n",
       "      <td>https://techcrunch.com/2024/11/04/datadog-chal...</td>\n",
       "      <td>NaN</td>\n",
       "      <td>The end of zero-interest rates has driven comp...</td>\n",
       "      <td>[Fundraising, Startups, observability, cloud c...</td>\n",
       "      <td>NaN</td>\n",
       "      <td>[https://techcrunch.com/wp-content/uploads/202...</td>\n",
       "    </tr>\n",
       "    <tr>\n",
       "      <th>49f2bf37-4a71-467c-85a5-4096eb555245</th>\n",
       "      <td>Karen tries to claim ownership of the place sh...</td>\n",
       "      <td>NaN</td>\n",
       "      <td>NaN</td>\n",
       "      <td>FAIL Blog</td>\n",
       "      <td>https://cheezburger.com/37613061/karen-tries-t...</td>\n",
       "      <td>NaN</td>\n",
       "      <td>Scroll down for the next article</td>\n",
       "      <td>[entitled parents, housing, Random Memes, Geek...</td>\n",
       "      <td>NaN</td>\n",
       "      <td>[https://i.chzbgr.com/full/10424000000/hAC1368...</td>\n",
       "    </tr>\n",
       "    <tr>\n",
       "      <th>235e7b38-5484-4363-9ebd-81c58b96186f</th>\n",
       "      <td>Elon Musk's ex Grimes takes swipe at Tesla bil...</td>\n",
       "      <td>[Eve Buckland, Eve Buckland For Dailymail.Com,...</td>\n",
       "      <td>NaN</td>\n",
       "      <td>Daily Mail</td>\n",
       "      <td>https://www.dailymail.co.uk/tvshowbiz/article-...</td>\n",
       "      <td>NaN</td>\n",
       "      <td>Elon Musk's ex Grimes took a savage swipe at t...</td>\n",
       "      <td>NaN</td>\n",
       "      <td>NaN</td>\n",
       "      <td>[https://i.dailymail.co.uk/1s/2024/11/03/05/91...</td>\n",
       "    </tr>\n",
       "  </tbody>\n",
       "</table>\n",
       "</div>"
      ],
      "text/plain": [
       "                                                                                  title  \\\n",
       "id                                                                                        \n",
       "6724ecf59aa896701328e146              The 15 Best Cocktails to Make This Holiday Season   \n",
       "6724d89e9aa896701328e0d6                              Softer U.S. Economic Growth Ahead   \n",
       "1fbdb59e-eb89-4ee7-8c93-4d604068110a  Datadog challenger Dash0 aims to dash observab...   \n",
       "49f2bf37-4a71-467c-85a5-4096eb555245  Karen tries to claim ownership of the place sh...   \n",
       "235e7b38-5484-4363-9ebd-81c58b96186f  Elon Musk's ex Grimes takes swipe at Tesla bil...   \n",
       "\n",
       "                                                                                 author  \\\n",
       "id                                                                                        \n",
       "6724ecf59aa896701328e146                                              [Mary Anne Porto]   \n",
       "6724d89e9aa896701328e0d6              [Gary Shilling, Gary Shillingnewslettergary Sh...   \n",
       "1fbdb59e-eb89-4ee7-8c93-4d604068110a  [Anna Heim, Devin Coldewey, Marina Temkin, Max...   \n",
       "49f2bf37-4a71-467c-85a5-4096eb555245                                                NaN   \n",
       "235e7b38-5484-4363-9ebd-81c58b96186f  [Eve Buckland, Eve Buckland For Dailymail.Com,...   \n",
       "\n",
       "                                                publication_date      source  \\\n",
       "id                                                                             \n",
       "6724ecf59aa896701328e146              2024-11-01T09:00:48.000000       Eater   \n",
       "6724d89e9aa896701328e0d6              2024-11-01T00:00:00.000000      Forbes   \n",
       "1fbdb59e-eb89-4ee7-8c93-4d604068110a         2024-11-04 00:00:00  TechCrunch   \n",
       "49f2bf37-4a71-467c-85a5-4096eb555245                         NaN   FAIL Blog   \n",
       "235e7b38-5484-4363-9ebd-81c58b96186f                         NaN  Daily Mail   \n",
       "\n",
       "                                                                                    url  \\\n",
       "id                                                                                        \n",
       "6724ecf59aa896701328e146              https://punchdrink.com/articles/best-holiday-f...   \n",
       "6724d89e9aa896701328e0d6              https://www.forbes.com/newsletters/gary-shilli...   \n",
       "1fbdb59e-eb89-4ee7-8c93-4d604068110a  https://techcrunch.com/2024/11/04/datadog-chal...   \n",
       "49f2bf37-4a71-467c-85a5-4096eb555245  https://cheezburger.com/37613061/karen-tries-t...   \n",
       "235e7b38-5484-4363-9ebd-81c58b96186f  https://www.dailymail.co.uk/tvshowbiz/article-...   \n",
       "\n",
       "                                     summary  \\\n",
       "id                                             \n",
       "6724ecf59aa896701328e146                       \n",
       "6724d89e9aa896701328e0d6                       \n",
       "1fbdb59e-eb89-4ee7-8c93-4d604068110a     NaN   \n",
       "49f2bf37-4a71-467c-85a5-4096eb555245     NaN   \n",
       "235e7b38-5484-4363-9ebd-81c58b96186f     NaN   \n",
       "\n",
       "                                                                                content  \\\n",
       "id                                                                                        \n",
       "6724ecf59aa896701328e146                                                                  \n",
       "6724d89e9aa896701328e0d6                                                                  \n",
       "1fbdb59e-eb89-4ee7-8c93-4d604068110a  The end of zero-interest rates has driven comp...   \n",
       "49f2bf37-4a71-467c-85a5-4096eb555245                   Scroll down for the next article   \n",
       "235e7b38-5484-4363-9ebd-81c58b96186f  Elon Musk's ex Grimes took a savage swipe at t...   \n",
       "\n",
       "                                                                                   tags  \\\n",
       "id                                                                                        \n",
       "6724ecf59aa896701328e146              [Hack Your Drink, The Ultimates, Collections, ...   \n",
       "6724d89e9aa896701328e0d6                                                            NaN   \n",
       "1fbdb59e-eb89-4ee7-8c93-4d604068110a  [Fundraising, Startups, observability, cloud c...   \n",
       "49f2bf37-4a71-467c-85a5-4096eb555245  [entitled parents, housing, Random Memes, Geek...   \n",
       "235e7b38-5484-4363-9ebd-81c58b96186f                                                NaN   \n",
       "\n",
       "                                     categories  \\\n",
       "id                                                \n",
       "6724ecf59aa896701328e146                    NaN   \n",
       "6724d89e9aa896701328e0d6                    NaN   \n",
       "1fbdb59e-eb89-4ee7-8c93-4d604068110a        NaN   \n",
       "49f2bf37-4a71-467c-85a5-4096eb555245        NaN   \n",
       "235e7b38-5484-4363-9ebd-81c58b96186f        NaN   \n",
       "\n",
       "                                                                                 images  \n",
       "id                                                                                       \n",
       "6724ecf59aa896701328e146              [https://punchdrink.com/wp-content/uploads/201...  \n",
       "6724d89e9aa896701328e0d6              [https://imageio.forbes.com/specials-images/im...  \n",
       "1fbdb59e-eb89-4ee7-8c93-4d604068110a  [https://techcrunch.com/wp-content/uploads/202...  \n",
       "49f2bf37-4a71-467c-85a5-4096eb555245  [https://i.chzbgr.com/full/10424000000/hAC1368...  \n",
       "235e7b38-5484-4363-9ebd-81c58b96186f  [https://i.dailymail.co.uk/1s/2024/11/03/05/91...  "
      ]
     },
     "execution_count": 42,
     "metadata": {},
     "output_type": "execute_result"
    }
   ],
   "source": [
    "# Verifying the changes in the dataset\n",
    "df.head()"
   ]
  },
  {
   "cell_type": "markdown",
   "metadata": {},
   "source": [
    "Let's drop the columns with all null values"
   ]
  },
  {
   "cell_type": "code",
   "execution_count": 43,
   "metadata": {},
   "outputs": [
    {
     "data": {
      "text/plain": [
       "title                  0\n",
       "author               211\n",
       "publication_date    2650\n",
       "source                 0\n",
       "url                    0\n",
       "summary             2975\n",
       "content                0\n",
       "tags                2380\n",
       "categories          2977\n",
       "images                 0\n",
       "dtype: int64"
      ]
     },
     "execution_count": 43,
     "metadata": {},
     "output_type": "execute_result"
    }
   ],
   "source": [
    "df.isnull().sum()"
   ]
  },
  {
   "cell_type": "code",
   "execution_count": 44,
   "metadata": {},
   "outputs": [],
   "source": [
    "# The `categories` column needs to be dropped as it contains only null values\n",
    "df.drop(columns=['categories'], inplace=True)"
   ]
  },
  {
   "cell_type": "markdown",
   "metadata": {},
   "source": [
    "## Cast the data to proper data types"
   ]
  },
  {
   "cell_type": "code",
   "execution_count": 45,
   "metadata": {},
   "outputs": [
    {
     "data": {
      "text/plain": [
       "title               object\n",
       "author              object\n",
       "publication_date    object\n",
       "source              object\n",
       "url                 object\n",
       "summary             object\n",
       "content             object\n",
       "tags                object\n",
       "images              object\n",
       "dtype: object"
      ]
     },
     "execution_count": 45,
     "metadata": {},
     "output_type": "execute_result"
    }
   ],
   "source": [
    "# Checking the data types of all the columns\n",
    "df.dtypes"
   ]
  },
  {
   "cell_type": "markdown",
   "metadata": {},
   "source": [
    "Setting datetime format for publication_date"
   ]
  },
  {
   "cell_type": "code",
   "execution_count": 46,
   "metadata": {},
   "outputs": [],
   "source": [
    "# Changing the 'publication_date' column to datetime format\n",
    "df['publication_date'] = pd.to_datetime(df['publication_date'], errors='coerce')"
   ]
  },
  {
   "cell_type": "markdown",
   "metadata": {},
   "source": [
    "## Label few aggregation cases for testing aggregation approaches"
   ]
  },
  {
   "cell_type": "code",
   "execution_count": 47,
   "metadata": {},
   "outputs": [],
   "source": [
    "df['event_id'] = np.nan"
   ]
  },
  {
   "cell_type": "markdown",
   "metadata": {},
   "source": [
    "### Case 1"
   ]
  },
  {
   "cell_type": "code",
   "execution_count": 48,
   "metadata": {},
   "outputs": [
    {
     "data": {
      "text/plain": [
       "title               Judge declines to block Musk’s $1 million vote...\n",
       "author              [Lauren Feiner, A Senior Policy Reporter At Th...\n",
       "publication_date                                                  NaT\n",
       "source                                                      The Verge\n",
       "url                 https://www.theverge.com/2024/11/4/24288183/mu...\n",
       "summary                                                           NaN\n",
       "content             Elon Musk’s America PAC can move forward with ...\n",
       "tags                                                              NaN\n",
       "images              [https://cdn.vox-cdn.com/thumbor/rodkS6uNARTTL...\n",
       "event_id                                                          NaN\n",
       "Name: 953d844e-858d-4f06-a664-5a74e77e2766, dtype: object"
      ]
     },
     "execution_count": 48,
     "metadata": {},
     "output_type": "execute_result"
    }
   ],
   "source": [
    "# Select random article from the dataset\n",
    "df.loc['953d844e-858d-4f06-a664-5a74e77e2766']"
   ]
  },
  {
   "cell_type": "code",
   "execution_count": 49,
   "metadata": {},
   "outputs": [
    {
     "data": {
      "text/html": [
       "<div>\n",
       "<style scoped>\n",
       "    .dataframe tbody tr th:only-of-type {\n",
       "        vertical-align: middle;\n",
       "    }\n",
       "\n",
       "    .dataframe tbody tr th {\n",
       "        vertical-align: top;\n",
       "    }\n",
       "\n",
       "    .dataframe thead th {\n",
       "        text-align: right;\n",
       "    }\n",
       "</style>\n",
       "<table border=\"1\" class=\"dataframe\">\n",
       "  <thead>\n",
       "    <tr style=\"text-align: right;\">\n",
       "      <th></th>\n",
       "      <th>title</th>\n",
       "      <th>author</th>\n",
       "      <th>publication_date</th>\n",
       "      <th>source</th>\n",
       "      <th>url</th>\n",
       "      <th>summary</th>\n",
       "      <th>content</th>\n",
       "      <th>tags</th>\n",
       "      <th>images</th>\n",
       "      <th>event_id</th>\n",
       "      <th>keyword_count</th>\n",
       "    </tr>\n",
       "    <tr>\n",
       "      <th>id</th>\n",
       "      <th></th>\n",
       "      <th></th>\n",
       "      <th></th>\n",
       "      <th></th>\n",
       "      <th></th>\n",
       "      <th></th>\n",
       "      <th></th>\n",
       "      <th></th>\n",
       "      <th></th>\n",
       "      <th></th>\n",
       "      <th></th>\n",
       "    </tr>\n",
       "  </thead>\n",
       "  <tbody>\n",
       "    <tr>\n",
       "      <th>b87065f4-5db8-4fde-8371-93fbec783f10</th>\n",
       "      <td>Judge denies Philadelphia DA's request to bloc...</td>\n",
       "      <td>[Abc News]</td>\n",
       "      <td>NaT</td>\n",
       "      <td>ABC News</td>\n",
       "      <td>https://abcnews.go.com/Politics/elon-musk-pac-...</td>\n",
       "      <td>NaN</td>\n",
       "      <td>A Philadelphia judge is allowing Elon Musk’s A...</td>\n",
       "      <td>NaN</td>\n",
       "      <td>[https://i.abcnewsfe.com/a/a150a26a-eef0-4ebb-...</td>\n",
       "      <td>NaN</td>\n",
       "      <td>5</td>\n",
       "    </tr>\n",
       "    <tr>\n",
       "      <th>953d844e-858d-4f06-a664-5a74e77e2766</th>\n",
       "      <td>Judge declines to block Musk’s $1 million vote...</td>\n",
       "      <td>[Lauren Feiner, A Senior Policy Reporter At Th...</td>\n",
       "      <td>NaT</td>\n",
       "      <td>The Verge</td>\n",
       "      <td>https://www.theverge.com/2024/11/4/24288183/mu...</td>\n",
       "      <td>NaN</td>\n",
       "      <td>Elon Musk’s America PAC can move forward with ...</td>\n",
       "      <td>NaN</td>\n",
       "      <td>[https://cdn.vox-cdn.com/thumbor/rodkS6uNARTTL...</td>\n",
       "      <td>NaN</td>\n",
       "      <td>5</td>\n",
       "    </tr>\n",
       "    <tr>\n",
       "      <th>75e5337b-5962-45eb-9acd-45788497bf4d</th>\n",
       "      <td>Pennsylvania judge allows Elon Musk's PAC to c...</td>\n",
       "      <td>[Andrea Margolis, Fox News, Andrea Margolis Is...</td>\n",
       "      <td>NaT</td>\n",
       "      <td>FOX News</td>\n",
       "      <td>https://www.foxnews.com/politics/pennsylvania-...</td>\n",
       "      <td>NaN</td>\n",
       "      <td>A Pennsylvania judge is allowing Elon Musk's A...</td>\n",
       "      <td>NaN</td>\n",
       "      <td>[https://a57.foxnews.com/static.foxnews.com/fo...</td>\n",
       "      <td>NaN</td>\n",
       "      <td>3</td>\n",
       "    </tr>\n",
       "    <tr>\n",
       "      <th>8d95247d-3f55-46e8-8fc5-42604d50df70</th>\n",
       "      <td>Elon Musk says he’s giving away $1 million a d...</td>\n",
       "      <td>[Ellen Ioanes]</td>\n",
       "      <td>NaT</td>\n",
       "      <td>Vox</td>\n",
       "      <td>https://www.vox.com/politics/378912/musk-trump...</td>\n",
       "      <td>NaN</td>\n",
       "      <td>covers breaking and general assignment news as...</td>\n",
       "      <td>NaN</td>\n",
       "      <td>[https://platform.vox.com/wp-content/uploads/s...</td>\n",
       "      <td>NaN</td>\n",
       "      <td>2</td>\n",
       "    </tr>\n",
       "    <tr>\n",
       "      <th>f419c1d8-3062-4c0f-a42d-729f6020966d</th>\n",
       "      <td>Elon Musk’s PAC admits $1 million voter giveaw...</td>\n",
       "      <td>[Gadel Valle, A Policy Reporter. Her Past Work...</td>\n",
       "      <td>NaT</td>\n",
       "      <td>The Verge</td>\n",
       "      <td>https://www.theverge.com/2024/11/4/24287952/el...</td>\n",
       "      <td>NaN</td>\n",
       "      <td>A representative of Elon Musk’s America PAC sa...</td>\n",
       "      <td>NaN</td>\n",
       "      <td>[https://duet-cdn.vox-cdn.com/thumbor/0x0:2040...</td>\n",
       "      <td>NaN</td>\n",
       "      <td>2</td>\n",
       "    </tr>\n",
       "  </tbody>\n",
       "</table>\n",
       "</div>"
      ],
      "text/plain": [
       "                                                                                  title  \\\n",
       "id                                                                                        \n",
       "b87065f4-5db8-4fde-8371-93fbec783f10  Judge denies Philadelphia DA's request to bloc...   \n",
       "953d844e-858d-4f06-a664-5a74e77e2766  Judge declines to block Musk’s $1 million vote...   \n",
       "75e5337b-5962-45eb-9acd-45788497bf4d  Pennsylvania judge allows Elon Musk's PAC to c...   \n",
       "8d95247d-3f55-46e8-8fc5-42604d50df70  Elon Musk says he’s giving away $1 million a d...   \n",
       "f419c1d8-3062-4c0f-a42d-729f6020966d  Elon Musk’s PAC admits $1 million voter giveaw...   \n",
       "\n",
       "                                                                                 author  \\\n",
       "id                                                                                        \n",
       "b87065f4-5db8-4fde-8371-93fbec783f10                                         [Abc News]   \n",
       "953d844e-858d-4f06-a664-5a74e77e2766  [Lauren Feiner, A Senior Policy Reporter At Th...   \n",
       "75e5337b-5962-45eb-9acd-45788497bf4d  [Andrea Margolis, Fox News, Andrea Margolis Is...   \n",
       "8d95247d-3f55-46e8-8fc5-42604d50df70                                     [Ellen Ioanes]   \n",
       "f419c1d8-3062-4c0f-a42d-729f6020966d  [Gadel Valle, A Policy Reporter. Her Past Work...   \n",
       "\n",
       "                                     publication_date     source  \\\n",
       "id                                                                 \n",
       "b87065f4-5db8-4fde-8371-93fbec783f10              NaT   ABC News   \n",
       "953d844e-858d-4f06-a664-5a74e77e2766              NaT  The Verge   \n",
       "75e5337b-5962-45eb-9acd-45788497bf4d              NaT   FOX News   \n",
       "8d95247d-3f55-46e8-8fc5-42604d50df70              NaT        Vox   \n",
       "f419c1d8-3062-4c0f-a42d-729f6020966d              NaT  The Verge   \n",
       "\n",
       "                                                                                    url  \\\n",
       "id                                                                                        \n",
       "b87065f4-5db8-4fde-8371-93fbec783f10  https://abcnews.go.com/Politics/elon-musk-pac-...   \n",
       "953d844e-858d-4f06-a664-5a74e77e2766  https://www.theverge.com/2024/11/4/24288183/mu...   \n",
       "75e5337b-5962-45eb-9acd-45788497bf4d  https://www.foxnews.com/politics/pennsylvania-...   \n",
       "8d95247d-3f55-46e8-8fc5-42604d50df70  https://www.vox.com/politics/378912/musk-trump...   \n",
       "f419c1d8-3062-4c0f-a42d-729f6020966d  https://www.theverge.com/2024/11/4/24287952/el...   \n",
       "\n",
       "                                     summary  \\\n",
       "id                                             \n",
       "b87065f4-5db8-4fde-8371-93fbec783f10     NaN   \n",
       "953d844e-858d-4f06-a664-5a74e77e2766     NaN   \n",
       "75e5337b-5962-45eb-9acd-45788497bf4d     NaN   \n",
       "8d95247d-3f55-46e8-8fc5-42604d50df70     NaN   \n",
       "f419c1d8-3062-4c0f-a42d-729f6020966d     NaN   \n",
       "\n",
       "                                                                                content  \\\n",
       "id                                                                                        \n",
       "b87065f4-5db8-4fde-8371-93fbec783f10  A Philadelphia judge is allowing Elon Musk’s A...   \n",
       "953d844e-858d-4f06-a664-5a74e77e2766  Elon Musk’s America PAC can move forward with ...   \n",
       "75e5337b-5962-45eb-9acd-45788497bf4d  A Pennsylvania judge is allowing Elon Musk's A...   \n",
       "8d95247d-3f55-46e8-8fc5-42604d50df70  covers breaking and general assignment news as...   \n",
       "f419c1d8-3062-4c0f-a42d-729f6020966d  A representative of Elon Musk’s America PAC sa...   \n",
       "\n",
       "                                     tags  \\\n",
       "id                                          \n",
       "b87065f4-5db8-4fde-8371-93fbec783f10  NaN   \n",
       "953d844e-858d-4f06-a664-5a74e77e2766  NaN   \n",
       "75e5337b-5962-45eb-9acd-45788497bf4d  NaN   \n",
       "8d95247d-3f55-46e8-8fc5-42604d50df70  NaN   \n",
       "f419c1d8-3062-4c0f-a42d-729f6020966d  NaN   \n",
       "\n",
       "                                                                                 images  \\\n",
       "id                                                                                        \n",
       "b87065f4-5db8-4fde-8371-93fbec783f10  [https://i.abcnewsfe.com/a/a150a26a-eef0-4ebb-...   \n",
       "953d844e-858d-4f06-a664-5a74e77e2766  [https://cdn.vox-cdn.com/thumbor/rodkS6uNARTTL...   \n",
       "75e5337b-5962-45eb-9acd-45788497bf4d  [https://a57.foxnews.com/static.foxnews.com/fo...   \n",
       "8d95247d-3f55-46e8-8fc5-42604d50df70  [https://platform.vox.com/wp-content/uploads/s...   \n",
       "f419c1d8-3062-4c0f-a42d-729f6020966d  [https://duet-cdn.vox-cdn.com/thumbor/0x0:2040...   \n",
       "\n",
       "                                      event_id  keyword_count  \n",
       "id                                                             \n",
       "b87065f4-5db8-4fde-8371-93fbec783f10       NaN              5  \n",
       "953d844e-858d-4f06-a664-5a74e77e2766       NaN              5  \n",
       "75e5337b-5962-45eb-9acd-45788497bf4d       NaN              3  \n",
       "8d95247d-3f55-46e8-8fc5-42604d50df70       NaN              2  \n",
       "f419c1d8-3062-4c0f-a42d-729f6020966d       NaN              2  "
      ]
     },
     "execution_count": 49,
     "metadata": {},
     "output_type": "execute_result"
    }
   ],
   "source": [
    "# Searching for similar articles from keywords\n",
    "keywords = ['block', 'philladelphia', 'judge', 'denies', 'declines', 'musk', 'pennsylvania', 'million']\n",
    "\n",
    "temp_df = df.copy()\n",
    "temp_df['keyword_count'] = temp_df['title'].apply(lambda x: sum(keyword.lower() in x.lower() for keyword in keywords))\n",
    "temp_df = temp_df[temp_df['keyword_count'] > 0].sort_values(by='keyword_count', ascending=False)\n",
    "temp_df.loc[temp_df['keyword_count'] > 1]"
   ]
  },
  {
   "cell_type": "code",
   "execution_count": 50,
   "metadata": {},
   "outputs": [],
   "source": [
    "case_1_ids = [\n",
    "  '953d844e-858d-4f06-a664-5a74e77e2766',\n",
    "  '75e5337b-5962-45eb-9acd-45788497bf4d',\n",
    "  'b87065f4-5db8-4fde-8371-93fbec783f10',\n",
    "]"
   ]
  },
  {
   "cell_type": "code",
   "execution_count": 51,
   "metadata": {},
   "outputs": [
    {
     "name": "stderr",
     "output_type": "stream",
     "text": [
      "/tmp/ipykernel_58170/1315557084.py:2: FutureWarning: Setting an item of incompatible dtype is deprecated and will raise an error in a future version of pandas. Value 'case_1' has dtype incompatible with float64, please explicitly cast to a compatible dtype first.\n",
      "  df.loc[case_1_ids, 'event_id'] = 'case_1'\n"
     ]
    }
   ],
   "source": [
    "# Assigning the event_id to the selected articles\n",
    "df.loc[case_1_ids, 'event_id'] = 'case_1'"
   ]
  },
  {
   "cell_type": "markdown",
   "metadata": {},
   "source": [
    "### Case 2"
   ]
  },
  {
   "cell_type": "code",
   "execution_count": 52,
   "metadata": {},
   "outputs": [
    {
     "data": {
      "text/plain": [
       "title               Apple users can soon upgrade to ChatGPT Plus w...\n",
       "author              [Maxwell Zeff, Devin Coldewey, Manish Singh, K...\n",
       "publication_date                                                  NaT\n",
       "source                                                     TechCrunch\n",
       "url                 https://techcrunch.com/2024/11/04/apple-users-...\n",
       "summary                                                           NaN\n",
       "content             Apple products are getting an integration with...\n",
       "tags                       [Apple, ChatGPT Plus, OpenAI, ChatGPT, AI]\n",
       "images              [https://techcrunch.com/wp-content/uploads/202...\n",
       "event_id                                                          NaN\n",
       "Name: 726a7000-dde4-4299-b964-fffbbb41490f, dtype: object"
      ]
     },
     "execution_count": 52,
     "metadata": {},
     "output_type": "execute_result"
    }
   ],
   "source": [
    "# Select random article from the dataset\n",
    "df.loc['726a7000-dde4-4299-b964-fffbbb41490f']"
   ]
  },
  {
   "cell_type": "code",
   "execution_count": 53,
   "metadata": {},
   "outputs": [
    {
     "data": {
      "text/html": [
       "<div>\n",
       "<style scoped>\n",
       "    .dataframe tbody tr th:only-of-type {\n",
       "        vertical-align: middle;\n",
       "    }\n",
       "\n",
       "    .dataframe tbody tr th {\n",
       "        vertical-align: top;\n",
       "    }\n",
       "\n",
       "    .dataframe thead th {\n",
       "        text-align: right;\n",
       "    }\n",
       "</style>\n",
       "<table border=\"1\" class=\"dataframe\">\n",
       "  <thead>\n",
       "    <tr style=\"text-align: right;\">\n",
       "      <th></th>\n",
       "      <th>title</th>\n",
       "      <th>author</th>\n",
       "      <th>publication_date</th>\n",
       "      <th>source</th>\n",
       "      <th>url</th>\n",
       "      <th>summary</th>\n",
       "      <th>content</th>\n",
       "      <th>tags</th>\n",
       "      <th>images</th>\n",
       "      <th>event_id</th>\n",
       "      <th>keyword_count</th>\n",
       "    </tr>\n",
       "    <tr>\n",
       "      <th>id</th>\n",
       "      <th></th>\n",
       "      <th></th>\n",
       "      <th></th>\n",
       "      <th></th>\n",
       "      <th></th>\n",
       "      <th></th>\n",
       "      <th></th>\n",
       "      <th></th>\n",
       "      <th></th>\n",
       "      <th></th>\n",
       "      <th></th>\n",
       "    </tr>\n",
       "  </thead>\n",
       "  <tbody>\n",
       "    <tr>\n",
       "      <th>726a7000-dde4-4299-b964-fffbbb41490f</th>\n",
       "      <td>Apple users can soon upgrade to ChatGPT Plus w...</td>\n",
       "      <td>[Maxwell Zeff, Devin Coldewey, Manish Singh, K...</td>\n",
       "      <td>NaT</td>\n",
       "      <td>TechCrunch</td>\n",
       "      <td>https://techcrunch.com/2024/11/04/apple-users-...</td>\n",
       "      <td>NaN</td>\n",
       "      <td>Apple products are getting an integration with...</td>\n",
       "      <td>[Apple, ChatGPT Plus, OpenAI, ChatGPT, AI]</td>\n",
       "      <td>[https://techcrunch.com/wp-content/uploads/202...</td>\n",
       "      <td>NaN</td>\n",
       "      <td>3</td>\n",
       "    </tr>\n",
       "    <tr>\n",
       "      <th>141ce42e-29ea-41e1-a670-a9da3fa26e39</th>\n",
       "      <td>Apple will let you upgrade to ChatGPT Plus rig...</td>\n",
       "      <td>[Jay Peters, A News Editor Who Writes About Te...</td>\n",
       "      <td>NaT</td>\n",
       "      <td>The Verge</td>\n",
       "      <td>https://www.theverge.com/2024/11/4/24288015/ap...</td>\n",
       "      <td>NaN</td>\n",
       "      <td>Apple’s second iOS 18.2 developer beta include...</td>\n",
       "      <td>NaN</td>\n",
       "      <td>[https://www.theverge.com/icons/native-ad-plac...</td>\n",
       "      <td>NaN</td>\n",
       "      <td>3</td>\n",
       "    </tr>\n",
       "  </tbody>\n",
       "</table>\n",
       "</div>"
      ],
      "text/plain": [
       "                                                                                  title  \\\n",
       "id                                                                                        \n",
       "726a7000-dde4-4299-b964-fffbbb41490f  Apple users can soon upgrade to ChatGPT Plus w...   \n",
       "141ce42e-29ea-41e1-a670-a9da3fa26e39  Apple will let you upgrade to ChatGPT Plus rig...   \n",
       "\n",
       "                                                                                 author  \\\n",
       "id                                                                                        \n",
       "726a7000-dde4-4299-b964-fffbbb41490f  [Maxwell Zeff, Devin Coldewey, Manish Singh, K...   \n",
       "141ce42e-29ea-41e1-a670-a9da3fa26e39  [Jay Peters, A News Editor Who Writes About Te...   \n",
       "\n",
       "                                     publication_date      source  \\\n",
       "id                                                                  \n",
       "726a7000-dde4-4299-b964-fffbbb41490f              NaT  TechCrunch   \n",
       "141ce42e-29ea-41e1-a670-a9da3fa26e39              NaT   The Verge   \n",
       "\n",
       "                                                                                    url  \\\n",
       "id                                                                                        \n",
       "726a7000-dde4-4299-b964-fffbbb41490f  https://techcrunch.com/2024/11/04/apple-users-...   \n",
       "141ce42e-29ea-41e1-a670-a9da3fa26e39  https://www.theverge.com/2024/11/4/24288015/ap...   \n",
       "\n",
       "                                     summary  \\\n",
       "id                                             \n",
       "726a7000-dde4-4299-b964-fffbbb41490f     NaN   \n",
       "141ce42e-29ea-41e1-a670-a9da3fa26e39     NaN   \n",
       "\n",
       "                                                                                content  \\\n",
       "id                                                                                        \n",
       "726a7000-dde4-4299-b964-fffbbb41490f  Apple products are getting an integration with...   \n",
       "141ce42e-29ea-41e1-a670-a9da3fa26e39  Apple’s second iOS 18.2 developer beta include...   \n",
       "\n",
       "                                                                            tags  \\\n",
       "id                                                                                 \n",
       "726a7000-dde4-4299-b964-fffbbb41490f  [Apple, ChatGPT Plus, OpenAI, ChatGPT, AI]   \n",
       "141ce42e-29ea-41e1-a670-a9da3fa26e39                                         NaN   \n",
       "\n",
       "                                                                                 images  \\\n",
       "id                                                                                        \n",
       "726a7000-dde4-4299-b964-fffbbb41490f  [https://techcrunch.com/wp-content/uploads/202...   \n",
       "141ce42e-29ea-41e1-a670-a9da3fa26e39  [https://www.theverge.com/icons/native-ad-plac...   \n",
       "\n",
       "                                     event_id  keyword_count  \n",
       "id                                                            \n",
       "726a7000-dde4-4299-b964-fffbbb41490f      NaN              3  \n",
       "141ce42e-29ea-41e1-a670-a9da3fa26e39      NaN              3  "
      ]
     },
     "execution_count": 53,
     "metadata": {},
     "output_type": "execute_result"
    }
   ],
   "source": [
    "# Searching for similar articles from keywords\n",
    "keywords = ['apple', 'chatgpt', 'plus']\n",
    "\n",
    "temp_df = df.copy()\n",
    "temp_df['keyword_count'] = temp_df['title'].apply(lambda x: sum(keyword.lower() in x.lower() for keyword in keywords))\n",
    "temp_df = temp_df[temp_df['keyword_count'] > 0].sort_values(by='keyword_count', ascending=False)\n",
    "temp_df.loc[temp_df['keyword_count'] > 1]"
   ]
  },
  {
   "cell_type": "code",
   "execution_count": 54,
   "metadata": {},
   "outputs": [],
   "source": [
    "case_2_ids = [\n",
    "  '726a7000-dde4-4299-b964-fffbbb41490f',\n",
    "  '141ce42e-29ea-41e1-a670-a9da3fa26e39',\n",
    "]"
   ]
  },
  {
   "cell_type": "code",
   "execution_count": 55,
   "metadata": {},
   "outputs": [],
   "source": [
    "# Assigning the event_id to the selected articles\n",
    "df.loc[case_2_ids, 'event_id'] = 'case_2'"
   ]
  },
  {
   "cell_type": "markdown",
   "metadata": {},
   "source": [
    "### Case 3"
   ]
  },
  {
   "cell_type": "code",
   "execution_count": 56,
   "metadata": {},
   "outputs": [
    {
     "data": {
      "text/plain": [
       "title               Heidi Klum unveils Halloween costume as ET wit...\n",
       "author              [Stephanie Giang-Paunon Larry Fink, Stephanie ...\n",
       "publication_date                                                  NaT\n",
       "source                                                       FOX News\n",
       "url                 https://www.foxnews.com/entertainment/heidi-kl...\n",
       "summary                                                           NaN\n",
       "content             The queen of Halloween, Heidi Klum, was \"out o...\n",
       "tags                                                [#HeidiHalloween]\n",
       "images              [https://a57.foxnews.com/static.foxnews.com/fo...\n",
       "event_id                                                          NaN\n",
       "Name: eafa01c6-3078-49bf-913f-71697594fe1b, dtype: object"
      ]
     },
     "execution_count": 56,
     "metadata": {},
     "output_type": "execute_result"
    }
   ],
   "source": [
    "# Select random article from the dataset\n",
    "df.loc['eafa01c6-3078-49bf-913f-71697594fe1b']"
   ]
  },
  {
   "cell_type": "code",
   "execution_count": 57,
   "metadata": {},
   "outputs": [
    {
     "data": {
      "text/html": [
       "<div>\n",
       "<style scoped>\n",
       "    .dataframe tbody tr th:only-of-type {\n",
       "        vertical-align: middle;\n",
       "    }\n",
       "\n",
       "    .dataframe tbody tr th {\n",
       "        vertical-align: top;\n",
       "    }\n",
       "\n",
       "    .dataframe thead th {\n",
       "        text-align: right;\n",
       "    }\n",
       "</style>\n",
       "<table border=\"1\" class=\"dataframe\">\n",
       "  <thead>\n",
       "    <tr style=\"text-align: right;\">\n",
       "      <th></th>\n",
       "      <th>title</th>\n",
       "      <th>author</th>\n",
       "      <th>publication_date</th>\n",
       "      <th>source</th>\n",
       "      <th>url</th>\n",
       "      <th>summary</th>\n",
       "      <th>content</th>\n",
       "      <th>tags</th>\n",
       "      <th>images</th>\n",
       "      <th>event_id</th>\n",
       "      <th>keyword_count</th>\n",
       "    </tr>\n",
       "    <tr>\n",
       "      <th>id</th>\n",
       "      <th></th>\n",
       "      <th></th>\n",
       "      <th></th>\n",
       "      <th></th>\n",
       "      <th></th>\n",
       "      <th></th>\n",
       "      <th></th>\n",
       "      <th></th>\n",
       "      <th></th>\n",
       "      <th></th>\n",
       "      <th></th>\n",
       "    </tr>\n",
       "  </thead>\n",
       "  <tbody>\n",
       "    <tr>\n",
       "      <th>d2e0859a-5cbf-4533-8207-6beb173b532d</th>\n",
       "      <td>Heidi Klum claims she was a man in her past li...</td>\n",
       "      <td>[Heidi Parker, Heidi Parker For Dailymail.Com,...</td>\n",
       "      <td>NaT</td>\n",
       "      <td>Daily Mail</td>\n",
       "      <td>https://www.dailymail.co.uk/tvshowbiz/article-...</td>\n",
       "      <td>NaN</td>\n",
       "      <td>Heidi Klum believes she has 'lived many lives ...</td>\n",
       "      <td>NaN</td>\n",
       "      <td>[https://i.dailymail.co.uk/1s/2024/10/31/18/91...</td>\n",
       "      <td>NaN</td>\n",
       "      <td>2</td>\n",
       "    </tr>\n",
       "    <tr>\n",
       "      <th>eafa01c6-3078-49bf-913f-71697594fe1b</th>\n",
       "      <td>Heidi Klum unveils Halloween costume as ET wit...</td>\n",
       "      <td>[Stephanie Giang-Paunon Larry Fink, Stephanie ...</td>\n",
       "      <td>NaT</td>\n",
       "      <td>FOX News</td>\n",
       "      <td>https://www.foxnews.com/entertainment/heidi-kl...</td>\n",
       "      <td>NaN</td>\n",
       "      <td>The queen of Halloween, Heidi Klum, was \"out o...</td>\n",
       "      <td>[#HeidiHalloween]</td>\n",
       "      <td>[https://a57.foxnews.com/static.foxnews.com/fo...</td>\n",
       "      <td>NaN</td>\n",
       "      <td>2</td>\n",
       "    </tr>\n",
       "    <tr>\n",
       "      <th>6e353ebb-749d-4520-be04-650305979a44</th>\n",
       "      <td>Heidi Klum Dresses as E.T. for Her Annual Hall...</td>\n",
       "      <td>NaN</td>\n",
       "      <td>NaT</td>\n",
       "      <td>TMZ</td>\n",
       "      <td>https://www.tmz.com/2024/11/01/heidi-klum-et-c...</td>\n",
       "      <td>NaN</td>\n",
       "      <td>Heidi Klum's Halloween bash is always a wild e...</td>\n",
       "      <td>NaN</td>\n",
       "      <td>[https://imagez.tmz.com/image/92/16by9/2024/10...</td>\n",
       "      <td>NaN</td>\n",
       "      <td>2</td>\n",
       "    </tr>\n",
       "    <tr>\n",
       "      <th>b04e63ae-de09-4c62-811f-649d80545ada</th>\n",
       "      <td>HEIDI ALEXANDER: Potholes have plagued drivers...</td>\n",
       "      <td>[Heidi Alexander,Transport Secretary]</td>\n",
       "      <td>NaT</td>\n",
       "      <td>Daily Mail</td>\n",
       "      <td>https://www.dailymail.co.uk/debate/article-142...</td>\n",
       "      <td>NaN</td>\n",
       "      <td>Potholes have plagued drivers across the count...</td>\n",
       "      <td>NaN</td>\n",
       "      <td>[https://i.dailymail.co.uk/1s/2024/12/19/16/93...</td>\n",
       "      <td>NaN</td>\n",
       "      <td>1</td>\n",
       "    </tr>\n",
       "  </tbody>\n",
       "</table>\n",
       "</div>"
      ],
      "text/plain": [
       "                                                                                  title  \\\n",
       "id                                                                                        \n",
       "d2e0859a-5cbf-4533-8207-6beb173b532d  Heidi Klum claims she was a man in her past li...   \n",
       "eafa01c6-3078-49bf-913f-71697594fe1b  Heidi Klum unveils Halloween costume as ET wit...   \n",
       "6e353ebb-749d-4520-be04-650305979a44  Heidi Klum Dresses as E.T. for Her Annual Hall...   \n",
       "b04e63ae-de09-4c62-811f-649d80545ada  HEIDI ALEXANDER: Potholes have plagued drivers...   \n",
       "\n",
       "                                                                                 author  \\\n",
       "id                                                                                        \n",
       "d2e0859a-5cbf-4533-8207-6beb173b532d  [Heidi Parker, Heidi Parker For Dailymail.Com,...   \n",
       "eafa01c6-3078-49bf-913f-71697594fe1b  [Stephanie Giang-Paunon Larry Fink, Stephanie ...   \n",
       "6e353ebb-749d-4520-be04-650305979a44                                                NaN   \n",
       "b04e63ae-de09-4c62-811f-649d80545ada              [Heidi Alexander,Transport Secretary]   \n",
       "\n",
       "                                     publication_date      source  \\\n",
       "id                                                                  \n",
       "d2e0859a-5cbf-4533-8207-6beb173b532d              NaT  Daily Mail   \n",
       "eafa01c6-3078-49bf-913f-71697594fe1b              NaT    FOX News   \n",
       "6e353ebb-749d-4520-be04-650305979a44              NaT         TMZ   \n",
       "b04e63ae-de09-4c62-811f-649d80545ada              NaT  Daily Mail   \n",
       "\n",
       "                                                                                    url  \\\n",
       "id                                                                                        \n",
       "d2e0859a-5cbf-4533-8207-6beb173b532d  https://www.dailymail.co.uk/tvshowbiz/article-...   \n",
       "eafa01c6-3078-49bf-913f-71697594fe1b  https://www.foxnews.com/entertainment/heidi-kl...   \n",
       "6e353ebb-749d-4520-be04-650305979a44  https://www.tmz.com/2024/11/01/heidi-klum-et-c...   \n",
       "b04e63ae-de09-4c62-811f-649d80545ada  https://www.dailymail.co.uk/debate/article-142...   \n",
       "\n",
       "                                     summary  \\\n",
       "id                                             \n",
       "d2e0859a-5cbf-4533-8207-6beb173b532d     NaN   \n",
       "eafa01c6-3078-49bf-913f-71697594fe1b     NaN   \n",
       "6e353ebb-749d-4520-be04-650305979a44     NaN   \n",
       "b04e63ae-de09-4c62-811f-649d80545ada     NaN   \n",
       "\n",
       "                                                                                content  \\\n",
       "id                                                                                        \n",
       "d2e0859a-5cbf-4533-8207-6beb173b532d  Heidi Klum believes she has 'lived many lives ...   \n",
       "eafa01c6-3078-49bf-913f-71697594fe1b  The queen of Halloween, Heidi Klum, was \"out o...   \n",
       "6e353ebb-749d-4520-be04-650305979a44  Heidi Klum's Halloween bash is always a wild e...   \n",
       "b04e63ae-de09-4c62-811f-649d80545ada  Potholes have plagued drivers across the count...   \n",
       "\n",
       "                                                   tags  \\\n",
       "id                                                        \n",
       "d2e0859a-5cbf-4533-8207-6beb173b532d                NaN   \n",
       "eafa01c6-3078-49bf-913f-71697594fe1b  [#HeidiHalloween]   \n",
       "6e353ebb-749d-4520-be04-650305979a44                NaN   \n",
       "b04e63ae-de09-4c62-811f-649d80545ada                NaN   \n",
       "\n",
       "                                                                                 images  \\\n",
       "id                                                                                        \n",
       "d2e0859a-5cbf-4533-8207-6beb173b532d  [https://i.dailymail.co.uk/1s/2024/10/31/18/91...   \n",
       "eafa01c6-3078-49bf-913f-71697594fe1b  [https://a57.foxnews.com/static.foxnews.com/fo...   \n",
       "6e353ebb-749d-4520-be04-650305979a44  [https://imagez.tmz.com/image/92/16by9/2024/10...   \n",
       "b04e63ae-de09-4c62-811f-649d80545ada  [https://i.dailymail.co.uk/1s/2024/12/19/16/93...   \n",
       "\n",
       "                                     event_id  keyword_count  \n",
       "id                                                            \n",
       "d2e0859a-5cbf-4533-8207-6beb173b532d      NaN              2  \n",
       "eafa01c6-3078-49bf-913f-71697594fe1b      NaN              2  \n",
       "6e353ebb-749d-4520-be04-650305979a44      NaN              2  \n",
       "b04e63ae-de09-4c62-811f-649d80545ada      NaN              1  "
      ]
     },
     "execution_count": 57,
     "metadata": {},
     "output_type": "execute_result"
    }
   ],
   "source": [
    "# Searching for similar articles from keywords\n",
    "keywords = ['heidi', 'klum']\n",
    "\n",
    "temp_df = df.copy()\n",
    "temp_df['keyword_count'] = temp_df['title'].apply(lambda x: sum(keyword.lower() in x.lower() for keyword in keywords))\n",
    "temp_df = temp_df[temp_df['keyword_count'] > 0].sort_values(by='keyword_count', ascending=False)\n",
    "temp_df.loc[temp_df['keyword_count'] > 0]"
   ]
  },
  {
   "cell_type": "code",
   "execution_count": 58,
   "metadata": {},
   "outputs": [],
   "source": [
    "case_3_ids = [\n",
    "  'eafa01c6-3078-49bf-913f-71697594fe1b',\n",
    "  '6e353ebb-749d-4520-be04-650305979a44'\n",
    "]"
   ]
  },
  {
   "cell_type": "code",
   "execution_count": 59,
   "metadata": {},
   "outputs": [],
   "source": [
    "# Assigning the event_id to the selected articles\n",
    "df.loc[case_3_ids, 'event_id'] = 'case_3'"
   ]
  },
  {
   "cell_type": "markdown",
   "metadata": {},
   "source": [
    "### Uncategorized articles"
   ]
  },
  {
   "cell_type": "markdown",
   "metadata": {},
   "source": [
    "Let's just mark them as 'none'"
   ]
  },
  {
   "cell_type": "code",
   "execution_count": 60,
   "metadata": {},
   "outputs": [
    {
     "data": {
      "text/plain": [
       "event_id\n",
       "case_1    3\n",
       "case_2    2\n",
       "case_3    2\n",
       "Name: count, dtype: int64"
      ]
     },
     "execution_count": 60,
     "metadata": {},
     "output_type": "execute_result"
    }
   ],
   "source": [
    "df['event_id'].value_counts()"
   ]
  },
  {
   "cell_type": "code",
   "execution_count": 61,
   "metadata": {},
   "outputs": [],
   "source": [
    "df.loc[df['event_id'].isna(), ['event_id']] = 'none'"
   ]
  },
  {
   "cell_type": "code",
   "execution_count": 62,
   "metadata": {},
   "outputs": [
    {
     "data": {
      "text/plain": [
       "event_id\n",
       "none      2970\n",
       "case_1       3\n",
       "case_2       2\n",
       "case_3       2\n",
       "Name: count, dtype: int64"
      ]
     },
     "execution_count": 62,
     "metadata": {},
     "output_type": "execute_result"
    }
   ],
   "source": [
    "df['event_id'].value_counts()"
   ]
  },
  {
   "cell_type": "markdown",
   "metadata": {},
   "source": [
    "## Save the cleaned data\n",
    "\n",
    "Finally, we'll save the cleaned data as a pickle file for further analysis."
   ]
  },
  {
   "cell_type": "code",
   "execution_count": 63,
   "metadata": {},
   "outputs": [],
   "source": [
    "with open('./df.pkl', 'wb') as f:\n",
    "    pickle.dump(df, f)"
   ]
  }
 ],
 "metadata": {
  "kernelspec": {
   "display_name": ".venv",
   "language": "python",
   "name": "python3"
  },
  "language_info": {
   "codemirror_mode": {
    "name": "ipython",
    "version": 3
   },
   "file_extension": ".py",
   "mimetype": "text/x-python",
   "name": "python",
   "nbconvert_exporter": "python",
   "pygments_lexer": "ipython3",
   "version": "3.12.1"
  }
 },
 "nbformat": 4,
 "nbformat_minor": 2
}
